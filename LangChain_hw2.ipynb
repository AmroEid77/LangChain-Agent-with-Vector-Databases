{
 "cells": [
  {
   "cell_type": "code",
   "execution_count": 1,
   "metadata": {},
   "outputs": [
    {
     "name": "stderr",
     "output_type": "stream",
     "text": [
      "c:\\Users\\amroe\\anaconda3\\envs\\agents\\Lib\\site-packages\\tqdm\\auto.py:21: TqdmWarning: IProgress not found. Please update jupyter and ipywidgets. See https://ipywidgets.readthedocs.io/en/stable/user_install.html\n",
      "  from .autonotebook import tqdm as notebook_tqdm\n"
     ]
    }
   ],
   "source": [
    "# imports\n",
    "import os\n",
    "import glob\n",
    "from dotenv import load_dotenv\n",
    "import numpy as np\n",
    "import pandas as pd\n",
    "\n",
    "from sklearn.manifold import TSNE\n",
    "from sklearn.metrics.pairwise import cosine_similarity\n",
    "from sklearn.metrics import ndcg_score\n",
    "\n",
    "\n",
    "import plotly.graph_objects as go\n",
    "import plotly.express as px\n",
    "from plotly.subplots import make_subplots\n",
    "\n",
    "from langchain.document_loaders import DirectoryLoader, TextLoader\n",
    "from langchain.text_splitter import CharacterTextSplitter\n",
    "from langchain_openai import ChatOpenAI, OpenAI\n",
    "from langchain_chroma import Chroma\n",
    "from langchain.memory import ConversationBufferMemory\n",
    "from langchain.chains import ConversationalRetrievalChain\n",
    "from langchain_huggingface import HuggingFaceEmbeddings\n",
    "from langchain_community.chat_models import ChatOllama\n",
    "\n",
    "import faiss\n",
    "\n",
    "from IPython.display import display, Markdown\n",
    "\n",
    "import gradio as gr\n",
    "\n",
    "import warnings\n"
   ]
  },
  {
   "cell_type": "code",
   "execution_count": 2,
   "metadata": {},
   "outputs": [],
   "source": [
    "warnings.filterwarnings('ignore')\n"
   ]
  },
  {
   "cell_type": "code",
   "execution_count": 3,
   "metadata": {},
   "outputs": [
    {
     "data": {
      "text/plain": [
       "True"
      ]
     },
     "execution_count": 3,
     "metadata": {},
     "output_type": "execute_result"
    }
   ],
   "source": [
    "load_dotenv(override=True)"
   ]
  },
  {
   "cell_type": "code",
   "execution_count": 4,
   "metadata": {},
   "outputs": [
    {
     "name": "stdout",
     "output_type": "stream",
     "text": [
      "Llama API Key exists and begins sk-or-v1\n",
      "Qwen API Key exists and begins sk-or-v\n",
      "Google API Key exists and begins sk-or-v1\n",
      "DeepSeek R1 API Key exists and begins sk-or-v1\n"
     ]
    },
    {
     "data": {
      "text/plain": [
       "'\\nmeta_model = \"llama3.2\"\\nmeta = OpenAI(base_url=\\'http://localhost:11434/v1\\', api_key=\\'ollama\\')\\n'"
      ]
     },
     "execution_count": 4,
     "metadata": {},
     "output_type": "execute_result"
    }
   ],
   "source": [
    "# API keys and their display names\n",
    "api_keys = {\n",
    "    'LLAMA_API_KEY': {'name': 'Llama', 'prefix_len': 8},\n",
    "    'QWEN_API_KEY': {'name': 'Qwen', 'prefix_len': 7},\n",
    "    'GOOGLE_API_KEY': {'name': 'Google', 'prefix_len': 8},\n",
    "    'DEEPSEEK_API_KEY': {'name': 'DeepSeek R1', 'prefix_len': 8}\n",
    "}\n",
    "\n",
    "# Check and display status for each API key\n",
    "for key_name, info in api_keys.items():\n",
    "    api_key = os.getenv(key_name)\n",
    "    if api_key:\n",
    "        print(f\"{info['name']} API Key exists and begins {api_key[:info['prefix_len']]}\")\n",
    "    else:\n",
    "        print(f\"{info['name']} API Key not set\")\n",
    "\n",
    "# Alternative Ollama configuration \n",
    "\"\"\"\n",
    "meta_model = \"llama3.2\"\n",
    "meta = OpenAI(base_url='http://localhost:11434/v1', api_key='ollama')\n",
    "\"\"\""
   ]
  },
  {
   "cell_type": "markdown",
   "metadata": {},
   "source": [
    "### The name of the vector database that will store our document embeddings for semantic search\n"
   ]
  },
  {
   "cell_type": "code",
   "execution_count": 5,
   "metadata": {},
   "outputs": [],
   "source": [
    "db_name = \"vector_store\""
   ]
  },
  {
   "cell_type": "code",
   "execution_count": 6,
   "metadata": {},
   "outputs": [],
   "source": [
    "# Read in documents using LangChain's loaders\n",
    "# Take everything in all the sub-folders of our knowledgebase\n",
    "folders = glob.glob(\"knowledge-base2/\")\n",
    "text_loader_kwargs = {'encoding': 'utf-8'}\n",
    "# text_loader_kwargs={'autodetect_encoding': True}\n",
    "documents = []\n",
    "for folder in folders:  \n",
    "    loader = DirectoryLoader(folder, glob=\"**/*.txt\", loader_cls=TextLoader, loader_kwargs=text_loader_kwargs)\n",
    "    folder_docs = loader.load()\n",
    "    for doc in folder_docs:\n",
    "        file_name = os.path.basename(doc.metadata[\"source\"])\n",
    "        doc.metadata[\"doc_type\"] = os.path.splitext(file_name)[0]\n",
    "        documents.append(doc)"
   ]
  },
  {
   "cell_type": "markdown",
   "metadata": {},
   "source": [
    "### The total number of documents loaded from the knowledge base folders\n"
   ]
  },
  {
   "cell_type": "code",
   "execution_count": 7,
   "metadata": {},
   "outputs": [
    {
     "data": {
      "text/plain": [
       "51"
      ]
     },
     "execution_count": 7,
     "metadata": {},
     "output_type": "execute_result"
    }
   ],
   "source": [
    "len(documents)"
   ]
  },
  {
   "cell_type": "code",
   "execution_count": 8,
   "metadata": {},
   "outputs": [],
   "source": [
    "#documents"
   ]
  },
  {
   "cell_type": "code",
   "execution_count": 9,
   "metadata": {},
   "outputs": [
    {
     "data": {
      "text/plain": [
       "{'source': 'knowledge-base2\\\\Analytical Chemistry.txt',\n",
       " 'doc_type': 'Analytical Chemistry'}"
      ]
     },
     "execution_count": 9,
     "metadata": {},
     "output_type": "execute_result"
    }
   ],
   "source": [
    "documents[0].metadata"
   ]
  },
  {
   "cell_type": "code",
   "execution_count": 10,
   "metadata": {},
   "outputs": [],
   "source": [
    "text_splitter = CharacterTextSplitter(separator=\"\\n\", chunk_size=5000, chunk_overlap=300)\n",
    "chunks = text_splitter.split_documents(documents)"
   ]
  },
  {
   "cell_type": "markdown",
   "metadata": {},
   "source": [
    "### Get the total number of text chunks after splitting the documents\n"
   ]
  },
  {
   "cell_type": "code",
   "execution_count": 11,
   "metadata": {},
   "outputs": [
    {
     "data": {
      "text/plain": [
       "51"
      ]
     },
     "execution_count": 11,
     "metadata": {},
     "output_type": "execute_result"
    }
   ],
   "source": [
    "len(chunks)"
   ]
  },
  {
   "cell_type": "code",
   "execution_count": 12,
   "metadata": {},
   "outputs": [
    {
     "data": {
      "text/plain": [
       "Document(metadata={'source': 'knowledge-base2\\\\Biotechnology.txt', 'doc_type': 'Biotechnology'}, page_content=\"Biotechnology is a broad field that harnesses biological processes, organisms, or systems to produce products or services that benefit humanity. It integrates principles from biology, chemistry, engineering, and computer science to develop innovative solutions in various sectors, including medicine, agriculture, industry, and environmental protection. At its core, biotechnology involves manipulating living organisms or their components to achieve specific goals.\\nIn medicine, biotechnology has revolutionized the diagnosis, prevention, and treatment of diseases. Recombinant DNA technology is used to produce therapeutic proteins like insulin and growth hormone. Monoclonal antibodies are engineered to target specific disease cells. Gene therapy aims to correct genetic defects. Diagnostic tests based on molecular techniques allow for early and accurate disease detection. The development of vaccines and antibiotics also heavily relies on biotechnological approaches. Personalized medicine, tailoring treatments to an individual's genetic makeup, is a rapidly advancing area within medical biotechnology.\\nIn agriculture, biotechnology is used to develop genetically modified crops with improved yields, resistance to pests and diseases, and enhanced nutritional content. This can help address food security challenges and reduce the need for chemical pesticides. Industrial biotechnology utilizes enzymes and microorganisms to produce biofuels, chemicals, and materials in a more sustainable and environmentally friendly manner. Environmental biotechnology focuses on using biological processes to clean up pollution, treat wastewater, and monitor environmental health. While offering immense potential, biotechnology also raises ethical, social, and environmental considerations that require careful evaluation and regulation. The field continues to evolve rapidly, driven by advancements in genomics, proteomics, and synthetic biology.\")"
      ]
     },
     "execution_count": 12,
     "metadata": {},
     "output_type": "execute_result"
    }
   ],
   "source": [
    "chunks[5]"
   ]
  },
  {
   "cell_type": "code",
   "execution_count": 13,
   "metadata": {},
   "outputs": [
    {
     "name": "stdout",
     "output_type": "stream",
     "text": [
      "Document types found: Electromagnetism, Semiconductor Physics, Calculus_, fluid_dynamics, structural_engineering, organic_chemistry, pharmacokinetics, Fluid mechanics, Probability and Statistics, quantum_computing, Control Systems Engineering, Linear algebra, Numerical Methods, Thermodynamics, Immunology, Pharmaceutical Chemistry, semiconductor_physics, thermodynamics_1, immunology_1, machine_learning, Materials Science Engineering, Chemical Thermodynamics, Pharmacology, Biotechnology, Ecology, Numerical Analysis, Clinical Pharmacy, nanotechnology, Analytical Chemistry, molecular_biology, differential_equations, cryptography, Molecular biology, Organic Chemistry, Biomaterials Engineering, astrophysics, biochemistry, Data structures, neural_networks, database_systems, genetic_engineering, Renewable energy, optics, Protein Chemistry, Quantum Mechanics, Artificial Intelligence, polymer_science, Genetic Engineering, Software Engineering, Physical Chemistry, Genetics\n"
     ]
    }
   ],
   "source": [
    "doc_types = set(chunk.metadata['doc_type'] for chunk in chunks)\n",
    "print(f\"Document types found: {', '.join(doc_types)}\")"
   ]
  },
  {
   "cell_type": "markdown",
   "metadata": {},
   "source": [
    "#### This is a naive string search approach that has several limitations:\n",
    "#### 1. Case sensitivity - will miss \"Who is Rasheed\" or \"WHO IS RASHEED\"\n",
    "#### 2. No semantic understanding - won't find variations like \"tell me about Rasheed\" or \"Rasheed's background\"\n",
    "#### 3. No fuzzy matching - won't catch typos or slight variations\n",
    "#### 4. Inefficient - scans every chunk sequentially\n",
    "#### 5. No ranking of results by relevance"
   ]
  },
  {
   "cell_type": "code",
   "execution_count": 14,
   "metadata": {},
   "outputs": [],
   "source": [
    "# Normal search\n",
    "for chunk in chunks:\n",
    "    if 'who is Rasheed' in chunk.page_content:\n",
    "        print(chunk.metadata['source'], chunk)\n",
    "        print(\"--------------------------------------\")"
   ]
  },
  {
   "cell_type": "markdown",
   "metadata": {},
   "source": [
    "### `From the lecutres`"
   ]
  },
  {
   "cell_type": "code",
   "execution_count": 15,
   "metadata": {},
   "outputs": [],
   "source": [
    "\n",
    "# embeddings = OpenAIEmbeddings()\n",
    "# If you would rather use the free Vector Embeddings from HuggingFace sentence-transformers\n",
    "# Then replace embeddings = OpenAIEmbeddings()\n",
    "# with:\n",
    "# A text embedding is a numerical representation of a text, usually as a dense vector of real numbers. \n",
    "# It captures semantic meaning in a format models can understand and compare.\n",
    "embeddings = HuggingFaceEmbeddings(model_name=\"sentence-transformers/all-MiniLM-L6-v2\")"
   ]
  },
  {
   "cell_type": "code",
   "execution_count": 16,
   "metadata": {},
   "outputs": [],
   "source": [
    "# A tokenizer is a tool that breaks text into smaller units called tokens, which are the basic pieces of input that a language model processes.\n",
    "# The following code is only to understand tokens (It is not part of the RAG example code)\n",
    "# from transformers import AutoTokenizer\n",
    "# query = \"who is Mohammad Rasheed?\"\n",
    "\n",
    "# tokenizer = AutoTokenizer.from_pretrained(\"sentence-transformers/all-MiniLM-L6-v2\")\n",
    "# tokens = tokenizer.tokenize(query)\n",
    "# token_ids = tokenizer.encode(query, add_special_tokens=True)\n",
    "\n",
    "# print(\"Token Strings:\", tokens)\n",
    "# print(\"Token IDs:\", token_ids)\n",
    "\n",
    "# decoded = tokenizer.decode(token_ids[1])\n",
    "# print(decoded)  # You get the original text back"
   ]
  },
  {
   "cell_type": "markdown",
   "metadata": {},
   "source": [
    "### Check if we already have a Chroma database - if yes, remove it so we can start fresh\n"
   ]
  },
  {
   "cell_type": "code",
   "execution_count": 17,
   "metadata": {},
   "outputs": [],
   "source": [
    "\n",
    "if os.path.exists(db_name):\n",
    "    Chroma(persist_directory=db_name, embedding_function=embeddings).delete_collection()"
   ]
  },
  {
   "cell_type": "markdown",
   "metadata": {},
   "source": [
    "#### `Let's create our Chroma vector database!`\n",
    "#### We'll store our text chunks in a vector database, where each chunk gets its own vector embedding"
   ]
  },
  {
   "cell_type": "code",
   "execution_count": 18,
   "metadata": {},
   "outputs": [
    {
     "name": "stdout",
     "output_type": "stream",
     "text": [
      "Vectorstore created with 51 documents\n"
     ]
    }
   ],
   "source": [
    "vectorstore = Chroma.from_documents(documents=chunks, embedding=embeddings, persist_directory=db_name)\n",
    "print(f\"Vectorstore created with {vectorstore._collection.count()} documents\")"
   ]
  },
  {
   "cell_type": "code",
   "execution_count": 19,
   "metadata": {},
   "outputs": [],
   "source": [
    "# To read data from the vector store\n",
    "collection = vectorstore._collection\n",
    "ds = collection.get(include=['embeddings', 'documents', 'metadatas'])\n",
    "vectors = np.array(ds['embeddings'])\n",
    "docs = ds['documents']\n",
    "metadatas = ds['metadatas']\n",
    "\n",
    "# Get the dimension of our vectors\n",
    "d = vectors.shape[1]  # This should be 384 for our embeddings\n",
    "\n",
    "\n",
    "doc_types = [metadata['doc_type'] for metadata in ds['metadatas']]\n",
    "# colors = [['blue', 'green', 'red'][['departments_and_staff', 'about', 'services'].index(t)] for t in doc_types]"
   ]
  },
  {
   "cell_type": "markdown",
   "metadata": {},
   "source": [
    "#### `The dimension of the vector`"
   ]
  },
  {
   "cell_type": "code",
   "execution_count": 20,
   "metadata": {},
   "outputs": [
    {
     "data": {
      "text/plain": [
       "384"
      ]
     },
     "execution_count": 20,
     "metadata": {},
     "output_type": "execute_result"
    }
   ],
   "source": [
    "d"
   ]
  },
  {
   "cell_type": "code",
   "execution_count": 21,
   "metadata": {},
   "outputs": [
    {
     "name": "stdout",
     "output_type": "stream",
     "text": [
      "The vectors have 384 dimensions\n"
     ]
    }
   ],
   "source": [
    "# Get one vector and find how many dimensions it has\n",
    "sample_embedding = collection.get(limit=1, include=[\"embeddings\"])[\"embeddings\"][0]\n",
    "dimensions = len(sample_embedding)\n",
    "print(f\"The vectors have {dimensions:,} dimensions\")"
   ]
  },
  {
   "cell_type": "markdown",
   "metadata": {},
   "source": [
    "t-SNE stands for t-distributed Stochastic Neighbor Embedding. It is a dimensionality reduction algorithm commonly used for visualizing high-dimensional data.\n",
    "\n",
    "t-SNE takes data with many dimensions (e.g., 100D word embeddings or image features) and reduces it to 2 or 3 dimensions, making it easier to visualize patterns and clusters.\n",
    "Example: Visualizing 300-dimensional word embeddings (like Word2Vec or GloVe) in 2D space to understand how similar words are grouped.\n"
   ]
  },
  {
   "cell_type": "markdown",
   "metadata": {},
   "source": [
    "---\n",
    "### Data Visualization and Analysis Dashboard\n",
    "### We have an interactive dashboard to visualize and analyze document embeddings using t-SNE dimensionality reduction\n",
    "### The dashboard includes multiple plots to help understand document distributions, lengths, and clustering patterns\n"
   ]
  },
  {
   "cell_type": "code",
   "execution_count": 22,
   "metadata": {},
   "outputs": [
    {
     "data": {
      "application/vnd.plotly.v1+json": {
       "config": {
        "plotlyServerURL": "https://plot.ly"
       },
       "data": [
        {
         "hovertemplate": "%{text}<extra></extra>",
         "marker": {
          "color": "rgb(141,211,199)",
          "line": {
           "color": "white",
           "width": 1
          },
          "opacity": 0.8,
          "size": 10
         },
         "mode": "markers",
         "name": "Analytical Chemistry",
         "showlegend": true,
         "text": [
          "<b>Type:</b> Analytical Chemistry<br><b>Length:</b> 2019 chars<br><b>Preview:</b><br>Analytical Chemistry is the branch of chemistry that deals with the identification and quantification of chemical substances. It involves separating, identifying, and determining the relative amounts ..."
         ],
         "type": "scatter",
         "x": {
          "bdata": "A+6LwQ==",
          "dtype": "f4"
         },
         "xaxis": "x",
         "y": {
          "bdata": "8K4xQw==",
          "dtype": "f4"
         },
         "yaxis": "y"
        },
        {
         "hovertemplate": "%{text}<extra></extra>",
         "marker": {
          "color": "rgb(255,255,179)",
          "line": {
           "color": "white",
           "width": 1
          },
          "opacity": 0.8,
          "size": 10
         },
         "mode": "markers",
         "name": "Artificial Intelligence",
         "showlegend": true,
         "text": [
          "<b>Type:</b> Artificial Intelligence<br><b>Length:</b> 1771 chars<br><b>Preview:</b><br>Artificial Intelligence (AI) in computer science is the field dedicated to creating systems that can perform tasks that typically require human intelligence. This includes learning from experience, un..."
         ],
         "type": "scatter",
         "x": {
          "bdata": "VoWcQQ==",
          "dtype": "f4"
         },
         "xaxis": "x",
         "y": {
          "bdata": "+fasww==",
          "dtype": "f4"
         },
         "yaxis": "y"
        },
        {
         "hovertemplate": "%{text}<extra></extra>",
         "marker": {
          "color": "rgb(190,186,218)",
          "line": {
           "color": "white",
           "width": 1
          },
          "opacity": 0.8,
          "size": 10
         },
         "mode": "markers",
         "name": "astrophysics",
         "showlegend": true,
         "text": [
          "<b>Type:</b> astrophysics<br><b>Length:</b> 3905 chars<br><b>Preview:</b><br>Astrophysics\nAstrophysics merges physics and astronomy to investigate celestial objects and phenomena through physical principles, mathematical models, and observational data. This discipline spans en..."
         ],
         "type": "scatter",
         "x": {
          "bdata": "ppR7Qw==",
          "dtype": "f4"
         },
         "xaxis": "x",
         "y": {
          "bdata": "JP6QQw==",
          "dtype": "f4"
         },
         "yaxis": "y"
        },
        {
         "hovertemplate": "%{text}<extra></extra>",
         "marker": {
          "color": "rgb(251,128,114)",
          "line": {
           "color": "white",
           "width": 1
          },
          "opacity": 0.8,
          "size": 10
         },
         "mode": "markers",
         "name": "biochemistry",
         "showlegend": true,
         "text": [
          "<b>Type:</b> biochemistry<br><b>Length:</b> 4817 chars<br><b>Preview:</b><br>Biochemistry\nBiochemistry examines the molecular basis of life, investigating chemical processes and substances occurring within living organisms. This interdisciplinary field bridges chemistry and bi..."
         ],
         "type": "scatter",
         "x": {
          "bdata": "2gGHwg==",
          "dtype": "f4"
         },
         "xaxis": "x",
         "y": {
          "bdata": "v2P1wg==",
          "dtype": "f4"
         },
         "yaxis": "y"
        },
        {
         "hovertemplate": "%{text}<extra></extra>",
         "marker": {
          "color": "rgb(128,177,211)",
          "line": {
           "color": "white",
           "width": 1
          },
          "opacity": 0.8,
          "size": 10
         },
         "mode": "markers",
         "name": "Biomaterials Engineering",
         "showlegend": true,
         "text": [
          "<b>Type:</b> Biomaterials Engineering<br><b>Length:</b> 1934 chars<br><b>Preview:</b><br>Biomaterials Engineering is a specialized area within biotechnology and materials science that focuses on the design and development of materials intended to interact with biological systems. These ma..."
         ],
         "type": "scatter",
         "x": {
          "bdata": "thpMww==",
          "dtype": "f4"
         },
         "xaxis": "x",
         "y": {
          "bdata": "2UTlwg==",
          "dtype": "f4"
         },
         "yaxis": "y"
        },
        {
         "hovertemplate": "%{text}<extra></extra>",
         "marker": {
          "color": "rgb(253,180,98)",
          "line": {
           "color": "white",
           "width": 1
          },
          "opacity": 0.8,
          "size": 10
         },
         "mode": "markers",
         "name": "Biotechnology",
         "showlegend": true,
         "text": [
          "<b>Type:</b> Biotechnology<br><b>Length:</b> 1944 chars<br><b>Preview:</b><br>Biotechnology is a broad field that harnesses biological processes, organisms, or systems to produce products or services that benefit humanity. It integrates principles from biology, chemistry, engin..."
         ],
         "type": "scatter",
         "x": {
          "bdata": "K6KZww==",
          "dtype": "f4"
         },
         "xaxis": "x",
         "y": {
          "bdata": "zsdzww==",
          "dtype": "f4"
         },
         "yaxis": "y"
        },
        {
         "hovertemplate": "%{text}<extra></extra>",
         "marker": {
          "color": "rgb(179,222,105)",
          "line": {
           "color": "white",
           "width": 1
          },
          "opacity": 0.8,
          "size": 10
         },
         "mode": "markers",
         "name": "Calculus_",
         "showlegend": true,
         "text": [
          "<b>Type:</b> Calculus_<br><b>Length:</b> 2004 chars<br><b>Preview:</b><br>Calculus is a major branch of mathematics that deals with continuous change. It is built upon two major complementary ideas: differential calculus and integral calculus. Differential calculus is conce..."
         ],
         "type": "scatter",
         "x": {
          "bdata": "QymQwg==",
          "dtype": "f4"
         },
         "xaxis": "x",
         "y": {
          "bdata": "KC/VQw==",
          "dtype": "f4"
         },
         "yaxis": "y"
        },
        {
         "hovertemplate": "%{text}<extra></extra>",
         "marker": {
          "color": "rgb(252,205,229)",
          "line": {
           "color": "white",
           "width": 1
          },
          "opacity": 0.8,
          "size": 10
         },
         "mode": "markers",
         "name": "Chemical Thermodynamics",
         "showlegend": true,
         "text": [
          "<b>Type:</b> Chemical Thermodynamics<br><b>Length:</b> 1751 chars<br><b>Preview:</b><br>Chemical Thermodynamics is a branch of chemistry that applies the principles of thermodynamics to chemical systems. It deals with the relationships between heat, work, and other forms of energy in the..."
         ],
         "type": "scatter",
         "x": {
          "bdata": "nIPrQg==",
          "dtype": "f4"
         },
         "xaxis": "x",
         "y": {
          "bdata": "QYZhQw==",
          "dtype": "f4"
         },
         "yaxis": "y"
        },
        {
         "hovertemplate": "%{text}<extra></extra>",
         "marker": {
          "color": "rgb(217,217,217)",
          "line": {
           "color": "white",
           "width": 1
          },
          "opacity": 0.8,
          "size": 10
         },
         "mode": "markers",
         "name": "Clinical Pharmacy",
         "showlegend": true,
         "text": [
          "<b>Type:</b> Clinical Pharmacy<br><b>Length:</b> 1721 chars<br><b>Preview:</b><br>Clinical Pharmacy is a patient-oriented branch of pharmacy where pharmacists work directly with patients and other healthcare professionals to optimize drug therapy outcomes. Unlike traditional pharma..."
         ],
         "type": "scatter",
         "x": {
          "bdata": "2b+vQg==",
          "dtype": "f4"
         },
         "xaxis": "x",
         "y": {
          "bdata": "yTATww==",
          "dtype": "f4"
         },
         "yaxis": "y"
        },
        {
         "hovertemplate": "%{text}<extra></extra>",
         "marker": {
          "color": "rgb(188,128,189)",
          "line": {
           "color": "white",
           "width": 1
          },
          "opacity": 0.8,
          "size": 10
         },
         "mode": "markers",
         "name": "Control Systems Engineering",
         "showlegend": true,
         "text": [
          "<b>Type:</b> Control Systems Engineering<br><b>Length:</b> 1881 chars<br><b>Preview:</b><br>Control Systems Engineering is a discipline focused on designing, implementing, and managing systems that regulate the behavior of other systems. The goal is typically to ensure that a system output f..."
         ],
         "type": "scatter",
         "x": {
          "bdata": "5QQYww==",
          "dtype": "f4"
         },
         "xaxis": "x",
         "y": {
          "bdata": "qaz7Qw==",
          "dtype": "f4"
         },
         "yaxis": "y"
        },
        {
         "hovertemplate": "%{text}<extra></extra>",
         "marker": {
          "color": "rgb(204,235,197)",
          "line": {
           "color": "white",
           "width": 1
          },
          "opacity": 0.8,
          "size": 10
         },
         "mode": "markers",
         "name": "cryptography",
         "showlegend": true,
         "text": [
          "<b>Type:</b> cryptography<br><b>Length:</b> 3572 chars<br><b>Preview:</b><br># Cryptography\nCryptography, the science of secure communication, transforms readable information into unintelligible formats and back again through mathematical algorithms and protocols. This discipl..."
         ],
         "type": "scatter",
         "x": {
          "bdata": "guzpQw==",
          "dtype": "f4"
         },
         "xaxis": "x",
         "y": {
          "bdata": "PMP+wg==",
          "dtype": "f4"
         },
         "yaxis": "y"
        },
        {
         "hovertemplate": "%{text}<extra></extra>",
         "marker": {
          "color": "rgb(255,237,111)",
          "line": {
           "color": "white",
           "width": 1
          },
          "opacity": 0.8,
          "size": 10
         },
         "mode": "markers",
         "name": "Data structures",
         "showlegend": true,
         "text": [
          "<b>Type:</b> Data structures<br><b>Length:</b> 1874 chars<br><b>Preview:</b><br>Data structures and algorithms are foundational concepts in computer science, crucial for efficient problem-solving and software development. A data structure is a particular way of organizing and sto..."
         ],
         "type": "scatter",
         "x": {
          "bdata": "VUZGQQ==",
          "dtype": "f4"
         },
         "xaxis": "x",
         "y": {
          "bdata": "jcjYww==",
          "dtype": "f4"
         },
         "yaxis": "y"
        },
        {
         "hovertemplate": "%{text}<extra></extra>",
         "marker": {
          "color": "rgb(102, 197, 204)",
          "line": {
           "color": "white",
           "width": 1
          },
          "opacity": 0.8,
          "size": 10
         },
         "mode": "markers",
         "name": "database_systems",
         "showlegend": true,
         "text": [
          "<b>Type:</b> database_systems<br><b>Length:</b> 3370 chars<br><b>Preview:</b><br># Database Systems\nDatabase systems form the bedrock of modern information architecture, providing structured mechanisms for storing, retrieving, and managing data across applications ranging from sim..."
         ],
         "type": "scatter",
         "x": {
          "bdata": "KvIcwQ==",
          "dtype": "f4"
         },
         "xaxis": "x",
         "y": {
          "bdata": "Mlzvww==",
          "dtype": "f4"
         },
         "yaxis": "y"
        },
        {
         "hovertemplate": "%{text}<extra></extra>",
         "marker": {
          "color": "rgb(246, 207, 113)",
          "line": {
           "color": "white",
           "width": 1
          },
          "opacity": 0.8,
          "size": 10
         },
         "mode": "markers",
         "name": "differential_equations",
         "showlegend": true,
         "text": [
          "<b>Type:</b> differential_equations<br><b>Length:</b> 2919 chars<br><b>Preview:</b><br># Differential Equations\nDifferential equations govern countless natural phenomena, forming the mathematical framework for describing how systems change over time or space. These powerful tools connec..."
         ],
         "type": "scatter",
         "x": {
          "bdata": "RPHxwg==",
          "dtype": "f4"
         },
         "xaxis": "x",
         "y": {
          "bdata": "SgPmQw==",
          "dtype": "f4"
         },
         "yaxis": "y"
        },
        {
         "hovertemplate": "%{text}<extra></extra>",
         "marker": {
          "color": "rgb(248, 156, 116)",
          "line": {
           "color": "white",
           "width": 1
          },
          "opacity": 0.8,
          "size": 10
         },
         "mode": "markers",
         "name": "Ecology",
         "showlegend": true,
         "text": [
          "<b>Type:</b> Ecology<br><b>Length:</b> 1764 chars<br><b>Preview:</b><br>Ecology is the scientific study of the relationships between living organisms and their environment. It explores how organisms interact with each other and with the physical and chemical components of..."
         ],
         "type": "scatter",
         "x": {
          "bdata": "v1EwQw==",
          "dtype": "f4"
         },
         "xaxis": "x",
         "y": {
          "bdata": "BY0MQw==",
          "dtype": "f4"
         },
         "yaxis": "y"
        },
        {
         "hovertemplate": "%{text}<extra></extra>",
         "marker": {
          "color": "rgb(220, 176, 242)",
          "line": {
           "color": "white",
           "width": 1
          },
          "opacity": 0.8,
          "size": 10
         },
         "mode": "markers",
         "name": "Electromagnetism",
         "showlegend": true,
         "text": [
          "<b>Type:</b> Electromagnetism<br><b>Length:</b> 1536 chars<br><b>Preview:</b><br>Electromagnetism is a fundamental force of nature that describes the interaction between electrically charged particles. It is governed by a set of four elegant equations known as Maxwell's equations,..."
         ],
         "type": "scatter",
         "x": {
          "bdata": "5+Orwg==",
          "dtype": "f4"
         },
         "xaxis": "x",
         "y": {
          "bdata": "qIB/Qw==",
          "dtype": "f4"
         },
         "yaxis": "y"
        },
        {
         "hovertemplate": "%{text}<extra></extra>",
         "marker": {
          "color": "rgb(135, 197, 95)",
          "line": {
           "color": "white",
           "width": 1
          },
          "opacity": 0.8,
          "size": 10
         },
         "mode": "markers",
         "name": "Fluid mechanics",
         "showlegend": true,
         "text": [
          "<b>Type:</b> Fluid mechanics<br><b>Length:</b> 1683 chars<br><b>Preview:</b><br>Fluid mechanics is a fundamental branch of engineering and physics that studies the behavior of fluids (liquids, gases, and plasmas) under various conditions, including flow and rest. Understanding ho..."
         ],
         "type": "scatter",
         "x": {
          "bdata": "BEybQg==",
          "dtype": "f4"
         },
         "xaxis": "x",
         "y": {
          "bdata": "EV0DRA==",
          "dtype": "f4"
         },
         "yaxis": "y"
        },
        {
         "hovertemplate": "%{text}<extra></extra>",
         "marker": {
          "color": "rgb(158, 185, 243)",
          "line": {
           "color": "white",
           "width": 1
          },
          "opacity": 0.8,
          "size": 10
         },
         "mode": "markers",
         "name": "fluid_dynamics",
         "showlegend": true,
         "text": [
          "<b>Type:</b> fluid_dynamics<br><b>Length:</b> 2642 chars<br><b>Preview:</b><br># Fluid Dynamics\nFluid dynamics, a branch of continuum mechanics, explores the physics of fluids in motion. This discipline examines how liquids and gases behave when subjected to various forces, prov..."
         ],
         "type": "scatter",
         "x": {
          "bdata": "bWXMQg==",
          "dtype": "f4"
         },
         "xaxis": "x",
         "y": {
          "bdata": "fsnzQw==",
          "dtype": "f4"
         },
         "yaxis": "y"
        },
        {
         "hovertemplate": "%{text}<extra></extra>",
         "marker": {
          "color": "rgb(254, 136, 177)",
          "line": {
           "color": "white",
           "width": 1
          },
          "opacity": 0.8,
          "size": 10
         },
         "mode": "markers",
         "name": "Genetic Engineering",
         "showlegend": true,
         "text": [
          "<b>Type:</b> Genetic Engineering<br><b>Length:</b> 1804 chars<br><b>Preview:</b><br>Genetic Engineering, also known as genetic modification, is a core set of techniques in biotechnology that allows for the manipulation of an organism's genes. It involves the artificial introduction, ..."
         ],
         "type": "scatter",
         "x": {
          "bdata": "7l6eww==",
          "dtype": "f4"
         },
         "xaxis": "x",
         "y": {
          "bdata": "awOUww==",
          "dtype": "f4"
         },
         "yaxis": "y"
        },
        {
         "hovertemplate": "%{text}<extra></extra>",
         "marker": {
          "color": "rgb(201, 219, 116)",
          "line": {
           "color": "white",
           "width": 1
          },
          "opacity": 0.8,
          "size": 10
         },
         "mode": "markers",
         "name": "Genetics",
         "showlegend": true,
         "text": [
          "<b>Type:</b> Genetics<br><b>Length:</b> 1728 chars<br><b>Preview:</b><br>Genetics is the study of genes, genetic variation, and heredity in living organisms. It is a cornerstone of modern biology, providing the framework for understanding how traits are passed from parents..."
         ],
         "type": "scatter",
         "x": {
          "bdata": "LX13ww==",
          "dtype": "f4"
         },
         "xaxis": "x",
         "y": {
          "bdata": "PRy4ww==",
          "dtype": "f4"
         },
         "yaxis": "y"
        },
        {
         "hovertemplate": "%{text}<extra></extra>",
         "marker": {
          "color": "rgb(139, 224, 164)",
          "line": {
           "color": "white",
           "width": 1
          },
          "opacity": 0.8,
          "size": 10
         },
         "mode": "markers",
         "name": "genetic_engineering",
         "showlegend": true,
         "text": [
          "<b>Type:</b> genetic_engineering<br><b>Length:</b> 3622 chars<br><b>Preview:</b><br># Genetic Engineering\nGenetic engineering encompasses technologies that directly manipulate an organism's genetic material to alter its characteristics. This revolutionary field emerged in the 1970s w..."
         ],
         "type": "scatter",
         "x": {
          "bdata": "JyCyww==",
          "dtype": "f4"
         },
         "xaxis": "x",
         "y": {
          "bdata": "CPWdww==",
          "dtype": "f4"
         },
         "yaxis": "y"
        },
        {
         "hovertemplate": "%{text}<extra></extra>",
         "marker": {
          "color": "rgb(180, 151, 231)",
          "line": {
           "color": "white",
           "width": 1
          },
          "opacity": 0.8,
          "size": 10
         },
         "mode": "markers",
         "name": "Immunology",
         "showlegend": true,
         "text": [
          "<b>Type:</b> Immunology<br><b>Length:</b> 1788 chars<br><b>Preview:</b><br>Immunology is the branch of biology that studies the immune system, a complex network of cells, tissues, and organs that work together to protect the body from pathogens (such as bacteria, viruses, fu..."
         ],
         "type": "scatter",
         "x": {
          "bdata": "qJWmww==",
          "dtype": "f4"
         },
         "xaxis": "x",
         "y": {
          "bdata": "xm0nRA==",
          "dtype": "f4"
         },
         "yaxis": "y"
        },
        {
         "hovertemplate": "%{text}<extra></extra>",
         "marker": {
          "color": "rgb(179, 179, 179)",
          "line": {
           "color": "white",
           "width": 1
          },
          "opacity": 0.8,
          "size": 10
         },
         "mode": "markers",
         "name": "immunology_1",
         "showlegend": true,
         "text": [
          "<b>Type:</b> immunology_1<br><b>Length:</b> 3152 chars<br><b>Preview:</b><br># Immunology\nImmunology explores the intricate defense mechanisms protecting organisms from pathogens and foreign substances. This biological discipline investigates the immune system's components, th..."
         ],
         "type": "scatter",
         "x": {
          "bdata": "MZ++xA==",
          "dtype": "f4"
         },
         "xaxis": "x",
         "y": {
          "bdata": "rcbqww==",
          "dtype": "f4"
         },
         "yaxis": "y"
        },
        {
         "hovertemplate": "%{text}<extra></extra>",
         "marker": {
          "color": "rgb(228,26,28)",
          "line": {
           "color": "white",
           "width": 1
          },
          "opacity": 0.8,
          "size": 10
         },
         "mode": "markers",
         "name": "Linear algebra",
         "showlegend": true,
         "text": [
          "<b>Type:</b> Linear algebra<br><b>Length:</b> 1823 chars<br><b>Preview:</b><br>Linear algebra is a branch of mathematics concerning linear equations, linear functions, and their representations through matrices and vector spaces. It is a fundamental tool in many areas of mathema..."
         ],
         "type": "scatter",
         "x": {
          "bdata": "fkiRwQ==",
          "dtype": "f4"
         },
         "xaxis": "x",
         "y": {
          "bdata": "6KaoxA==",
          "dtype": "f4"
         },
         "yaxis": "y"
        },
        {
         "hovertemplate": "%{text}<extra></extra>",
         "marker": {
          "color": "rgb(55,126,184)",
          "line": {
           "color": "white",
           "width": 1
          },
          "opacity": 0.8,
          "size": 10
         },
         "mode": "markers",
         "name": "machine_learning",
         "showlegend": true,
         "text": [
          "<b>Type:</b> machine_learning<br><b>Length:</b> 4146 chars<br><b>Preview:</b><br># Machine Learning\nMachine learning enables computers to improve their performance on tasks through experience without explicit programming. This computational approach transforms data into actionable..."
         ],
         "type": "scatter",
         "x": {
          "bdata": "KAycww==",
          "dtype": "f4"
         },
         "xaxis": "x",
         "y": {
          "bdata": "n6pQQg==",
          "dtype": "f4"
         },
         "yaxis": "y"
        },
        {
         "hovertemplate": "%{text}<extra></extra>",
         "marker": {
          "color": "rgb(77,175,74)",
          "line": {
           "color": "white",
           "width": 1
          },
          "opacity": 0.8,
          "size": 10
         },
         "mode": "markers",
         "name": "Materials Science Engineering",
         "showlegend": true,
         "text": [
          "<b>Type:</b> Materials Science Engineering<br><b>Length:</b> 1992 chars<br><b>Preview:</b><br>Materials Science Engineering is an interdisciplinary field that focuses on the discovery, design, and application of new materials. It involves understanding the fundamental properties of materials, ..."
         ],
         "type": "scatter",
         "x": {
          "bdata": "O8Jhww==",
          "dtype": "f4"
         },
         "xaxis": "x",
         "y": {
          "bdata": "Q0iJwg==",
          "dtype": "f4"
         },
         "yaxis": "y"
        },
        {
         "hovertemplate": "%{text}<extra></extra>",
         "marker": {
          "color": "rgb(152,78,163)",
          "line": {
           "color": "white",
           "width": 1
          },
          "opacity": 0.8,
          "size": 10
         },
         "mode": "markers",
         "name": "Molecular biology",
         "showlegend": true,
         "text": [
          "<b>Type:</b> Molecular biology<br><b>Length:</b> 2176 chars<br><b>Preview:</b><br>Molecular biology is a branch of biology that concerns the molecular basis of biological activity between biomolecules in the various systems of a cell, including the interactions between the differen..."
         ],
         "type": "scatter",
         "x": {
          "bdata": "LA1Gww==",
          "dtype": "f4"
         },
         "xaxis": "x",
         "y": {
          "bdata": "BTGwww==",
          "dtype": "f4"
         },
         "yaxis": "y"
        },
        {
         "hovertemplate": "%{text}<extra></extra>",
         "marker": {
          "color": "rgb(255,127,0)",
          "line": {
           "color": "white",
           "width": 1
          },
          "opacity": 0.8,
          "size": 10
         },
         "mode": "markers",
         "name": "molecular_biology",
         "showlegend": true,
         "text": [
          "<b>Type:</b> molecular_biology<br><b>Length:</b> 4236 chars<br><b>Preview:</b><br># Molecular Biology\nMolecular biology investigates biological processes at the molecular level, focusing on the structure, function, and interactions of cellular components like DNA, RNA, and proteins..."
         ],
         "type": "scatter",
         "x": {
          "bdata": "g2wvww==",
          "dtype": "f4"
         },
         "xaxis": "x",
         "y": {
          "bdata": "E6eYww==",
          "dtype": "f4"
         },
         "yaxis": "y"
        },
        {
         "hovertemplate": "%{text}<extra></extra>",
         "marker": {
          "color": "rgb(255,255,51)",
          "line": {
           "color": "white",
           "width": 1
          },
          "opacity": 0.8,
          "size": 10
         },
         "mode": "markers",
         "name": "nanotechnology",
         "showlegend": true,
         "text": [
          "<b>Type:</b> nanotechnology<br><b>Length:</b> 4200 chars<br><b>Preview:</b><br># Nanotechnology\nNanotechnology encompasses the manipulation of matter at dimensions between 1 and 100 nanometers, where unique phenomena enable novel applications across scientific disciplines. At th..."
         ],
         "type": "scatter",
         "x": {
          "bdata": "4lZrQw==",
          "dtype": "f4"
         },
         "xaxis": "x",
         "y": {
          "bdata": "TPZzQQ==",
          "dtype": "f4"
         },
         "yaxis": "y"
        },
        {
         "hovertemplate": "%{text}<extra></extra>",
         "marker": {
          "color": "rgb(166,86,40)",
          "line": {
           "color": "white",
           "width": 1
          },
          "opacity": 0.8,
          "size": 10
         },
         "mode": "markers",
         "name": "neural_networks",
         "showlegend": true,
         "text": [
          "<b>Type:</b> neural_networks<br><b>Length:</b> 2759 chars<br><b>Preview:</b><br># Neural Networks\nNeural networks form the computational backbone of modern artificial intelligence, drawing inspiration from the human brain's interconnected neuronal structure. These mathematical mo..."
         ],
         "type": "scatter",
         "x": {
          "bdata": "YL9ZQg==",
          "dtype": "f4"
         },
         "xaxis": "x",
         "y": {
          "bdata": "SROfww==",
          "dtype": "f4"
         },
         "yaxis": "y"
        },
        {
         "hovertemplate": "%{text}<extra></extra>",
         "marker": {
          "color": "rgb(247,129,191)",
          "line": {
           "color": "white",
           "width": 1
          },
          "opacity": 0.8,
          "size": 10
         },
         "mode": "markers",
         "name": "Numerical Analysis",
         "showlegend": true,
         "text": [
          "<b>Type:</b> Numerical Analysis<br><b>Length:</b> 1857 chars<br><b>Preview:</b><br>Numerical Analysis is the study of algorithms for solving mathematical problems that arise in science and engineering. Many mathematical problems, especially those involving continuous variables or co..."
         ],
         "type": "scatter",
         "x": {
          "bdata": "dkhCwQ==",
          "dtype": "f4"
         },
         "xaxis": "x",
         "y": {
          "bdata": "hFTYQw==",
          "dtype": "f4"
         },
         "yaxis": "y"
        },
        {
         "hovertemplate": "%{text}<extra></extra>",
         "marker": {
          "color": "rgb(153,153,153)",
          "line": {
           "color": "white",
           "width": 1
          },
          "opacity": 0.8,
          "size": 10
         },
         "mode": "markers",
         "name": "Numerical Methods",
         "showlegend": true,
         "text": [
          "<b>Type:</b> Numerical Methods<br><b>Length:</b> 1936 chars<br><b>Preview:</b><br>Numerical Methods in engineering involve the application of mathematical algorithms to solve complex engineering problems that cannot be solved analytically. Many real-world engineering problems invol..."
         ],
         "type": "scatter",
         "x": {
          "bdata": "AEMAQg==",
          "dtype": "f4"
         },
         "xaxis": "x",
         "y": {
          "bdata": "qwfiQw==",
          "dtype": "f4"
         },
         "yaxis": "y"
        },
        {
         "hovertemplate": "%{text}<extra></extra>",
         "marker": {
          "color": "rgb(102,194,165)",
          "line": {
           "color": "white",
           "width": 1
          },
          "opacity": 0.8,
          "size": 10
         },
         "mode": "markers",
         "name": "optics",
         "showlegend": true,
         "text": [
          "<b>Type:</b> optics<br><b>Length:</b> 4502 chars<br><b>Preview:</b><br># Optics\nOptics investigates light behavior and its interactions with matter, encompassing both classical wave descriptions and quantum photon models. This discipline forms the foundation for technolo..."
         ],
         "type": "scatter",
         "x": {
          "bdata": "0DVTww==",
          "dtype": "f4"
         },
         "xaxis": "x",
         "y": {
          "bdata": "73JfQw==",
          "dtype": "f4"
         },
         "yaxis": "y"
        },
        {
         "hovertemplate": "%{text}<extra></extra>",
         "marker": {
          "color": "rgb(252,141,98)",
          "line": {
           "color": "white",
           "width": 1
          },
          "opacity": 0.8,
          "size": 10
         },
         "mode": "markers",
         "name": "Organic Chemistry",
         "showlegend": true,
         "text": [
          "<b>Type:</b> Organic Chemistry<br><b>Length:</b> 2085 chars<br><b>Preview:</b><br>Organic Chemistry is the study of the structure, properties, composition, reactions, and synthesis of organic compounds, which are chemical compounds containing carbon. While carbon is the defining el..."
         ],
         "type": "scatter",
         "x": {
          "bdata": "puuCwQ==",
          "dtype": "f4"
         },
         "xaxis": "x",
         "y": {
          "bdata": "XmFnQg==",
          "dtype": "f4"
         },
         "yaxis": "y"
        },
        {
         "hovertemplate": "%{text}<extra></extra>",
         "marker": {
          "color": "rgb(141,160,203)",
          "line": {
           "color": "white",
           "width": 1
          },
          "opacity": 0.8,
          "size": 10
         },
         "mode": "markers",
         "name": "organic_chemistry",
         "showlegend": true,
         "text": [
          "<b>Type:</b> organic_chemistry<br><b>Length:</b> 2942 chars<br><b>Preview:</b><br># Organic Chemistry\nOrganic chemistry explores the vast realm of carbon-containing compounds, excluding simple carbon oxides, carbonates, and cyanides. This discipline investigates the structures, pro..."
         ],
         "type": "scatter",
         "x": {
          "bdata": "BELaQQ==",
          "dtype": "f4"
         },
         "xaxis": "x",
         "y": {
          "bdata": "zx5YQg==",
          "dtype": "f4"
         },
         "yaxis": "y"
        },
        {
         "hovertemplate": "%{text}<extra></extra>",
         "marker": {
          "color": "rgb(231,138,195)",
          "line": {
           "color": "white",
           "width": 1
          },
          "opacity": 0.8,
          "size": 10
         },
         "mode": "markers",
         "name": "Pharmaceutical Chemistry",
         "showlegend": true,
         "text": [
          "<b>Type:</b> Pharmaceutical Chemistry<br><b>Length:</b> 1863 chars<br><b>Preview:</b><br>Pharmaceutical Chemistry is a multidisciplinary field that combines principles of chemistry and biology to design, synthesize, and develop new drugs. It is a critical component of pharmacy, providing ..."
         ],
         "type": "scatter",
         "x": {
          "bdata": "X10kQg==",
          "dtype": "f4"
         },
         "xaxis": "x",
         "y": {
          "bdata": "30BZwg==",
          "dtype": "f4"
         },
         "yaxis": "y"
        },
        {
         "hovertemplate": "%{text}<extra></extra>",
         "marker": {
          "color": "rgb(166,216,84)",
          "line": {
           "color": "white",
           "width": 1
          },
          "opacity": 0.8,
          "size": 10
         },
         "mode": "markers",
         "name": "pharmacokinetics",
         "showlegend": true,
         "text": [
          "<b>Type:</b> pharmacokinetics<br><b>Length:</b> 3745 chars<br><b>Preview:</b><br># Pharmacokinetics\nPharmacokinetics examines the temporal course of drug concentrations in the body, encompassing the processes of absorption, distribution, metabolism, and excretion (ADME). This quan..."
         ],
         "type": "scatter",
         "x": {
          "bdata": "kh8EQw==",
          "dtype": "f4"
         },
         "xaxis": "x",
         "y": {
          "bdata": "9nePwg==",
          "dtype": "f4"
         },
         "yaxis": "y"
        },
        {
         "hovertemplate": "%{text}<extra></extra>",
         "marker": {
          "color": "rgb(255,217,47)",
          "line": {
           "color": "white",
           "width": 1
          },
          "opacity": 0.8,
          "size": 10
         },
         "mode": "markers",
         "name": "Pharmacology",
         "showlegend": true,
         "text": [
          "<b>Type:</b> Pharmacology<br><b>Length:</b> 1951 chars<br><b>Preview:</b><br>Pharmacology is the branch of medicine and biology concerned with the study of drug action, where a drug can be broadly defined as any artificial, natural, or endogenous molecule which exerts a bioche..."
         ],
         "type": "scatter",
         "x": {
          "bdata": "z36vQg==",
          "dtype": "f4"
         },
         "xaxis": "x",
         "y": {
          "bdata": "mCKywg==",
          "dtype": "f4"
         },
         "yaxis": "y"
        },
        {
         "hovertemplate": "%{text}<extra></extra>",
         "marker": {
          "color": "rgb(229,196,148)",
          "line": {
           "color": "white",
           "width": 1
          },
          "opacity": 0.8,
          "size": 10
         },
         "mode": "markers",
         "name": "Physical Chemistry",
         "showlegend": true,
         "text": [
          "<b>Type:</b> Physical Chemistry<br><b>Length:</b> 1743 chars<br><b>Preview:</b><br>Physical Chemistry is a branch of chemistry that applies principles of physics to study chemical systems. It seeks to understand the fundamental physical basis of chemical phenomena, such as the rates..."
         ],
         "type": "scatter",
         "x": {
          "bdata": "Bg6Pwg==",
          "dtype": "f4"
         },
         "xaxis": "x",
         "y": {
          "bdata": "z2MzQw==",
          "dtype": "f4"
         },
         "yaxis": "y"
        },
        {
         "hovertemplate": "%{text}<extra></extra>",
         "marker": {
          "color": "rgb(179,179,179)",
          "line": {
           "color": "white",
           "width": 1
          },
          "opacity": 0.8,
          "size": 10
         },
         "mode": "markers",
         "name": "polymer_science",
         "showlegend": true,
         "text": [
          "<b>Type:</b> polymer_science<br><b>Length:</b> 3629 chars<br><b>Preview:</b><br># Polymer Science\nPolymer science investigates macromolecules composed of repeating structural units connected by covalent bonds. These versatile materials pervade modern life, from everyday plastics ..."
         ],
         "type": "scatter",
         "x": {
          "bdata": "9UQGww==",
          "dtype": "f4"
         },
         "xaxis": "x",
         "y": {
          "bdata": "0tAYww==",
          "dtype": "f4"
         },
         "yaxis": "y"
        },
        {
         "hovertemplate": "%{text}<extra></extra>",
         "marker": {
          "color": "rgb(27,158,119)",
          "line": {
           "color": "white",
           "width": 1
          },
          "opacity": 0.8,
          "size": 10
         },
         "mode": "markers",
         "name": "Probability and Statistics",
         "showlegend": true,
         "text": [
          "<b>Type:</b> Probability and Statistics<br><b>Length:</b> 1891 chars<br><b>Preview:</b><br>Probability and Statistics are two closely related branches of mathematics that deal with uncertainty and data analysis. Probability is the study of randomness and chance. It provides a framework for ..."
         ],
         "type": "scatter",
         "x": {
          "bdata": "4kAoww==",
          "dtype": "f4"
         },
         "xaxis": "x",
         "y": {
          "bdata": "OfTzQg==",
          "dtype": "f4"
         },
         "yaxis": "y"
        },
        {
         "hovertemplate": "%{text}<extra></extra>",
         "marker": {
          "color": "rgb(217,95,2)",
          "line": {
           "color": "white",
           "width": 1
          },
          "opacity": 0.8,
          "size": 10
         },
         "mode": "markers",
         "name": "Protein Chemistry",
         "showlegend": true,
         "text": [
          "<b>Type:</b> Protein Chemistry<br><b>Length:</b> 1799 chars<br><b>Preview:</b><br>Protein Chemistry is a fundamental area within biochemistry that focuses on the study of proteins, which are arguably the most versatile macromolecules in living organisms. Proteins are complex polyme..."
         ],
         "type": "scatter",
         "x": {
          "bdata": "rnKKwg==",
          "dtype": "f4"
         },
         "xaxis": "x",
         "y": {
          "bdata": "jIidwg==",
          "dtype": "f4"
         },
         "yaxis": "y"
        },
        {
         "hovertemplate": "%{text}<extra></extra>",
         "marker": {
          "color": "rgb(117,112,179)",
          "line": {
           "color": "white",
           "width": 1
          },
          "opacity": 0.8,
          "size": 10
         },
         "mode": "markers",
         "name": "Quantum Mechanics",
         "showlegend": true,
         "text": [
          "<b>Type:</b> Quantum Mechanics<br><b>Length:</b> 1837 chars<br><b>Preview:</b><br>Quantum Mechanics is a fundamental theory in physics that provides a description of the physical properties of nature at the scale of atoms and subatomic particles. Unlike classical mechanics, which d..."
         ],
         "type": "scatter",
         "x": {
          "bdata": "rX0eww==",
          "dtype": "f4"
         },
         "xaxis": "x",
         "y": {
          "bdata": "eTcwQw==",
          "dtype": "f4"
         },
         "yaxis": "y"
        },
        {
         "hovertemplate": "%{text}<extra></extra>",
         "marker": {
          "color": "rgb(231,41,138)",
          "line": {
           "color": "white",
           "width": 1
          },
          "opacity": 0.8,
          "size": 10
         },
         "mode": "markers",
         "name": "quantum_computing",
         "showlegend": true,
         "text": [
          "<b>Type:</b> quantum_computing<br><b>Length:</b> 2483 chars<br><b>Preview:</b><br># Quantum Computing\nQuantum computing leverages quantum mechanical phenomena to perform computations beyond the capabilities of classical computers. Unlike classical bits that exist in a state of eith..."
         ],
         "type": "scatter",
         "x": {
          "bdata": "ADneQw==",
          "dtype": "f4"
         },
         "xaxis": "x",
         "y": {
          "bdata": "O7+swg==",
          "dtype": "f4"
         },
         "yaxis": "y"
        },
        {
         "hovertemplate": "%{text}<extra></extra>",
         "marker": {
          "color": "rgb(102,166,30)",
          "line": {
           "color": "white",
           "width": 1
          },
          "opacity": 0.8,
          "size": 10
         },
         "mode": "markers",
         "name": "Renewable energy",
         "showlegend": true,
         "text": [
          "<b>Type:</b> Renewable energy<br><b>Length:</b> 2246 chars<br><b>Preview:</b><br>Renewable energy engineering is a rapidly evolving field focused on the sustainable generation of energy from natural resources that are replenished at a higher rate than they are consumed. This inclu..."
         ],
         "type": "scatter",
         "x": {
          "bdata": "+mGMQw==",
          "dtype": "f4"
         },
         "xaxis": "x",
         "y": {
          "bdata": "GyfCwg==",
          "dtype": "f4"
         },
         "yaxis": "y"
        },
        {
         "hovertemplate": "%{text}<extra></extra>",
         "marker": {
          "color": "rgb(230,171,2)",
          "line": {
           "color": "white",
           "width": 1
          },
          "opacity": 0.8,
          "size": 10
         },
         "mode": "markers",
         "name": "Semiconductor Physics",
         "showlegend": true,
         "text": [
          "<b>Type:</b> Semiconductor Physics<br><b>Length:</b> 1944 chars<br><b>Preview:</b><br>Semiconductor Physics is a branch of physics that studies the electrical properties of semiconductor materials. Semiconductors are materials that have electrical conductivity between that of a conduct..."
         ],
         "type": "scatter",
         "x": {
          "bdata": "D/vWQw==",
          "dtype": "f4"
         },
         "xaxis": "x",
         "y": {
          "bdata": "AK0SQw==",
          "dtype": "f4"
         },
         "yaxis": "y"
        },
        {
         "hovertemplate": "%{text}<extra></extra>",
         "marker": {
          "color": "rgb(166,118,29)",
          "line": {
           "color": "white",
           "width": 1
          },
          "opacity": 0.8,
          "size": 10
         },
         "mode": "markers",
         "name": "semiconductor_physics",
         "showlegend": true,
         "text": [
          "<b>Type:</b> semiconductor_physics<br><b>Length:</b> 3470 chars<br><b>Preview:</b><br># Semiconductor Physics\nSemiconductor physics explores materials with electrical conductivity between conductors and insulators, forming the foundation of modern electronics. Unlike metals with contin..."
         ],
         "type": "scatter",
         "x": {
          "bdata": "cvDqQw==",
          "dtype": "f4"
         },
         "xaxis": "x",
         "y": {
          "bdata": "a3UfQw==",
          "dtype": "f4"
         },
         "yaxis": "y"
        },
        {
         "hovertemplate": "%{text}<extra></extra>",
         "marker": {
          "color": "rgb(102,102,102)",
          "line": {
           "color": "white",
           "width": 1
          },
          "opacity": 0.8,
          "size": 10
         },
         "mode": "markers",
         "name": "Software Engineering",
         "showlegend": true,
         "text": [
          "<b>Type:</b> Software Engineering<br><b>Length:</b> 1745 chars<br><b>Preview:</b><br>Software Engineering is a systematic approach to the design, development, testing, deployment, and maintenance of software. It is an engineering discipline that applies principles of computer science ..."
         ],
         "type": "scatter",
         "x": {
          "bdata": "n8+bww==",
          "dtype": "f4"
         },
         "xaxis": "x",
         "y": {
          "bdata": "q5qEwg==",
          "dtype": "f4"
         },
         "yaxis": "y"
        },
        {
         "hovertemplate": "%{text}<extra></extra>",
         "marker": {
          "color": "#636EFA",
          "line": {
           "color": "white",
           "width": 1
          },
          "opacity": 0.8,
          "size": 10
         },
         "mode": "markers",
         "name": "structural_engineering",
         "showlegend": true,
         "text": [
          "<b>Type:</b> structural_engineering<br><b>Length:</b> 4504 chars<br><b>Preview:</b><br># Structural Engineering\nStructural engineering applies physical principles to design load-bearing systems that safely support and resist applied forces. This discipline balances safety, functionality..."
         ],
         "type": "scatter",
         "x": {
          "bdata": "5qSIQw==",
          "dtype": "f4"
         },
         "xaxis": "x",
         "y": {
          "bdata": "5shxww==",
          "dtype": "f4"
         },
         "yaxis": "y"
        },
        {
         "hovertemplate": "%{text}<extra></extra>",
         "marker": {
          "color": "#EF553B",
          "line": {
           "color": "white",
           "width": 1
          },
          "opacity": 0.8,
          "size": 10
         },
         "mode": "markers",
         "name": "Thermodynamics",
         "showlegend": true,
         "text": [
          "<b>Type:</b> Thermodynamics<br><b>Length:</b> 1901 chars<br><b>Preview:</b><br>Thermodynamics is a fundamental branch of physics that deals with heat, work, temperature, and energy, and the relationships between them. It is governed by a set of four laws that provide a framework..."
         ],
         "type": "scatter",
         "x": {
          "bdata": "ICouQw==",
          "dtype": "f4"
         },
         "xaxis": "x",
         "y": {
          "bdata": "5qJNQw==",
          "dtype": "f4"
         },
         "yaxis": "y"
        },
        {
         "hovertemplate": "%{text}<extra></extra>",
         "marker": {
          "color": "#00CC96",
          "line": {
           "color": "white",
           "width": 1
          },
          "opacity": 0.8,
          "size": 10
         },
         "mode": "markers",
         "name": "thermodynamics_1",
         "showlegend": true,
         "text": [
          "<b>Type:</b> thermodynamics_1<br><b>Length:</b> 2865 chars<br><b>Preview:</b><br># Thermodynamics\nThermodynamics, the branch of physics examining energy and its transformations, establishes fundamental principles governing the universe's physical behaviors. This discipline emerged..."
         ],
         "type": "scatter",
         "x": {
          "bdata": "rIBQQw==",
          "dtype": "f4"
         },
         "xaxis": "x",
         "y": {
          "bdata": "D0hrQw==",
          "dtype": "f4"
         },
         "yaxis": "y"
        },
        {
         "marker": {
          "color": [
           "rgb(141,211,199)",
           "rgb(255,255,179)",
           "rgb(190,186,218)",
           "rgb(251,128,114)",
           "rgb(128,177,211)",
           "rgb(253,180,98)",
           "rgb(179,222,105)",
           "rgb(252,205,229)",
           "rgb(217,217,217)",
           "rgb(188,128,189)",
           "rgb(204,235,197)",
           "rgb(255,237,111)",
           "rgb(102, 197, 204)",
           "rgb(246, 207, 113)",
           "rgb(248, 156, 116)",
           "rgb(220, 176, 242)",
           "rgb(135, 197, 95)",
           "rgb(158, 185, 243)",
           "rgb(254, 136, 177)",
           "rgb(201, 219, 116)",
           "rgb(139, 224, 164)",
           "rgb(180, 151, 231)",
           "rgb(179, 179, 179)",
           "rgb(228,26,28)",
           "rgb(55,126,184)",
           "rgb(77,175,74)",
           "rgb(152,78,163)",
           "rgb(255,127,0)",
           "rgb(255,255,51)",
           "rgb(166,86,40)",
           "rgb(247,129,191)",
           "rgb(153,153,153)",
           "rgb(102,194,165)",
           "rgb(252,141,98)",
           "rgb(141,160,203)",
           "rgb(231,138,195)",
           "rgb(166,216,84)",
           "rgb(255,217,47)",
           "rgb(229,196,148)",
           "rgb(179,179,179)",
           "rgb(27,158,119)",
           "rgb(217,95,2)",
           "rgb(117,112,179)",
           "rgb(231,41,138)",
           "rgb(102,166,30)",
           "rgb(230,171,2)",
           "rgb(166,118,29)",
           "rgb(102,102,102)",
           "#636EFA",
           "#EF553B",
           "#00CC96"
          ]
         },
         "name": "Document Counts",
         "showlegend": false,
         "type": "bar",
         "x": [
          "Analytical Chemistry",
          "Artificial Intelligence",
          "astrophysics",
          "biochemistry",
          "Biomaterials Engineering",
          "Biotechnology",
          "Calculus_",
          "Chemical Thermodynamics",
          "Clinical Pharmacy",
          "Control Systems Engineering",
          "cryptography",
          "Data structures",
          "database_systems",
          "differential_equations",
          "Ecology",
          "Electromagnetism",
          "Fluid mechanics",
          "fluid_dynamics",
          "Genetic Engineering",
          "Genetics",
          "genetic_engineering",
          "Immunology",
          "immunology_1",
          "Linear algebra",
          "machine_learning",
          "Materials Science Engineering",
          "Molecular biology",
          "molecular_biology",
          "nanotechnology",
          "neural_networks",
          "Numerical Analysis",
          "Numerical Methods",
          "optics",
          "Organic Chemistry",
          "organic_chemistry",
          "Pharmaceutical Chemistry",
          "pharmacokinetics",
          "Pharmacology",
          "Physical Chemistry",
          "polymer_science",
          "Probability and Statistics",
          "Protein Chemistry",
          "Quantum Mechanics",
          "quantum_computing",
          "Renewable energy",
          "Semiconductor Physics",
          "semiconductor_physics",
          "Software Engineering",
          "structural_engineering",
          "Thermodynamics",
          "thermodynamics_1"
         ],
         "xaxis": "x2",
         "y": {
          "bdata": "AQEBAQEBAQEBAQEBAQEBAQEBAQEBAQEBAQEBAQEBAQEBAQEBAQEBAQEBAQEBAQEBAQEB",
          "dtype": "i1"
         },
         "yaxis": "y2"
        },
        {
         "marker": {
          "color": "lightblue"
         },
         "name": "Length Distribution",
         "nbinsx": 20,
         "showlegend": false,
         "type": "histogram",
         "x": {
          "bdata": "4wfrBkEP0RKOB5gH1AfXBrkGWQf0DVIHKg1nC+QGAAaTBlIKDAfABiYO/AZQDB8HMhDIB4AIjBBoEMcKQQeQB5YRJQh+C0cHoQ6fB88GLQ5jBwcHLQezCcYImAeODdEGmBFtBzEL",
          "dtype": "i2"
         },
         "xaxis": "x3",
         "yaxis": "y3"
        }
       ],
       "layout": {
        "annotations": [
         {
          "font": {
           "size": 16
          },
          "showarrow": false,
          "text": "t-SNE Visualization",
          "x": 0.5,
          "xanchor": "center",
          "xref": "paper",
          "y": 1,
          "yanchor": "bottom",
          "yref": "paper"
         },
         {
          "font": {
           "size": 16
          },
          "showarrow": false,
          "text": "Document Length Distribution",
          "x": 0.225,
          "xanchor": "center",
          "xref": "paper",
          "y": 0.44,
          "yanchor": "bottom",
          "yref": "paper"
         },
         {
          "font": {
           "size": 16
          },
          "showarrow": false,
          "text": "Document Type Counts",
          "x": 0.775,
          "xanchor": "center",
          "xref": "paper",
          "y": 0.44,
          "yanchor": "bottom",
          "yref": "paper"
         }
        ],
        "height": 800,
        "showlegend": true,
        "template": {
         "data": {
          "bar": [
           {
            "error_x": {
             "color": "#2a3f5f"
            },
            "error_y": {
             "color": "#2a3f5f"
            },
            "marker": {
             "line": {
              "color": "#E5ECF6",
              "width": 0.5
             },
             "pattern": {
              "fillmode": "overlay",
              "size": 10,
              "solidity": 0.2
             }
            },
            "type": "bar"
           }
          ],
          "barpolar": [
           {
            "marker": {
             "line": {
              "color": "#E5ECF6",
              "width": 0.5
             },
             "pattern": {
              "fillmode": "overlay",
              "size": 10,
              "solidity": 0.2
             }
            },
            "type": "barpolar"
           }
          ],
          "carpet": [
           {
            "aaxis": {
             "endlinecolor": "#2a3f5f",
             "gridcolor": "white",
             "linecolor": "white",
             "minorgridcolor": "white",
             "startlinecolor": "#2a3f5f"
            },
            "baxis": {
             "endlinecolor": "#2a3f5f",
             "gridcolor": "white",
             "linecolor": "white",
             "minorgridcolor": "white",
             "startlinecolor": "#2a3f5f"
            },
            "type": "carpet"
           }
          ],
          "choropleth": [
           {
            "colorbar": {
             "outlinewidth": 0,
             "ticks": ""
            },
            "type": "choropleth"
           }
          ],
          "contour": [
           {
            "colorbar": {
             "outlinewidth": 0,
             "ticks": ""
            },
            "colorscale": [
             [
              0,
              "#0d0887"
             ],
             [
              0.1111111111111111,
              "#46039f"
             ],
             [
              0.2222222222222222,
              "#7201a8"
             ],
             [
              0.3333333333333333,
              "#9c179e"
             ],
             [
              0.4444444444444444,
              "#bd3786"
             ],
             [
              0.5555555555555556,
              "#d8576b"
             ],
             [
              0.6666666666666666,
              "#ed7953"
             ],
             [
              0.7777777777777778,
              "#fb9f3a"
             ],
             [
              0.8888888888888888,
              "#fdca26"
             ],
             [
              1,
              "#f0f921"
             ]
            ],
            "type": "contour"
           }
          ],
          "contourcarpet": [
           {
            "colorbar": {
             "outlinewidth": 0,
             "ticks": ""
            },
            "type": "contourcarpet"
           }
          ],
          "heatmap": [
           {
            "colorbar": {
             "outlinewidth": 0,
             "ticks": ""
            },
            "colorscale": [
             [
              0,
              "#0d0887"
             ],
             [
              0.1111111111111111,
              "#46039f"
             ],
             [
              0.2222222222222222,
              "#7201a8"
             ],
             [
              0.3333333333333333,
              "#9c179e"
             ],
             [
              0.4444444444444444,
              "#bd3786"
             ],
             [
              0.5555555555555556,
              "#d8576b"
             ],
             [
              0.6666666666666666,
              "#ed7953"
             ],
             [
              0.7777777777777778,
              "#fb9f3a"
             ],
             [
              0.8888888888888888,
              "#fdca26"
             ],
             [
              1,
              "#f0f921"
             ]
            ],
            "type": "heatmap"
           }
          ],
          "histogram": [
           {
            "marker": {
             "pattern": {
              "fillmode": "overlay",
              "size": 10,
              "solidity": 0.2
             }
            },
            "type": "histogram"
           }
          ],
          "histogram2d": [
           {
            "colorbar": {
             "outlinewidth": 0,
             "ticks": ""
            },
            "colorscale": [
             [
              0,
              "#0d0887"
             ],
             [
              0.1111111111111111,
              "#46039f"
             ],
             [
              0.2222222222222222,
              "#7201a8"
             ],
             [
              0.3333333333333333,
              "#9c179e"
             ],
             [
              0.4444444444444444,
              "#bd3786"
             ],
             [
              0.5555555555555556,
              "#d8576b"
             ],
             [
              0.6666666666666666,
              "#ed7953"
             ],
             [
              0.7777777777777778,
              "#fb9f3a"
             ],
             [
              0.8888888888888888,
              "#fdca26"
             ],
             [
              1,
              "#f0f921"
             ]
            ],
            "type": "histogram2d"
           }
          ],
          "histogram2dcontour": [
           {
            "colorbar": {
             "outlinewidth": 0,
             "ticks": ""
            },
            "colorscale": [
             [
              0,
              "#0d0887"
             ],
             [
              0.1111111111111111,
              "#46039f"
             ],
             [
              0.2222222222222222,
              "#7201a8"
             ],
             [
              0.3333333333333333,
              "#9c179e"
             ],
             [
              0.4444444444444444,
              "#bd3786"
             ],
             [
              0.5555555555555556,
              "#d8576b"
             ],
             [
              0.6666666666666666,
              "#ed7953"
             ],
             [
              0.7777777777777778,
              "#fb9f3a"
             ],
             [
              0.8888888888888888,
              "#fdca26"
             ],
             [
              1,
              "#f0f921"
             ]
            ],
            "type": "histogram2dcontour"
           }
          ],
          "mesh3d": [
           {
            "colorbar": {
             "outlinewidth": 0,
             "ticks": ""
            },
            "type": "mesh3d"
           }
          ],
          "parcoords": [
           {
            "line": {
             "colorbar": {
              "outlinewidth": 0,
              "ticks": ""
             }
            },
            "type": "parcoords"
           }
          ],
          "pie": [
           {
            "automargin": true,
            "type": "pie"
           }
          ],
          "scatter": [
           {
            "fillpattern": {
             "fillmode": "overlay",
             "size": 10,
             "solidity": 0.2
            },
            "type": "scatter"
           }
          ],
          "scatter3d": [
           {
            "line": {
             "colorbar": {
              "outlinewidth": 0,
              "ticks": ""
             }
            },
            "marker": {
             "colorbar": {
              "outlinewidth": 0,
              "ticks": ""
             }
            },
            "type": "scatter3d"
           }
          ],
          "scattercarpet": [
           {
            "marker": {
             "colorbar": {
              "outlinewidth": 0,
              "ticks": ""
             }
            },
            "type": "scattercarpet"
           }
          ],
          "scattergeo": [
           {
            "marker": {
             "colorbar": {
              "outlinewidth": 0,
              "ticks": ""
             }
            },
            "type": "scattergeo"
           }
          ],
          "scattergl": [
           {
            "marker": {
             "colorbar": {
              "outlinewidth": 0,
              "ticks": ""
             }
            },
            "type": "scattergl"
           }
          ],
          "scattermap": [
           {
            "marker": {
             "colorbar": {
              "outlinewidth": 0,
              "ticks": ""
             }
            },
            "type": "scattermap"
           }
          ],
          "scattermapbox": [
           {
            "marker": {
             "colorbar": {
              "outlinewidth": 0,
              "ticks": ""
             }
            },
            "type": "scattermapbox"
           }
          ],
          "scatterpolar": [
           {
            "marker": {
             "colorbar": {
              "outlinewidth": 0,
              "ticks": ""
             }
            },
            "type": "scatterpolar"
           }
          ],
          "scatterpolargl": [
           {
            "marker": {
             "colorbar": {
              "outlinewidth": 0,
              "ticks": ""
             }
            },
            "type": "scatterpolargl"
           }
          ],
          "scatterternary": [
           {
            "marker": {
             "colorbar": {
              "outlinewidth": 0,
              "ticks": ""
             }
            },
            "type": "scatterternary"
           }
          ],
          "surface": [
           {
            "colorbar": {
             "outlinewidth": 0,
             "ticks": ""
            },
            "colorscale": [
             [
              0,
              "#0d0887"
             ],
             [
              0.1111111111111111,
              "#46039f"
             ],
             [
              0.2222222222222222,
              "#7201a8"
             ],
             [
              0.3333333333333333,
              "#9c179e"
             ],
             [
              0.4444444444444444,
              "#bd3786"
             ],
             [
              0.5555555555555556,
              "#d8576b"
             ],
             [
              0.6666666666666666,
              "#ed7953"
             ],
             [
              0.7777777777777778,
              "#fb9f3a"
             ],
             [
              0.8888888888888888,
              "#fdca26"
             ],
             [
              1,
              "#f0f921"
             ]
            ],
            "type": "surface"
           }
          ],
          "table": [
           {
            "cells": {
             "fill": {
              "color": "#EBF0F8"
             },
             "line": {
              "color": "white"
             }
            },
            "header": {
             "fill": {
              "color": "#C8D4E3"
             },
             "line": {
              "color": "white"
             }
            },
            "type": "table"
           }
          ]
         },
         "layout": {
          "annotationdefaults": {
           "arrowcolor": "#2a3f5f",
           "arrowhead": 0,
           "arrowwidth": 1
          },
          "autotypenumbers": "strict",
          "coloraxis": {
           "colorbar": {
            "outlinewidth": 0,
            "ticks": ""
           }
          },
          "colorscale": {
           "diverging": [
            [
             0,
             "#8e0152"
            ],
            [
             0.1,
             "#c51b7d"
            ],
            [
             0.2,
             "#de77ae"
            ],
            [
             0.3,
             "#f1b6da"
            ],
            [
             0.4,
             "#fde0ef"
            ],
            [
             0.5,
             "#f7f7f7"
            ],
            [
             0.6,
             "#e6f5d0"
            ],
            [
             0.7,
             "#b8e186"
            ],
            [
             0.8,
             "#7fbc41"
            ],
            [
             0.9,
             "#4d9221"
            ],
            [
             1,
             "#276419"
            ]
           ],
           "sequential": [
            [
             0,
             "#0d0887"
            ],
            [
             0.1111111111111111,
             "#46039f"
            ],
            [
             0.2222222222222222,
             "#7201a8"
            ],
            [
             0.3333333333333333,
             "#9c179e"
            ],
            [
             0.4444444444444444,
             "#bd3786"
            ],
            [
             0.5555555555555556,
             "#d8576b"
            ],
            [
             0.6666666666666666,
             "#ed7953"
            ],
            [
             0.7777777777777778,
             "#fb9f3a"
            ],
            [
             0.8888888888888888,
             "#fdca26"
            ],
            [
             1,
             "#f0f921"
            ]
           ],
           "sequentialminus": [
            [
             0,
             "#0d0887"
            ],
            [
             0.1111111111111111,
             "#46039f"
            ],
            [
             0.2222222222222222,
             "#7201a8"
            ],
            [
             0.3333333333333333,
             "#9c179e"
            ],
            [
             0.4444444444444444,
             "#bd3786"
            ],
            [
             0.5555555555555556,
             "#d8576b"
            ],
            [
             0.6666666666666666,
             "#ed7953"
            ],
            [
             0.7777777777777778,
             "#fb9f3a"
            ],
            [
             0.8888888888888888,
             "#fdca26"
            ],
            [
             1,
             "#f0f921"
            ]
           ]
          },
          "colorway": [
           "#636efa",
           "#EF553B",
           "#00cc96",
           "#ab63fa",
           "#FFA15A",
           "#19d3f3",
           "#FF6692",
           "#B6E880",
           "#FF97FF",
           "#FECB52"
          ],
          "font": {
           "color": "#2a3f5f"
          },
          "geo": {
           "bgcolor": "white",
           "lakecolor": "white",
           "landcolor": "#E5ECF6",
           "showlakes": true,
           "showland": true,
           "subunitcolor": "white"
          },
          "hoverlabel": {
           "align": "left"
          },
          "hovermode": "closest",
          "mapbox": {
           "style": "light"
          },
          "paper_bgcolor": "white",
          "plot_bgcolor": "#E5ECF6",
          "polar": {
           "angularaxis": {
            "gridcolor": "white",
            "linecolor": "white",
            "ticks": ""
           },
           "bgcolor": "#E5ECF6",
           "radialaxis": {
            "gridcolor": "white",
            "linecolor": "white",
            "ticks": ""
           }
          },
          "scene": {
           "xaxis": {
            "backgroundcolor": "#E5ECF6",
            "gridcolor": "white",
            "gridwidth": 2,
            "linecolor": "white",
            "showbackground": true,
            "ticks": "",
            "zerolinecolor": "white"
           },
           "yaxis": {
            "backgroundcolor": "#E5ECF6",
            "gridcolor": "white",
            "gridwidth": 2,
            "linecolor": "white",
            "showbackground": true,
            "ticks": "",
            "zerolinecolor": "white"
           },
           "zaxis": {
            "backgroundcolor": "#E5ECF6",
            "gridcolor": "white",
            "gridwidth": 2,
            "linecolor": "white",
            "showbackground": true,
            "ticks": "",
            "zerolinecolor": "white"
           }
          },
          "shapedefaults": {
           "line": {
            "color": "#2a3f5f"
           }
          },
          "ternary": {
           "aaxis": {
            "gridcolor": "white",
            "linecolor": "white",
            "ticks": ""
           },
           "baxis": {
            "gridcolor": "white",
            "linecolor": "white",
            "ticks": ""
           },
           "bgcolor": "#E5ECF6",
           "caxis": {
            "gridcolor": "white",
            "linecolor": "white",
            "ticks": ""
           }
          },
          "title": {
           "x": 0.05
          },
          "xaxis": {
           "automargin": true,
           "gridcolor": "white",
           "linecolor": "white",
           "ticks": "",
           "title": {
            "standoff": 15
           },
           "zerolinecolor": "white",
           "zerolinewidth": 2
          },
          "yaxis": {
           "automargin": true,
           "gridcolor": "white",
           "linecolor": "white",
           "ticks": "",
           "title": {
            "standoff": 15
           },
           "zerolinecolor": "white",
           "zerolinewidth": 2
          }
         }
        },
        "title": {
         "font": {
          "family": "Arial Black",
          "size": 18
         },
         "text": "2d Document Vector Analysis Dashboard ",
         "x": 0.5,
         "xanchor": "center"
        },
        "width": 1200,
        "xaxis": {
         "anchor": "y",
         "domain": [
          0,
          1
         ]
        },
        "xaxis2": {
         "anchor": "y2",
         "domain": [
          0,
          0.45
         ]
        },
        "xaxis3": {
         "anchor": "y3",
         "domain": [
          0.55,
          1
         ]
        },
        "yaxis": {
         "anchor": "x",
         "domain": [
          0.56,
          1
         ]
        },
        "yaxis2": {
         "anchor": "x2",
         "domain": [
          0,
          0.44
         ]
        },
        "yaxis3": {
         "anchor": "x3",
         "domain": [
          0,
          0.44
         ]
        }
       }
      }
     },
     "metadata": {},
     "output_type": "display_data"
    }
   ],
   "source": [
    "# Reduce the dimensionality of the vectors to 2D using t-SNE\n",
    "tsne = TSNE(n_components=2, perplexity=5, random_state=42, \n",
    "           max_iter=1000, learning_rate=200)\n",
    "reduced_vectors = tsne.fit_transform(vectors)\n",
    "\n",
    "# Create a DataFrame for easier handling\n",
    "df = pd.DataFrame({\n",
    "    'x': reduced_vectors[:, 0],\n",
    "    'y': reduced_vectors[:, 1],\n",
    "    'doc_type': doc_types,\n",
    "    'text': [doc[:200] + \"...\" if len(doc) > 200 else doc for doc in docs],\n",
    "    'text_length': [len(doc) for doc in docs]\n",
    "})\n",
    "\n",
    "# Create color mapping for different document types\n",
    "unique_types = df['doc_type'].unique()\n",
    "\n",
    "# Combine multiple color palettes to ensure we have enough colors\n",
    "all_colors = (px.colors.qualitative.Set3 + \n",
    "              px.colors.qualitative.Pastel + \n",
    "              px.colors.qualitative.Set1 + \n",
    "              px.colors.qualitative.Set2 +\n",
    "              px.colors.qualitative.Dark2 +\n",
    "              px.colors.qualitative.Plotly)\n",
    "\n",
    "# Ensure we have enough colors, cycle through if needed\n",
    "colors = [all_colors[i % len(all_colors)] for i in range(len(unique_types))]\n",
    "color_map = dict(zip(unique_types, colors))\n",
    "\n",
    "\n",
    "# Create ansubplot with document length distribution\n",
    "fig_combined = make_subplots(\n",
    "    rows=2, cols=2,\n",
    "    subplot_titles=('t-SNE Visualization', 'Document Length Distribution', \n",
    "                   'Document Type Counts', 'Cluster Density'),\n",
    "    specs=[[{\"colspan\": 2}, None],\n",
    "           [{\"type\": \"bar\"}, {\"type\": \"histogram\"}]],\n",
    "    vertical_spacing=0.12,\n",
    "    horizontal_spacing=0.1\n",
    ")\n",
    "\n",
    "# Add the main scatter plot\n",
    "for doc_type in unique_types:\n",
    "    mask = df['doc_type'] == doc_type\n",
    "    subset = df[mask]\n",
    "    \n",
    "    fig_combined.add_trace(go.Scatter(\n",
    "        x=subset['x'],\n",
    "        y=subset['y'],\n",
    "        mode='markers',\n",
    "        name=doc_type,\n",
    "        marker=dict(\n",
    "            size=10,\n",
    "            color=color_map[doc_type],\n",
    "            opacity=0.8,\n",
    "            line=dict(width=1, color='white')\n",
    "        ),\n",
    "        text=[f\"<b>Type:</b> {t}<br><b>Length:</b> {l} chars<br><b>Preview:</b><br>{txt}\" \n",
    "              for t, l, txt in zip(subset['doc_type'], subset['text_length'], subset['text'])],\n",
    "        hovertemplate='%{text}<extra></extra>',\n",
    "        showlegend=True\n",
    "    ), row=1, col=1)\n",
    "\n",
    "# Add document type counts\n",
    "type_counts = df['doc_type'].value_counts()\n",
    "fig_combined.add_trace(go.Bar(\n",
    "    x=type_counts.index,\n",
    "    y=type_counts.values,\n",
    "    marker_color=[color_map[t] for t in type_counts.index],\n",
    "    name='Document Counts',\n",
    "    showlegend=False\n",
    "), row=2, col=1)\n",
    "\n",
    "# Add text length distribution\n",
    "fig_combined.add_trace(go.Histogram(\n",
    "    x=df['text_length'],\n",
    "    nbinsx=20,\n",
    "    marker_color='lightblue',\n",
    "    name='Length Distribution',\n",
    "    showlegend=False\n",
    "), row=2, col=2)\n",
    "\n",
    "fig_combined.update_layout(\n",
    "    title={\n",
    "        'text': '2d Document Vector Analysis Dashboard ',\n",
    "        'x': 0.5,\n",
    "        'xanchor': 'center',\n",
    "        'font': {'size': 18, 'family': 'Arial Black'}\n",
    "    },\n",
    "    height=800,\n",
    "    width=1200,\n",
    "    showlegend=True\n",
    ")\n",
    "\n",
    "# Display the figure\n",
    "fig_combined.show()"
   ]
  },
  {
   "cell_type": "code",
   "execution_count": 23,
   "metadata": {},
   "outputs": [],
   "source": [
    "gemma_model_name = \"google/gemma-3-27b-it:free\""
   ]
  },
  {
   "cell_type": "markdown",
   "metadata": {},
   "source": [
    "<a id=\"import\"></a>\n",
    "# <p style=\"background-color:#E7E8D1; font-family:calibri; color:white; font-size:150%; text-align:center; border-radius:15px 50px; color:#000000\">Step 1 | Chat with LangChain Agent </p>\n",
    "\n"
   ]
  },
  {
   "cell_type": "code",
   "execution_count": 24,
   "metadata": {},
   "outputs": [],
   "source": [
    "# create a new Chat with OpenAI / Ollama\n",
    "\n",
    "#llama_model = ChatOllama(model=\"llama3.2:latest\")\n",
    "\n",
    "llm = ChatOpenAI(base_url=\"https://openrouter.ai/api/v1\"\n",
    "                ,api_key=os.getenv('GOOGLE_API_KEY'),\n",
    "                model_name=gemma_model_name)\n",
    "\n",
    "# set up the conversation memory for the chat\n",
    "memory = ConversationBufferMemory(memory_key='chat_history', return_messages=True)\n",
    "\n",
    "# the retriever is an abstraction over the VectorStore that will be used during RAG\n",
    "retriever = vectorstore.as_retriever()\n",
    "\n",
    "# putting it together: set up the conversation chain with the GPT 4o-mini LLM, the vector store and memory\n",
    "conversation_chain = ConversationalRetrievalChain.from_llm(llm=llm, retriever=retriever, memory=memory)"
   ]
  },
  {
   "cell_type": "code",
   "execution_count": 25,
   "metadata": {},
   "outputs": [],
   "source": [
    "def ask_question(question, conversation_chain=None, display_format=\"text\"):\n",
    "    \"\"\"\n",
    "    Ask a question to the conversation chain and return/display the response.\n",
    "    \n",
    "    Args:\n",
    "        question (str or list): The question(s) to ask. Can be a single string or list of strings\n",
    "        conversation_chain: The conversation chain instance (optional)\n",
    "        display_format (str): How to display the output (\"text\" or \"markdown\")\n",
    "    \n",
    "    Returns:\n",
    "        dict or list: The full conversation chain response(s)\n",
    "    \"\"\"\n",
    "    if conversation_chain is None:\n",
    "        conversation_chain = globals().get('conversation_chain')\n",
    "        if conversation_chain is None:\n",
    "            raise ValueError(\"No conversation chain provided or found in globals\")\n",
    "    \n",
    "    # Handle both single questions and lists of questions\n",
    "    if isinstance(question, list):\n",
    "        results = []\n",
    "        for q in question:\n",
    "            result = conversation_chain.invoke({\"question\": str(q)})\n",
    "            results.append(result)\n",
    "            \n",
    "            if display_format.lower() == \"markdown\":\n",
    "                display(Markdown(f\"**Question:** {q}\\n\\n**Answer:** {result['answer']}\"))\n",
    "            else:\n",
    "                print(f\"\\nQuestion: {q}\")\n",
    "                print(f\"Answer: {result['answer']}\\n\")\n",
    "        \n",
    "        return results\n",
    "    else:\n",
    "        # Handle single question\n",
    "        result = conversation_chain.invoke({\"question\": str(question)})\n",
    "        \n",
    "        if display_format.lower() == \"markdown\":\n",
    "            display(Markdown(f\"**Question:** {question}\\n\\n**Answer:** {result['answer']}\"))\n",
    "        else:\n",
    "            print(f\"\\nQuestion: {question}\")\n",
    "            print(f\"Answer: {result['answer']}\\n\")\n",
    "        \n",
    "        return result"
   ]
  },
  {
   "cell_type": "code",
   "execution_count": 26,
   "metadata": {},
   "outputs": [
    {
     "data": {
      "text/markdown": [
       "**Question:** Talk about Artificial Intelligence related to AI Agentic\n",
       "\n",
       "**Answer:** \n",
       "Okay, let's talk about AI, specifically focusing on the concept of \"AI Agents\" as described within these provided texts.\n",
       "\n",
       "**AI Agents: The Core Idea**\n",
       "\n",
       "The text defines the goal of AI as developing **intelligent agents**. These aren't robots necessarily (though they *can* be embodied in robots), but rather **systems that can perceive their environment and take actions to maximize their chances of achieving a goal.**  This is a foundational concept in AI.\n",
       "\n",
       "Here’s a breakdown of key aspects related to AI agents, based on the provided information:\n",
       "\n",
       "*   **Perception & Action:** Agents need to be able to *sense* things – gather information about their environment. They also need to be able to *act* – to do things that affect that environment.\n",
       "*   **Goal-Oriented:** The “maximize their chances of achieving a goal” part is critical. Unlike a simple program that just executes instructions, an agent has a defined objective and tries to *achieve* it.\n",
       "*   **Intelligence:** This is where the \"AI\" comes in. The agent's intelligence determines how effectively it can perceive, reason, plan, and act to reach its goal.\n",
       "\n",
       "**How AI Subfields contribute to Agent Development:**\n",
       "\n",
       "The text shows how several areas of AI contribute to building effective agents:\n",
       "\n",
       "*   **Machine Learning (ML):** Is incredibly important. Agents often *learn* how to achieve their goals. \n",
       "    *   **Reinforcement Learning** is specifically highlighted as a way for agents to learn through “trial and error,” which is very relevant to agent behavior. An agent takes actions, gets feedback (rewards or penalties), and adjusts its strategy to improve over time.\n",
       "*   **Natural Language Processing (NLP):** If an agent needs to interact with humans (understand commands, provide explanations), NLP is essential.\n",
       "*   **Computer Vision:** If the agent needs to \"see\" the environment (e.g., a self-driving car), computer vision provides that capability.\n",
       "*   **Robotics:** If the agent is a physical robot, robotics provides the design and programming aspects.\n",
       "\n",
       "\n",
       "\n",
       "**The connection to Neural Networks**\n",
       "\n",
       "Neural networks, particularly *deep learning*, play a huge role in modern AI agents.  They provide the pattern recognition and complex decision-making capabilities that are needed for agents to operate in real-world environments.\n",
       "The text highlights that neural networks can learn *hierarchical representations from raw data*, meaning they can automatically figure out important features and patterns without explicit programming. This is a massive advantage for agents dealing with complex, unstructured environments.\n",
       "\n",
       "**Challenges & Considerations**\n",
       "\n",
       "The text also points out challenges relating to agent development:\n",
       "\n",
       "*   **\"Black Box\" Nature:** Understanding *why* an AI agent made a particular decision can be difficult, which is a concern for applications where transparency is crucial.\n",
       "*   **Data & Resources:** Training these agents, especially those using deep learning, usually requires a lot of data and computing power.\n",
       "\n",
       "\n",
       "\n",
       "In short, AI agents represent a powerful paradigm for building intelligent systems. The combination of AI techniques (especially machine learning and neural networks) continues to drive advances in this exciting field."
      ],
      "text/plain": [
       "<IPython.core.display.Markdown object>"
      ]
     },
     "metadata": {},
     "output_type": "display_data"
    },
    {
     "data": {
      "text/markdown": [
       "**Question:** What are the main topics covered in the analytical chemistry documents?\n",
       "\n",
       "**Answer:** \n",
       "According to the provided text, the main topics covered in analytical chemistry are:\n",
       "\n",
       "* **Identification and quantification of chemical substances:** Determining *what* is in a sample and *how much* of it is there.\n",
       "* **Classical and Instrumental Methods:** The different techniques used for analysis (gravimetric, volumetric, spectroscopy, chromatography, electrochemistry).\n",
       "* **The Analytical Process:** Sampling, sample preparation, measurement, and data interpretation (including statistical analysis).\n",
       "* **Error Analysis & Validation:** Ensuring reliable results through careful consideration of errors and method validation.\n",
       "* **Development of New Techniques:** Ongoing research to improve sensitivity and analyze complex samples.\n",
       "\n",
       "\n",
       "\n"
      ],
      "text/plain": [
       "<IPython.core.display.Markdown object>"
      ]
     },
     "metadata": {},
     "output_type": "display_data"
    },
    {
     "data": {
      "text/plain": [
       "[{'question': 'Talk about Artificial Intelligence related to AI Agentic',\n",
       "  'chat_history': [HumanMessage(content='Talk about Artificial Intelligence related to AI Agentic', additional_kwargs={}, response_metadata={}),\n",
       "   AIMessage(content='\\nOkay, let\\'s talk about AI, specifically focusing on the concept of \"AI Agents\" as described within these provided texts.\\n\\n**AI Agents: The Core Idea**\\n\\nThe text defines the goal of AI as developing **intelligent agents**. These aren\\'t robots necessarily (though they *can* be embodied in robots), but rather **systems that can perceive their environment and take actions to maximize their chances of achieving a goal.**  This is a foundational concept in AI.\\n\\nHere’s a breakdown of key aspects related to AI agents, based on the provided information:\\n\\n*   **Perception & Action:** Agents need to be able to *sense* things – gather information about their environment. They also need to be able to *act* – to do things that affect that environment.\\n*   **Goal-Oriented:** The “maximize their chances of achieving a goal” part is critical. Unlike a simple program that just executes instructions, an agent has a defined objective and tries to *achieve* it.\\n*   **Intelligence:** This is where the \"AI\" comes in. The agent\\'s intelligence determines how effectively it can perceive, reason, plan, and act to reach its goal.\\n\\n**How AI Subfields contribute to Agent Development:**\\n\\nThe text shows how several areas of AI contribute to building effective agents:\\n\\n*   **Machine Learning (ML):** Is incredibly important. Agents often *learn* how to achieve their goals. \\n    *   **Reinforcement Learning** is specifically highlighted as a way for agents to learn through “trial and error,” which is very relevant to agent behavior. An agent takes actions, gets feedback (rewards or penalties), and adjusts its strategy to improve over time.\\n*   **Natural Language Processing (NLP):** If an agent needs to interact with humans (understand commands, provide explanations), NLP is essential.\\n*   **Computer Vision:** If the agent needs to \"see\" the environment (e.g., a self-driving car), computer vision provides that capability.\\n*   **Robotics:** If the agent is a physical robot, robotics provides the design and programming aspects.\\n\\n\\n\\n**The connection to Neural Networks**\\n\\nNeural networks, particularly *deep learning*, play a huge role in modern AI agents.  They provide the pattern recognition and complex decision-making capabilities that are needed for agents to operate in real-world environments.\\nThe text highlights that neural networks can learn *hierarchical representations from raw data*, meaning they can automatically figure out important features and patterns without explicit programming. This is a massive advantage for agents dealing with complex, unstructured environments.\\n\\n**Challenges & Considerations**\\n\\nThe text also points out challenges relating to agent development:\\n\\n*   **\"Black Box\" Nature:** Understanding *why* an AI agent made a particular decision can be difficult, which is a concern for applications where transparency is crucial.\\n*   **Data & Resources:** Training these agents, especially those using deep learning, usually requires a lot of data and computing power.\\n\\n\\n\\nIn short, AI agents represent a powerful paradigm for building intelligent systems. The combination of AI techniques (especially machine learning and neural networks) continues to drive advances in this exciting field.', additional_kwargs={}, response_metadata={}),\n",
       "   HumanMessage(content='What are the main topics covered in the analytical chemistry documents?', additional_kwargs={}, response_metadata={}),\n",
       "   AIMessage(content='\\nAccording to the provided text, the main topics covered in analytical chemistry are:\\n\\n* **Identification and quantification of chemical substances:** Determining *what* is in a sample and *how much* of it is there.\\n* **Classical and Instrumental Methods:** The different techniques used for analysis (gravimetric, volumetric, spectroscopy, chromatography, electrochemistry).\\n* **The Analytical Process:** Sampling, sample preparation, measurement, and data interpretation (including statistical analysis).\\n* **Error Analysis & Validation:** Ensuring reliable results through careful consideration of errors and method validation.\\n* **Development of New Techniques:** Ongoing research to improve sensitivity and analyze complex samples.\\n\\n\\n\\n', additional_kwargs={}, response_metadata={})],\n",
       "  'answer': '\\nOkay, let\\'s talk about AI, specifically focusing on the concept of \"AI Agents\" as described within these provided texts.\\n\\n**AI Agents: The Core Idea**\\n\\nThe text defines the goal of AI as developing **intelligent agents**. These aren\\'t robots necessarily (though they *can* be embodied in robots), but rather **systems that can perceive their environment and take actions to maximize their chances of achieving a goal.**  This is a foundational concept in AI.\\n\\nHere’s a breakdown of key aspects related to AI agents, based on the provided information:\\n\\n*   **Perception & Action:** Agents need to be able to *sense* things – gather information about their environment. They also need to be able to *act* – to do things that affect that environment.\\n*   **Goal-Oriented:** The “maximize their chances of achieving a goal” part is critical. Unlike a simple program that just executes instructions, an agent has a defined objective and tries to *achieve* it.\\n*   **Intelligence:** This is where the \"AI\" comes in. The agent\\'s intelligence determines how effectively it can perceive, reason, plan, and act to reach its goal.\\n\\n**How AI Subfields contribute to Agent Development:**\\n\\nThe text shows how several areas of AI contribute to building effective agents:\\n\\n*   **Machine Learning (ML):** Is incredibly important. Agents often *learn* how to achieve their goals. \\n    *   **Reinforcement Learning** is specifically highlighted as a way for agents to learn through “trial and error,” which is very relevant to agent behavior. An agent takes actions, gets feedback (rewards or penalties), and adjusts its strategy to improve over time.\\n*   **Natural Language Processing (NLP):** If an agent needs to interact with humans (understand commands, provide explanations), NLP is essential.\\n*   **Computer Vision:** If the agent needs to \"see\" the environment (e.g., a self-driving car), computer vision provides that capability.\\n*   **Robotics:** If the agent is a physical robot, robotics provides the design and programming aspects.\\n\\n\\n\\n**The connection to Neural Networks**\\n\\nNeural networks, particularly *deep learning*, play a huge role in modern AI agents.  They provide the pattern recognition and complex decision-making capabilities that are needed for agents to operate in real-world environments.\\nThe text highlights that neural networks can learn *hierarchical representations from raw data*, meaning they can automatically figure out important features and patterns without explicit programming. This is a massive advantage for agents dealing with complex, unstructured environments.\\n\\n**Challenges & Considerations**\\n\\nThe text also points out challenges relating to agent development:\\n\\n*   **\"Black Box\" Nature:** Understanding *why* an AI agent made a particular decision can be difficult, which is a concern for applications where transparency is crucial.\\n*   **Data & Resources:** Training these agents, especially those using deep learning, usually requires a lot of data and computing power.\\n\\n\\n\\nIn short, AI agents represent a powerful paradigm for building intelligent systems. The combination of AI techniques (especially machine learning and neural networks) continues to drive advances in this exciting field.'},\n",
       " {'question': 'What are the main topics covered in the analytical chemistry documents?',\n",
       "  'chat_history': [HumanMessage(content='Talk about Artificial Intelligence related to AI Agentic', additional_kwargs={}, response_metadata={}),\n",
       "   AIMessage(content='\\nOkay, let\\'s talk about AI, specifically focusing on the concept of \"AI Agents\" as described within these provided texts.\\n\\n**AI Agents: The Core Idea**\\n\\nThe text defines the goal of AI as developing **intelligent agents**. These aren\\'t robots necessarily (though they *can* be embodied in robots), but rather **systems that can perceive their environment and take actions to maximize their chances of achieving a goal.**  This is a foundational concept in AI.\\n\\nHere’s a breakdown of key aspects related to AI agents, based on the provided information:\\n\\n*   **Perception & Action:** Agents need to be able to *sense* things – gather information about their environment. They also need to be able to *act* – to do things that affect that environment.\\n*   **Goal-Oriented:** The “maximize their chances of achieving a goal” part is critical. Unlike a simple program that just executes instructions, an agent has a defined objective and tries to *achieve* it.\\n*   **Intelligence:** This is where the \"AI\" comes in. The agent\\'s intelligence determines how effectively it can perceive, reason, plan, and act to reach its goal.\\n\\n**How AI Subfields contribute to Agent Development:**\\n\\nThe text shows how several areas of AI contribute to building effective agents:\\n\\n*   **Machine Learning (ML):** Is incredibly important. Agents often *learn* how to achieve their goals. \\n    *   **Reinforcement Learning** is specifically highlighted as a way for agents to learn through “trial and error,” which is very relevant to agent behavior. An agent takes actions, gets feedback (rewards or penalties), and adjusts its strategy to improve over time.\\n*   **Natural Language Processing (NLP):** If an agent needs to interact with humans (understand commands, provide explanations), NLP is essential.\\n*   **Computer Vision:** If the agent needs to \"see\" the environment (e.g., a self-driving car), computer vision provides that capability.\\n*   **Robotics:** If the agent is a physical robot, robotics provides the design and programming aspects.\\n\\n\\n\\n**The connection to Neural Networks**\\n\\nNeural networks, particularly *deep learning*, play a huge role in modern AI agents.  They provide the pattern recognition and complex decision-making capabilities that are needed for agents to operate in real-world environments.\\nThe text highlights that neural networks can learn *hierarchical representations from raw data*, meaning they can automatically figure out important features and patterns without explicit programming. This is a massive advantage for agents dealing with complex, unstructured environments.\\n\\n**Challenges & Considerations**\\n\\nThe text also points out challenges relating to agent development:\\n\\n*   **\"Black Box\" Nature:** Understanding *why* an AI agent made a particular decision can be difficult, which is a concern for applications where transparency is crucial.\\n*   **Data & Resources:** Training these agents, especially those using deep learning, usually requires a lot of data and computing power.\\n\\n\\n\\nIn short, AI agents represent a powerful paradigm for building intelligent systems. The combination of AI techniques (especially machine learning and neural networks) continues to drive advances in this exciting field.', additional_kwargs={}, response_metadata={}),\n",
       "   HumanMessage(content='What are the main topics covered in the analytical chemistry documents?', additional_kwargs={}, response_metadata={}),\n",
       "   AIMessage(content='\\nAccording to the provided text, the main topics covered in analytical chemistry are:\\n\\n* **Identification and quantification of chemical substances:** Determining *what* is in a sample and *how much* of it is there.\\n* **Classical and Instrumental Methods:** The different techniques used for analysis (gravimetric, volumetric, spectroscopy, chromatography, electrochemistry).\\n* **The Analytical Process:** Sampling, sample preparation, measurement, and data interpretation (including statistical analysis).\\n* **Error Analysis & Validation:** Ensuring reliable results through careful consideration of errors and method validation.\\n* **Development of New Techniques:** Ongoing research to improve sensitivity and analyze complex samples.\\n\\n\\n\\n', additional_kwargs={}, response_metadata={})],\n",
       "  'answer': '\\nAccording to the provided text, the main topics covered in analytical chemistry are:\\n\\n* **Identification and quantification of chemical substances:** Determining *what* is in a sample and *how much* of it is there.\\n* **Classical and Instrumental Methods:** The different techniques used for analysis (gravimetric, volumetric, spectroscopy, chromatography, electrochemistry).\\n* **The Analytical Process:** Sampling, sample preparation, measurement, and data interpretation (including statistical analysis).\\n* **Error Analysis & Validation:** Ensuring reliable results through careful consideration of errors and method validation.\\n* **Development of New Techniques:** Ongoing research to improve sensitivity and analyze complex samples.\\n\\n\\n\\n'}]"
      ]
     },
     "execution_count": 26,
     "metadata": {},
     "output_type": "execute_result"
    }
   ],
   "source": [
    "# Ask two different questions\n",
    "questions = [\n",
    "    \"Talk about Artificial Intelligence related to AI Agentic\",\n",
    "    \"What are the main topics covered in the analytical chemistry documents?\"\n",
    "]\n",
    "ask_question(question=questions, conversation_chain=conversation_chain, display_format=\"markdown\")"
   ]
  },
  {
   "cell_type": "code",
   "execution_count": 27,
   "metadata": {},
   "outputs": [],
   "source": [
    "# Define system prompt \n",
    "SYSTEM_PROMPT = \"\"\"You are a helpful AI assistant with access to a knowledge base of documents. \n",
    "Your role is to:\n",
    "- Provide accurate and relevant information based on the documents\n",
    "- Be concise but thorough in your responses\n",
    "- Acknowledge when you don't have enough information\n",
    "- Maintain a professional and helpful tone\n",
    "- Focus on answering the specific question asked\n",
    "- You have to act as a data minning expert\n",
    "- Your name is Amro \n",
    "\"\"\""
   ]
  },
  {
   "cell_type": "code",
   "execution_count": 28,
   "metadata": {},
   "outputs": [],
   "source": [
    "def chat_interface(message, history):\n",
    "    # Convert history to the format expected by the conversation chain\n",
    "    chat_history = []\n",
    "    for user, ai in history:\n",
    "        chat_history.append({\"role\": \"user\", \"content\": user})\n",
    "        chat_history.append({\"role\": \"assistant\", \"content\": ai})\n",
    "    \n",
    "    # Add system prompt to the message\n",
    "    full_message = f\"{SYSTEM_PROMPT}\\n\\nUser question: {message}\"\n",
    "    \n",
    "    # Get response from the conversation chain\n",
    "    result = conversation_chain.invoke({\"question\": full_message})\n",
    "    \n",
    "    return result['answer']"
   ]
  },
  {
   "cell_type": "code",
   "execution_count": 29,
   "metadata": {},
   "outputs": [],
   "source": [
    "# Create the Gradio interface\n",
    "demo = gr.ChatInterface(\n",
    "    fn=chat_interface,\n",
    "    title=\"RAG Chat Interface\",\n",
    "    description=\"Ask questions about the documents in the knowledge base. I'll help you find relevant information!\",\n",
    "    theme=\"soft\",\n",
    "    examples=[\n",
    "        \"What is astophsics?\",\n",
    "        \"Tell me about analytical chemistry\",\n",
    "        \"How can I be a calculus expert\"\n",
    "    ]\n",
    ")\n"
   ]
  },
  {
   "cell_type": "code",
   "execution_count": 30,
   "metadata": {},
   "outputs": [
    {
     "name": "stdout",
     "output_type": "stream",
     "text": [
      "* Running on local URL:  http://127.0.0.1:7860\n",
      "\n",
      "Could not create share link. Please check your internet connection or our status page: https://status.gradio.app.\n"
     ]
    },
    {
     "data": {
      "text/html": [
       "<div><iframe src=\"http://127.0.0.1:7860/\" width=\"100%\" height=\"500\" allow=\"autoplay; camera; microphone; clipboard-read; clipboard-write;\" frameborder=\"0\" allowfullscreen></iframe></div>"
      ],
      "text/plain": [
       "<IPython.core.display.HTML object>"
      ]
     },
     "metadata": {},
     "output_type": "display_data"
    },
    {
     "data": {
      "text/plain": []
     },
     "execution_count": 30,
     "metadata": {},
     "output_type": "execute_result"
    }
   ],
   "source": [
    "\n",
    "# Launch the interface\n",
    "demo.launch(share=True)\n",
    "\n"
   ]
  },
  {
   "cell_type": "markdown",
   "metadata": {},
   "source": [
    "<a id=\"import\"></a>\n",
    "# <p style=\"background-color:#E7E8D1; font-family:calibri; color:white; font-size:150%; text-align:center; border-radius:15px 50px; color:#000000\">Step 2 | Search Using FAISS LSH </p>\n",
    "\n"
   ]
  },
  {
   "cell_type": "markdown",
   "metadata": {},
   "source": [
    "### LSH Evaluation Metrics - Quick Reference\n",
    "### Key Metrics\n",
    "\n",
    "### `Precision@k: Of k results returned, how many are relevant?`\n",
    "\n",
    "### `Recall@k: Of all relevant items, how many did you find?`\n",
    "\n",
    "\n",
    "### `NDCG@10: How well are relevant results ranked?`\n",
    "\n",
    "\n",
    "#### `MRR: How quickly do you find the first relevant result?`\n",
    "\n",
    "\n",
    "#### LSH Parameter Choice\n",
    "\n",
    "Lower nbits (8,16): Faster, less accurate\n",
    "\n",
    "Higher nbits (48,64): Slower, more accurate"
   ]
  },
  {
   "cell_type": "code",
   "execution_count": 31,
   "metadata": {},
   "outputs": [],
   "source": [
    "test_queries = [\n",
    "    (\"What is analytical chemistry?\", [0]),\n",
    "    (\"What is artificial intelligence?\", [1]),\n",
    "    (\"What is biotechnology?\", [5]),\n",
    "    (\"Explain linear algebra\", [23]), \n",
    "]"
   ]
  },
  {
   "cell_type": "code",
   "execution_count": 32,
   "metadata": {},
   "outputs": [],
   "source": [
    "nbits = 32  # Number of bits for LSH (adjust based on our evaluation technices down)\n",
    "index = faiss.IndexLSH(d, nbits)\n",
    "\n",
    "index.add(vectors)    # Add vectors to the index"
   ]
  },
  {
   "cell_type": "code",
   "execution_count": 33,
   "metadata": {},
   "outputs": [
    {
     "name": "stdout",
     "output_type": "stream",
     "text": [
      "nbits= 8: P@5=0.050, R@10=0.250, NDCG@10=0.461, MRR=0.098\n",
      "nbits=16: P@5=0.150, R@10=0.750, NDCG@10=0.467, MRR=0.350\n",
      "nbits=24: P@5=0.100, R@10=0.750, NDCG@10=0.609, MRR=0.365\n",
      "nbits=32: P@5=0.200, R@10=1.000, NDCG@10=1.000, MRR=1.000\n",
      "nbits=48: P@5=0.200, R@10=1.000, NDCG@10=0.757, MRR=0.833\n",
      "nbits=64: P@5=0.200, R@10=1.000, NDCG@10=0.881, MRR=1.000\n",
      "\n",
      "Best for precision@5: 32\n",
      "Best for recall@10: 32\n",
      "Best for NDCG@10: 32\n"
     ]
    }
   ],
   "source": [
    "\n",
    "nbits_list = [8, 16, 24, 32, 48, 64]\n",
    "k_values = [5, 10, 20]\n",
    "results = {}\n",
    "\n",
    "for nbits in nbits_list:\n",
    "    index = faiss.IndexLSH(vectors.shape[1], nbits)\n",
    "    index.add(vectors)\n",
    "    \n",
    "    metrics = {f'precision@{k}': [] for k in k_values}\n",
    "    metrics.update({f'recall@{k}': [] for k in k_values})\n",
    "    metrics['ndcg@10'] = []\n",
    "    metrics['mrr'] = []  # Mean Reciprocal Rank\n",
    "    \n",
    "    for query_text, expected_indices in test_queries:\n",
    "        query_vector = np.array([embeddings.embed_query(query_text)], dtype='float32')\n",
    "        distances, indices = index.search(query_vector, max(k_values))\n",
    "        \n",
    "        expected_set = set(expected_indices)\n",
    "        \n",
    "        for k in k_values:\n",
    "            retrieved = set(indices[0][:k])\n",
    "            \n",
    "            # Precision@k\n",
    "            precision = len(retrieved & expected_set) / k if k > 0 else 0\n",
    "            metrics[f'precision@{k}'].append(precision)\n",
    "            \n",
    "            # Recall@k\n",
    "            recall = len(retrieved & expected_set) / len(expected_set) if expected_set else 0\n",
    "            metrics[f'recall@{k}'].append(recall)\n",
    "        \n",
    "        # NDCG@10 (relevance-based ranking quality)\n",
    "        if len(expected_indices) > 0:\n",
    "            y_true = [1 if idx in expected_set else 0 for idx in indices[0][:10]]\n",
    "            y_score = [-distances[0][i] for i in range(min(10, len(distances[0])))]  # Use actual scores\n",
    "            if sum(y_true) > 0 and len(y_true) == len(y_score):\n",
    "                ndcg = ndcg_score([y_true], [y_score])\n",
    "                metrics['ndcg@10'].append(ndcg)\n",
    "        \n",
    "        # Mean Reciprocal Rank\n",
    "        for i, idx in enumerate(indices[0][:20]):\n",
    "            if idx in expected_set:\n",
    "                metrics['mrr'].append(1.0 / (i + 1))\n",
    "                break\n",
    "        else:\n",
    "            metrics['mrr'].append(0.0)\n",
    "    \n",
    "    # Average all metrics\n",
    "    avg_metrics = {metric: np.mean(values) for metric, values in metrics.items()}\n",
    "    results[nbits] = avg_metrics\n",
    "    \n",
    "    print(f\"nbits={nbits:2d}: P@5={avg_metrics['precision@5']:.3f}, \"\n",
    "            f\"R@10={avg_metrics['recall@10']:.3f}, \"\n",
    "            f\"NDCG@10={avg_metrics['ndcg@10']:.3f}, \"\n",
    "            f\"MRR={avg_metrics['mrr']:.3f}\")\n",
    "\n",
    "# Best by different criteria\n",
    "best_precision = max(results, key=lambda x: results[x]['precision@5'])\n",
    "best_recall = max(results, key=lambda x: results[x]['recall@10'])\n",
    "best_ndcg = max(results, key=lambda x: results[x]['ndcg@10'])\n",
    "\n",
    "print(f\"\\nBest for precision@5: {best_precision}\")\n",
    "print(f\"Best for recall@10: {best_recall}\")\n",
    "print(f\"Best for NDCG@10: {best_ndcg}\")"
   ]
  },
  {
   "cell_type": "code",
   "execution_count": 40,
   "metadata": {},
   "outputs": [],
   "source": [
    "def search_and_visualize(query_text, k=3):\n",
    "    print(\"=\"*60)\n",
    "    print(f\"   SEARCHING FOR: '{query_text}'\")\n",
    "    print(\"=\"*60)\n",
    "    \n",
    "    # Get query embedding\n",
    "    query_embedding = embeddings.embed_query(query_text)\n",
    "    query_vector = np.array([query_embedding]).astype('float32')\n",
    "    \n",
    "    # Calculate distances for ALL documents (not just LSH results)\n",
    "    distances_all = np.linalg.norm(vectors - query_vector, axis=1)\n",
    "    similarities = 1 / (1 + distances_all)  # Convert to similarity scores\n",
    "    normalized_similarities = (similarities - similarities.min()) / (similarities.max() - similarities.min())\n",
    "    \n",
    "    # Get top k results based on normalized similarity (highest first)\n",
    "    top_indices = np.argsort(normalized_similarities)[::-1][:k]\n",
    "    \n",
    "    # Get the results with enhanced formatting\n",
    "    results = []\n",
    "    print(\"\\nSEARCH RESULTS (Top 3 by Normalized Similarity):\")\n",
    "    print(\"-\" * 50)\n",
    "    for i, idx in enumerate(top_indices):\n",
    "        dist = distances_all[idx]\n",
    "        norm_sim = normalized_similarities[idx]\n",
    "        results.append({\n",
    "            'text': docs[idx],\n",
    "            'metadata': metadatas[idx],\n",
    "            'distance': float(dist),\n",
    "            'normalized_similarity': float(norm_sim),\n",
    "            'index': idx\n",
    "        })\n",
    "        print(f\"\\nResult #{i+1}\")\n",
    "        print(f\"   Distance: {dist:.4f}\")\n",
    "        print(f\"   Normalized Similarity: {norm_sim:.4f}\")\n",
    "        print(f\"   Meta Data: {metadatas[idx]}\")\n",
    "        print(f\"   Text: {docs[idx]}\")\n",
    "    \n",
    "    # Create visualization with enhanced aesthetics\n",
    "    all_vectors = vectors.copy()\n",
    "    query_point = query_vector[0]\n",
    "    \n",
    "    # Add query point to visualization\n",
    "    viz_vectors = np.vstack([all_vectors, query_point])\n",
    "    \n",
    "    # Reduce dimensionality with t-SNE (enhanced parameters)\n",
    "    tsne = TSNE(n_components=2, perplexity=min(30, len(viz_vectors)-1), \n",
    "                random_state=42, max_iter=1000, learning_rate=200)\n",
    "    reduced_vectors = tsne.fit_transform(viz_vectors)\n",
    "    \n",
    "    # Separate the query point and document points\n",
    "    doc_points = reduced_vectors[:-1]\n",
    "    query_point_2d = reduced_vectors[-1]\n",
    "    \n",
    "    # Create the stunning plot :)\n",
    "    fig = go.Figure()\n",
    "    \n",
    "    # Add document points with gradient coloring and enhanced hover\n",
    "    fig.add_trace(go.Scatter(\n",
    "        x=doc_points[:, 0],\n",
    "        y=doc_points[:, 1],\n",
    "        mode='markers',\n",
    "        marker=dict(\n",
    "            size=12,\n",
    "            color=normalized_similarities,\n",
    "            colorscale='plasma',  # More vibrant colorscale\n",
    "            showscale=True,\n",
    "            opacity=0.8,\n",
    "            line=dict(width=1, color='white'),\n",
    "            colorbar=dict(\n",
    "                title=dict(\n",
    "                    text=\"Similarity Score\",\n",
    "                    font=dict(size=14, family=\"Arial Black\")\n",
    "                ),\n",
    "                thickness=25,\n",
    "                len=0.7,\n",
    "                x=1.02,\n",
    "                tickfont=dict(size=12)\n",
    "            )\n",
    "        ),\n",
    "        text=[f\"<b>Type:</b> {m['doc_type']}<br><b>Similarity:</b> {sim:.2%}<br><b>Preview:</b><br>{dim[:200]}{'...' if len(dim) > 200 else ''}\" \n",
    "              for m, dim, sim in zip(metadatas, docs, normalized_similarities)],\n",
    "        hovertemplate='%{text}<extra></extra>',\n",
    "        name='Document Corpus',\n",
    "        hoverlabel=dict(\n",
    "            bgcolor=\"rgba(255,255,255,0.95)\",\n",
    "            bordercolor=\"rgba(0,0,0,0.2)\",\n",
    "            font=dict(size=13, family=\"Arial\"),\n",
    "            namelength=-1\n",
    "        )\n",
    "    ))\n",
    "    \n",
    "    # Add query point with stunning styling\n",
    "    fig.add_trace(go.Scatter(\n",
    "        x=[query_point_2d[0]],\n",
    "        y=[query_point_2d[1]],\n",
    "        mode='markers+text',\n",
    "        marker=dict(\n",
    "            size=25,\n",
    "            color='gold',\n",
    "            symbol='star',\n",
    "            line=dict(width=3, color='darkorange'),\n",
    "            opacity=1.0\n",
    "        ),\n",
    "        text=['QUERY'],\n",
    "        textposition=\"top center\",\n",
    "        textfont=dict(size=14, color='darkorange', family=\"Arial Black\"),\n",
    "        name='Search Query',\n",
    "        hovertemplate=f'<b>Search Query</b><br>\"{query_text}\"<extra></extra>',\n",
    "        hoverlabel=dict(\n",
    "            bgcolor=\"gold\",\n",
    "            bordercolor=\"darkorange\",\n",
    "            font=dict(size=13, color='black', family=\"Arial Black\")\n",
    "        )\n",
    "    ))\n",
    "    \n",
    "    # Add result points with enhanced styling and animations\n",
    "    result_points = doc_points[top_indices]\n",
    "    result_similarities = normalized_similarities[top_indices]\n",
    "    \n",
    "    # Create different markers for top results\n",
    "    symbols = ['diamond', 'circle', 'square', 'triangle-up', 'pentagon']\n",
    "    colors = ['#ff6b6b', '#4ecdc4', '#45b7d1', '#96ceb4', '#ffeaa7']\n",
    "    rank_labels = ['#1', '#2', '#3', '#4', '#5']\n",
    "    \n",
    "    for i, (point, idx, sim) in enumerate(zip(result_points, top_indices, result_similarities)):\n",
    "        rank_label = rank_labels[i] if i < 5 else f'#{i+1}'\n",
    "        dist = distances_all[idx]\n",
    "        \n",
    "        fig.add_trace(go.Scatter(\n",
    "            x=[point[0]],\n",
    "            y=[point[1]],\n",
    "            mode='markers+text',\n",
    "            marker=dict(\n",
    "                size=20,\n",
    "                color=colors[i % len(colors)],\n",
    "                symbol=symbols[i % len(symbols)],\n",
    "                line=dict(width=3, color='white'),\n",
    "                opacity=0.9\n",
    "            ),\n",
    "            text=[rank_label],\n",
    "            textposition=\"middle center\",\n",
    "            textfont=dict(size=16, color='white', family=\"Arial Black\"),\n",
    "            name=f'Result {rank_label}',\n",
    "            hovertemplate=f'<b>Result {rank_label}</b><br>' +\n",
    "                         f'Distance: {dist:.4f}<br>' +\n",
    "                         f'Normalized Similarity: {sim:.4f}<br>' +\n",
    "                         f'Type: {metadatas[idx][\"doc_type\"]}<br>' +\n",
    "                         f'Text: {docs[idx][:150]}{\"...\" if len(docs[idx]) > 150 else \"\"}<extra></extra>',\n",
    "            hoverlabel=dict(\n",
    "                bgcolor=colors[i % len(colors)],\n",
    "                bordercolor='white',\n",
    "                font=dict(size=12, color='white', family=\"Arial\")\n",
    "            )\n",
    "        ))\n",
    "    \n",
    "    # Add connection lines from query to results\n",
    "    for i, point in enumerate(result_points):\n",
    "        fig.add_trace(go.Scatter(\n",
    "            x=[query_point_2d[0], point[0]],\n",
    "            y=[query_point_2d[1], point[1]],\n",
    "            mode='lines',\n",
    "            line=dict(\n",
    "                color=colors[i % len(colors)],\n",
    "                width=2,\n",
    "                dash='dot'\n",
    "            ),\n",
    "            opacity=0.6,\n",
    "            showlegend=False,\n",
    "            hoverinfo='skip'\n",
    "        ))\n",
    "    \n",
    "    # add more sytling layout  :)\n",
    "    fig.update_layout(\n",
    "        title=dict(\n",
    "            text='Semantic Search Visualization<br><sub>Document Similarity Explorer</sub>',\n",
    "            x=0.5,\n",
    "            y=0.95,\n",
    "            xanchor='center',\n",
    "            yanchor='top',\n",
    "            font=dict(size=24, family=\"Arial Black\", color='#2c3e50')\n",
    "        ),\n",
    "        xaxis=dict(\n",
    "            title=dict(text='t-SNE Dimension 1', font=dict(size=14, family=\"Arial\")),\n",
    "            showgrid=True,\n",
    "            gridcolor='rgba(200,200,200,0.3)',\n",
    "            gridwidth=1,\n",
    "            zeroline=True,\n",
    "            zerolinecolor='rgba(0,0,0,0.3)',\n",
    "            zerolinewidth=2,\n",
    "            showspikes=True,\n",
    "            spikecolor='rgba(0,0,0,0.5)',\n",
    "            spikesnap='cursor',\n",
    "            spikemode='across',\n",
    "            spikedash='solid',\n",
    "            spikethickness=1\n",
    "        ),\n",
    "        yaxis=dict(\n",
    "            title=dict(text='t-SNE Dimension 2', font=dict(size=14, family=\"Arial\")),\n",
    "            showgrid=True,\n",
    "            gridcolor='rgba(200,200,200,0.3)',\n",
    "            gridwidth=1,\n",
    "            zeroline=True,\n",
    "            zerolinecolor='rgba(0,0,0,0.3)',\n",
    "            zerolinewidth=2,\n",
    "            showspikes=True,\n",
    "            spikecolor='rgba(0,0,0,0.5)',\n",
    "            spikesnap='cursor',\n",
    "            spikemode='across',\n",
    "            spikedash='solid',\n",
    "            spikethickness=1\n",
    "        ),\n",
    "        showlegend=True,\n",
    "        width=1200,\n",
    "        height=900,\n",
    "        margin=dict(l=80, r=150, t=120, b=80),\n",
    "        legend=dict(\n",
    "            yanchor=\"top\",\n",
    "            y=0.98,\n",
    "            xanchor=\"left\",\n",
    "            x=1.02,\n",
    "            bgcolor=\"rgba(255,255,255,0.9)\",\n",
    "            bordercolor=\"rgba(0,0,0,0.2)\",\n",
    "            borderwidth=1,\n",
    "            font=dict(size=11)\n",
    "        ),\n",
    "        plot_bgcolor='rgba(248,249,250,0.8)',\n",
    "        paper_bgcolor='white',\n",
    "        hovermode='closest',\n",
    "        hoverdistance=50,\n",
    "        font=dict(family=\"Arial\")\n",
    "    )\n",
    "    \n",
    "    # Add enhanced annotations with modern styling\n",
    "    fig.add_annotation(\n",
    "        text=\"<b>Visual Guide</b><br>\" +\n",
    "             \"Gold Star = Your Query<br>\" +\n",
    "             \"Colored Markers = Top Results<br>\" +\n",
    "             \"Dotted Lines = Query Connections\",\n",
    "        xref=\"paper\", yref=\"paper\",\n",
    "        x=0.02, y=0.02,\n",
    "        showarrow=False,\n",
    "        font=dict(size=11, family=\"Arial\"),\n",
    "        bgcolor=\"rgba(255,255,255,0.95)\",\n",
    "        bordercolor=\"rgba(0,0,0,0.2)\",\n",
    "        borderwidth=1,\n",
    "        borderpad=8,\n",
    "        align=\"left\"\n",
    "    )\n",
    "    \n",
    "    # Add performance metrics annotation\n",
    "    fig.add_annotation(\n",
    "        text=f\"<b>Search Performance</b><br>\" +\n",
    "             f\"Results Found: {k}<br>\" +\n",
    "             f\"Query: \\\"{query_text[:30]}{'...' if len(query_text) > 30 else ''}\\\"\",\n",
    "        xref=\"paper\", yref=\"paper\",\n",
    "        x=0.98, y=0.02,\n",
    "        showarrow=False,\n",
    "        font=dict(size=11, family=\"Arial\"),\n",
    "        bgcolor=\"rgba(240,248,255,0.95)\",\n",
    "        bordercolor=\"rgba(70,130,180,0.3)\",\n",
    "        borderwidth=1,\n",
    "        borderpad=8,\n",
    "        align=\"left\"\n",
    "    )\n",
    "    \n",
    "    print(f\"\\nVisualization created with {len(doc_points)} documents\")\n",
    "    print(\"=\"*60)\n",
    "\n",
    "    return results, fig"
   ]
  },
  {
   "cell_type": "code",
   "execution_count": 41,
   "metadata": {},
   "outputs": [
    {
     "name": "stdout",
     "output_type": "stream",
     "text": [
      "============================================================\n",
      "   SEARCHING FOR: 'What is Supervised learning algorithm ??'\n",
      "============================================================\n",
      "\n",
      "SEARCH RESULTS (Top 3 by Normalized Similarity):\n",
      "--------------------------------------------------\n",
      "\n",
      "Result #1\n",
      "   Distance: 0.9269\n",
      "   Normalized Similarity: 1.0000\n",
      "   Meta Data: {'source': 'knowledge-base2\\\\machine_learning.txt', 'doc_type': 'machine_learning'}\n",
      "   Text: # Machine Learning\n",
      "Machine learning enables computers to improve their performance on tasks through experience without explicit programming. This computational approach transforms data into actionable intelligence by identifying patterns and making decisions with minimal human intervention. From recommendation systems to autonomous vehicles, machine learning algorithms power increasingly sophisticated applications that adapt to new information and changing environments.\n",
      "Supervised learning algorithms learn mappings between inputs and outputs using labeled training data. Classification algorithms assign inputs to discrete categories, exemplified by support vector machines establishing decision boundaries in high-dimensional spaces and decision trees recursively partitioning feature spaces based on information gain. Regression models predict continuous values, with linear regression establishing relationships through weighted feature combinations and polynomial regression capturing non-linear patterns through higher-order terms. Ensemble methods like random forests and gradient-boosting machines combine multiple models to improve prediction accuracy and robustness, mitigating individual model weaknesses.\n",
      "Unsupervised learning discovers inherent data structures without labeled outputs. Clustering algorithms group similar instances; k-means assigns data points to clusters by minimizing distances to centroid means, while hierarchical clustering builds nested clusters through agglomerative or divisive approaches. Dimensionality reduction techniques address the \"curse of dimensionality\" by transforming high-dimensional data into lower-dimensional representations; principal component analysis (PCA) projects data onto orthogonal axes maximizing variance, while t-SNE (t-distributed Stochastic Neighbor Embedding) preserves local similarities for visualization. Association rule learning uncovers relationships between variables in transaction datasets, identifying frequently co-occurring items through algorithms like Apriori.\n",
      "Deep learning employs neural networks with multiple layers to learn hierarchical representations from data. Convolutional neural networks (CNNs) excel in image processing through weight-sharing layers that extract spatial features at increasing levels of abstraction. Recurrent neural networks (RNNs) process sequential data by maintaining internal states that capture temporal dependencies, while their variants like long short-term memory (LSTM) networks address vanishing gradient problems in modeling long-range dependencies. Generative adversarial networks (GANs) consist of generator networks creating synthetic data and discriminator networks distinguishing between real and generated samples, enabling highly realistic data generation through adversarial training.\n",
      "Reinforcement learning trains agents to maximize cumulative rewards through environment interaction. Value-based methods like Q-learning estimate expected returns for state-action pairs, while policy-based approaches directly optimize action selection strategies. Deep reinforcement learning combines neural networks with reinforcement principles, achieving remarkable successes in complex domains like game playing and robotic control. Multi-agent reinforcement learning extends these concepts to scenarios with multiple interacting agents, addressing challenges of coordination and competition.\n",
      "Model evaluation and selection constitute critical aspects of machine learning workflows. Cross-validation techniques assess generalization performance by partitioning data into training and validation sets across multiple iterations. Metrics like accuracy, precision, recall, and F1-score quantify classification performance, while mean squared error and R-squared evaluate regression models. Regularization methods—including L1 (Lasso) and L2 (Ridge) regularization—prevent overfitting by penalizing model complexity. Hyperparameter tuning optimizes algorithm-specific parameters through techniques like grid search and Bayesian optimization, balancing the bias-variance tradeoff to maximize model performance on unseen data.\n",
      "\n",
      "Result #2\n",
      "   Distance: 0.9513\n",
      "   Normalized Similarity: 0.9391\n",
      "   Meta Data: {'doc_type': 'Artificial Intelligence', 'source': 'knowledge-base2\\\\Artificial Intelligence.txt'}\n",
      "   Text: Artificial Intelligence (AI) in computer science is the field dedicated to creating systems that can perform tasks that typically require human intelligence. This includes learning from experience, understanding natural language, recognizing patterns, solving problems, and making decisions. The goal of AI is to develop intelligent agents, which are systems that can perceive their environment and take actions to maximize their chances of achieving a goal.\n",
      "AI encompasses a wide range of approaches and subfields. Machine learning, a prominent subfield, focuses on developing algorithms that allow computers to learn from data without being explicitly programmed. This includes supervised learning (learning from labeled data), unsupervised learning (finding patterns in unlabeled data), and reinforcement learning (learning through trial and error). Deep learning, a subset of machine learning, utilizes artificial neural networks with multiple layers to process complex data like images, audio, and text.\n",
      "Other areas within AI include natural language processing (enabling computers to understand and generate human language), computer vision (enabling computers to \"see\" and interpret images), robotics (designing and programming robots to perform tasks), and expert systems (systems that mimic the decision-making ability of a human expert). AI has numerous applications across various industries, including healthcare (medical diagnosis, drug discovery), finance (fraud detection, algorithmic trading), transportation (autonomous vehicles), and entertainment (recommendation systems). While AI offers significant potential to improve lives and solve complex problems, it also raises important ethical considerations regarding bias, privacy, and the future of work.\n",
      "\n",
      "Result #3\n",
      "   Distance: 1.1295\n",
      "   Normalized Similarity: 0.5373\n",
      "   Meta Data: {'source': 'knowledge-base2\\\\Data structures.txt', 'doc_type': 'Data structures'}\n",
      "   Text: Data structures and algorithms are foundational concepts in computer science, crucial for efficient problem-solving and software development. A data structure is a particular way of organizing and storing data in a computer so that it can be accessed and modified efficiently. Examples include arrays, linked lists, stacks, queues, trees, graphs, and hash tables. Each data structure has its own strengths and weaknesses in terms of how quickly data can be inserted, deleted, searched, or accessed, making the choice of the appropriate data structure critical for the performance of a program.\n",
      "An algorithm is a step-by-step procedure or formula for solving a problem or completing a task. Algorithms are the recipes that operate on data structures to achieve a desired outcome. Examples range from simple sorting algorithms like bubble sort or quicksort to complex graph traversal algorithms like Dijkstra's algorithm or algorithms for searching databases. The efficiency of an algorithm is typically measured by its time complexity (how the execution time grows with the input size) and space complexity (how much memory it requires). Analyzing and optimizing the complexity of algorithms is a key skill for computer scientists.\n",
      "The interplay between data structures and algorithms is fundamental. The choice of data structure often dictates which algorithms are most suitable for a given problem, and vice versa. For example, searching for an element is much faster in a sorted array using binary search than in an unsorted linked list. Designing efficient algorithms requires a deep understanding of how data can be organized and manipulated. Mastery of data structures and algorithms is essential for developing high-performance software, tackling complex computational problems, and excelling in areas like artificial intelligence, machine learning, and cybersecurity.\n",
      "\n",
      "Visualization created with 51 documents\n",
      "============================================================\n"
     ]
    },
    {
     "data": {
      "application/vnd.plotly.v1+json": {
       "config": {
        "plotlyServerURL": "https://plot.ly"
       },
       "data": [
        {
         "hoverlabel": {
          "bgcolor": "rgba(255,255,255,0.95)",
          "bordercolor": "rgba(0,0,0,0.2)",
          "font": {
           "family": "Arial",
           "size": 13
          },
          "namelength": -1
         },
         "hovertemplate": "%{text}<extra></extra>",
         "marker": {
          "color": {
           "bdata": "1vQG7hf9zT+xJqFhAQ3uP//fft2U0LQ/yH9EjWlIvD9I9ao8VYvCP1L5rBEeYtI/hCqV+kin0j/bjqaUtofDP4qCBsga8cM/MRPAemDlxT+Pv3v5Td2qPwjKNDNTMeE/6ciD2Fclzj+ZFh8rh8DFP80RHF54fbc/JSzvHFx90z9eizeJ++LBPyNTkiAmQ5s/DS1PhlTByj/J4uwddcfFP/UwFK48+L4/hK+pIoD9xT/45fDWV/GkPygaXfnP1tA/AAAAAAAA8D9BX63e2wbTPzAf+FC4StI/lsJPCGIcrz8AAAAAAAAAAOeCrxbpgN0/KMr2ToUDzj+a/F1ZfOLLPyJQbY9wWaA/ENWcw+ihyj+NTw2zPw2zP5fuvt7ifcg/vW3pjwwEuD+7HYiIzzTFP24E9nTmDs0/ka4XvY7SwT8CdIrRzBXYP9YnA83RAs8/HBBbfjAH1j9c5/oqVu64P8QfOi5LC7M/FGZWqd4RyD99lCqyaniiP/5ZbZkwTMY/+Xo0fF0+iD+Hlub+j3rIP/H0jXhm0MM/",
           "dtype": "f8"
          },
          "colorbar": {
           "len": 0.7,
           "thickness": 25,
           "tickfont": {
            "size": 12
           },
           "title": {
            "font": {
             "family": "Arial Black",
             "size": 14
            },
            "text": "Similarity Score"
           },
           "x": 1.02
          },
          "colorscale": [
           [
            0,
            "#0d0887"
           ],
           [
            0.1111111111111111,
            "#46039f"
           ],
           [
            0.2222222222222222,
            "#7201a8"
           ],
           [
            0.3333333333333333,
            "#9c179e"
           ],
           [
            0.4444444444444444,
            "#bd3786"
           ],
           [
            0.5555555555555556,
            "#d8576b"
           ],
           [
            0.6666666666666666,
            "#ed7953"
           ],
           [
            0.7777777777777778,
            "#fb9f3a"
           ],
           [
            0.8888888888888888,
            "#fdca26"
           ],
           [
            1,
            "#f0f921"
           ]
          ],
          "line": {
           "color": "white",
           "width": 1
          },
          "opacity": 0.8,
          "showscale": true,
          "size": 12
         },
         "mode": "markers",
         "name": "Document Corpus",
         "text": [
          "<b>Type:</b> Analytical Chemistry<br><b>Similarity:</b> 23.43%<br><b>Preview:</b><br>Analytical Chemistry is the branch of chemistry that deals with the identification and quantification of chemical substances. It involves separating, identifying, and determining the relative amounts ...",
          "<b>Type:</b> Artificial Intelligence<br><b>Similarity:</b> 93.91%<br><b>Preview:</b><br>Artificial Intelligence (AI) in computer science is the field dedicated to creating systems that can perform tasks that typically require human intelligence. This includes learning from experience, un...",
          "<b>Type:</b> astrophysics<br><b>Similarity:</b> 8.13%<br><b>Preview:</b><br>Astrophysics\nAstrophysics merges physics and astronomy to investigate celestial objects and phenomena through physical principles, mathematical models, and observational data. This discipline spans en...",
          "<b>Type:</b> biochemistry<br><b>Similarity:</b> 11.05%<br><b>Preview:</b><br>Biochemistry\nBiochemistry examines the molecular basis of life, investigating chemical processes and substances occurring within living organisms. This interdisciplinary field bridges chemistry and bi...",
          "<b>Type:</b> Biomaterials Engineering<br><b>Similarity:</b> 14.49%<br><b>Preview:</b><br>Biomaterials Engineering is a specialized area within biotechnology and materials science that focuses on the design and development of materials intended to interact with biological systems. These ma...",
          "<b>Type:</b> Biotechnology<br><b>Similarity:</b> 28.72%<br><b>Preview:</b><br>Biotechnology is a broad field that harnesses biological processes, organisms, or systems to produce products or services that benefit humanity. It integrates principles from biology, chemistry, engin...",
          "<b>Type:</b> Calculus_<br><b>Similarity:</b> 29.15%<br><b>Preview:</b><br>Calculus is a major branch of mathematics that deals with continuous change. It is built upon two major complementary ideas: differential calculus and integral calculus. Differential calculus is conce...",
          "<b>Type:</b> Chemical Thermodynamics<br><b>Similarity:</b> 15.26%<br><b>Preview:</b><br>Chemical Thermodynamics is a branch of chemistry that applies the principles of thermodynamics to chemical systems. It deals with the relationships between heat, work, and other forms of energy in the...",
          "<b>Type:</b> Clinical Pharmacy<br><b>Similarity:</b> 15.58%<br><b>Preview:</b><br>Clinical Pharmacy is a patient-oriented branch of pharmacy where pharmacists work directly with patients and other healthcare professionals to optimize drug therapy outcomes. Unlike traditional pharma...",
          "<b>Type:</b> Control Systems Engineering<br><b>Similarity:</b> 17.11%<br><b>Preview:</b><br>Control Systems Engineering is a discipline focused on designing, implementing, and managing systems that regulate the behavior of other systems. The goal is typically to ensure that a system output f...",
          "<b>Type:</b> cryptography<br><b>Similarity:</b> 5.25%<br><b>Preview:</b><br># Cryptography\nCryptography, the science of secure communication, transforms readable information into unintelligible formats and back again through mathematical algorithms and protocols. This discipl...",
          "<b>Type:</b> Data structures<br><b>Similarity:</b> 53.73%<br><b>Preview:</b><br>Data structures and algorithms are foundational concepts in computer science, crucial for efficient problem-solving and software development. A data structure is a particular way of organizing and sto...",
          "<b>Type:</b> database_systems<br><b>Similarity:</b> 23.55%<br><b>Preview:</b><br># Database Systems\nDatabase systems form the bedrock of modern information architecture, providing structured mechanisms for storing, retrieving, and managing data across applications ranging from sim...",
          "<b>Type:</b> differential_equations<br><b>Similarity:</b> 16.99%<br><b>Preview:</b><br># Differential Equations\nDifferential equations govern countless natural phenomena, forming the mathematical framework for describing how systems change over time or space. These powerful tools connec...",
          "<b>Type:</b> Ecology<br><b>Similarity:</b> 9.18%<br><b>Preview:</b><br>Ecology is the scientific study of the relationships between living organisms and their environment. It explores how organisms interact with each other and with the physical and chemical components of...",
          "<b>Type:</b> Electromagnetism<br><b>Similarity:</b> 30.45%<br><b>Preview:</b><br>Electromagnetism is a fundamental force of nature that describes the interaction between electrically charged particles. It is governed by a set of four elegant equations known as Maxwell's equations,...",
          "<b>Type:</b> Fluid mechanics<br><b>Similarity:</b> 13.97%<br><b>Preview:</b><br>Fluid mechanics is a fundamental branch of engineering and physics that studies the behavior of fluids (liquids, gases, and plasmas) under various conditions, including flow and rest. Understanding ho...",
          "<b>Type:</b> fluid_dynamics<br><b>Similarity:</b> 2.66%<br><b>Preview:</b><br># Fluid Dynamics\nFluid dynamics, a branch of continuum mechanics, explores the physics of fluids in motion. This discipline examines how liquids and gases behave when subjected to various forces, prov...",
          "<b>Type:</b> Genetic Engineering<br><b>Similarity:</b> 20.90%<br><b>Preview:</b><br>Genetic Engineering, also known as genetic modification, is a core set of techniques in biotechnology that allows for the manipulation of an organism's genes. It involves the artificial introduction, ...",
          "<b>Type:</b> Genetics<br><b>Similarity:</b> 17.01%<br><b>Preview:</b><br>Genetics is the study of genes, genetic variation, and heredity in living organisms. It is a cornerstone of modern biology, providing the framework for understanding how traits are passed from parents...",
          "<b>Type:</b> genetic_engineering<br><b>Similarity:</b> 12.10%<br><b>Preview:</b><br># Genetic Engineering\nGenetic engineering encompasses technologies that directly manipulate an organism's genetic material to alter its characteristics. This revolutionary field emerged in the 1970s w...",
          "<b>Type:</b> Immunology<br><b>Similarity:</b> 17.18%<br><b>Preview:</b><br>Immunology is the branch of biology that studies the immune system, a complex network of cells, tissues, and organs that work together to protect the body from pathogens (such as bacteria, viruses, fu...",
          "<b>Type:</b> immunology_1<br><b>Similarity:</b> 4.09%<br><b>Preview:</b><br># Immunology\nImmunology explores the intricate defense mechanisms protecting organisms from pathogens and foreign substances. This biological discipline investigates the immune system's components, th...",
          "<b>Type:</b> Linear algebra<br><b>Similarity:</b> 26.31%<br><b>Preview:</b><br>Linear algebra is a branch of mathematics concerning linear equations, linear functions, and their representations through matrices and vector spaces. It is a fundamental tool in many areas of mathema...",
          "<b>Type:</b> machine_learning<br><b>Similarity:</b> 100.00%<br><b>Preview:</b><br># Machine Learning\nMachine learning enables computers to improve their performance on tasks through experience without explicit programming. This computational approach transforms data into actionable...",
          "<b>Type:</b> Materials Science Engineering<br><b>Similarity:</b> 29.73%<br><b>Preview:</b><br>Materials Science Engineering is an interdisciplinary field that focuses on the discovery, design, and application of new materials. It involves understanding the fundamental properties of materials, ...",
          "<b>Type:</b> Molecular biology<br><b>Similarity:</b> 28.58%<br><b>Preview:</b><br>Molecular biology is a branch of biology that concerns the molecular basis of biological activity between biomolecules in the various systems of a cell, including the interactions between the differen...",
          "<b>Type:</b> molecular_biology<br><b>Similarity:</b> 6.08%<br><b>Preview:</b><br># Molecular Biology\nMolecular biology investigates biological processes at the molecular level, focusing on the structure, function, and interactions of cellular components like DNA, RNA, and proteins...",
          "<b>Type:</b> nanotechnology<br><b>Similarity:</b> 0.00%<br><b>Preview:</b><br># Nanotechnology\nNanotechnology encompasses the manipulation of matter at dimensions between 1 and 100 nanometers, where unique phenomena enable novel applications across scientific disciplines. At th...",
          "<b>Type:</b> neural_networks<br><b>Similarity:</b> 46.10%<br><b>Preview:</b><br># Neural Networks\nNeural networks form the computational backbone of modern artificial intelligence, drawing inspiration from the human brain's interconnected neuronal structure. These mathematical mo...",
          "<b>Type:</b> Numerical Analysis<br><b>Similarity:</b> 23.45%<br><b>Preview:</b><br>Numerical Analysis is the study of algorithms for solving mathematical problems that arise in science and engineering. Many mathematical problems, especially those involving continuous variables or co...",
          "<b>Type:</b> Numerical Methods<br><b>Similarity:</b> 21.78%<br><b>Preview:</b><br>Numerical Methods in engineering involve the application of mathematical algorithms to solve complex engineering problems that cannot be solved analytically. Many real-world engineering problems invol...",
          "<b>Type:</b> optics<br><b>Similarity:</b> 3.19%<br><b>Preview:</b><br># Optics\nOptics investigates light behavior and its interactions with matter, encompassing both classical wave descriptions and quantum photon models. This discipline forms the foundation for technolo...",
          "<b>Type:</b> Organic Chemistry<br><b>Similarity:</b> 20.81%<br><b>Preview:</b><br>Organic Chemistry is the study of the structure, properties, composition, reactions, and synthesis of organic compounds, which are chemical compounds containing carbon. While carbon is the defining el...",
          "<b>Type:</b> organic_chemistry<br><b>Similarity:</b> 7.44%<br><b>Preview:</b><br># Organic Chemistry\nOrganic chemistry explores the vast realm of carbon-containing compounds, excluding simple carbon oxides, carbonates, and cyanides. This discipline investigates the structures, pro...",
          "<b>Type:</b> Pharmaceutical Chemistry<br><b>Similarity:</b> 19.13%<br><b>Preview:</b><br>Pharmaceutical Chemistry is a multidisciplinary field that combines principles of chemistry and biology to design, synthesize, and develop new drugs. It is a critical component of pharmacy, providing ...",
          "<b>Type:</b> pharmacokinetics<br><b>Similarity:</b> 9.38%<br><b>Preview:</b><br># Pharmacokinetics\nPharmacokinetics examines the temporal course of drug concentrations in the body, encompassing the processes of absorption, distribution, metabolism, and excretion (ADME). This quan...",
          "<b>Type:</b> Pharmacology<br><b>Similarity:</b> 16.57%<br><b>Preview:</b><br>Pharmacology is the branch of medicine and biology concerned with the study of drug action, where a drug can be broadly defined as any artificial, natural, or endogenous molecule which exerts a bioche...",
          "<b>Type:</b> Physical Chemistry<br><b>Similarity:</b> 22.70%<br><b>Preview:</b><br>Physical Chemistry is a branch of chemistry that applies principles of physics to study chemical systems. It seeks to understand the fundamental physical basis of chemical phenomena, such as the rates...",
          "<b>Type:</b> polymer_science<br><b>Similarity:</b> 13.92%<br><b>Preview:</b><br># Polymer Science\nPolymer science investigates macromolecules composed of repeating structural units connected by covalent bonds. These versatile materials pervade modern life, from everyday plastics ...",
          "<b>Type:</b> Probability and Statistics<br><b>Similarity:</b> 37.63%<br><b>Preview:</b><br>Probability and Statistics are two closely related branches of mathematics that deal with uncertainty and data analysis. Probability is the study of randomness and chance. It provides a framework for ...",
          "<b>Type:</b> Protein Chemistry<br><b>Similarity:</b> 24.23%<br><b>Preview:</b><br>Protein Chemistry is a fundamental area within biochemistry that focuses on the study of proteins, which are arguably the most versatile macromolecules in living organisms. Proteins are complex polyme...",
          "<b>Type:</b> Quantum Mechanics<br><b>Similarity:</b> 34.42%<br><b>Preview:</b><br>Quantum Mechanics is a fundamental theory in physics that provides a description of the physical properties of nature at the scale of atoms and subatomic particles. Unlike classical mechanics, which d...",
          "<b>Type:</b> quantum_computing<br><b>Similarity:</b> 9.74%<br><b>Preview:</b><br># Quantum Computing\nQuantum computing leverages quantum mechanical phenomena to perform computations beyond the capabilities of classical computers. Unlike classical bits that exist in a state of eith...",
          "<b>Type:</b> Renewable energy<br><b>Similarity:</b> 7.44%<br><b>Preview:</b><br>Renewable energy engineering is a rapidly evolving field focused on the sustainable generation of energy from natural resources that are replenished at a higher rate than they are consumed. This inclu...",
          "<b>Type:</b> Semiconductor Physics<br><b>Similarity:</b> 18.80%<br><b>Preview:</b><br>Semiconductor Physics is a branch of physics that studies the electrical properties of semiconductor materials. Semiconductors are materials that have electrical conductivity between that of a conduct...",
          "<b>Type:</b> semiconductor_physics<br><b>Similarity:</b> 3.61%<br><b>Preview:</b><br># Semiconductor Physics\nSemiconductor physics explores materials with electrical conductivity between conductors and insulators, forming the foundation of modern electronics. Unlike metals with contin...",
          "<b>Type:</b> Software Engineering<br><b>Similarity:</b> 17.42%<br><b>Preview:</b><br>Software Engineering is a systematic approach to the design, development, testing, deployment, and maintenance of software. It is an engineering discipline that applies principles of computer science ...",
          "<b>Type:</b> structural_engineering<br><b>Similarity:</b> 1.18%<br><b>Preview:</b><br># Structural Engineering\nStructural engineering applies physical principles to design load-bearing systems that safely support and resist applied forces. This discipline balances safety, functionality...",
          "<b>Type:</b> Thermodynamics<br><b>Similarity:</b> 19.12%<br><b>Preview:</b><br>Thermodynamics is a fundamental branch of physics that deals with heat, work, temperature, and energy, and the relationships between them. It is governed by a set of four laws that provide a framework...",
          "<b>Type:</b> thermodynamics_1<br><b>Similarity:</b> 15.48%<br><b>Preview:</b><br># Thermodynamics\nThermodynamics, the branch of physics examining energy and its transformations, establishes fundamental principles governing the universe's physical behaviors. This discipline emerged..."
         ],
         "type": "scatter",
         "x": {
          "bdata": "sSyhwfglK8NbFD5Cr6GAQi3MGEN/j/9CSguxwaZHFMLqDgvDmJxrQueYvL60xrrCV2rrwqkWmEE91+jC3pLnwnvGEUJz6ZJBHLYPQzl9vULZ+8lCAgMaQ+V7BUO2MMtBLoRSw1+Yd8I326ZCG98HQzH3O0NFKTzDRyjPwYt+YMHAZVRDp+R1QZ5MMUJV6ZVBVxfUwrGYDsBQLRTCHTrTQoUd7cJv/ltCAYCdwsJVcsIHzSLDTjxOwibIsMGF3ozCvQtEwiP8ksKJJmfC",
          "dtype": "f4"
         },
         "y": {
          "bdata": "My7zwdwUJ8GLQyFD5bEyQtxTQUEcGajBPoymwis9uEJiJR5Do1nowne1B0PVBdDCawULw7573cJjRtJC7gHAv2JzJsMeR0PD+rhXwjSxYcK07KhCq30DQ+jWGkMSPpDCtPdyQUh+HcLBNJHB8tR/QvwGQUJEWSjC8Sjwwj3BHMPOxs3BCGyHQjlSrkLtopXAFy5MwglQuUGVSURCqLP0QcvsSEKiUT5BDhg6QrUhMUGWNNHC0mhEQynpUEPXnxbD9AhIwydk0UKC4QRD",
          "dtype": "f4"
         }
        },
        {
         "hoverlabel": {
          "bgcolor": "gold",
          "bordercolor": "darkorange",
          "font": {
           "color": "black",
           "family": "Arial Black",
           "size": 13
          }
         },
         "hovertemplate": "<b>Search Query</b><br>\"What is Supervised learning algorithm ??\"<extra></extra>",
         "marker": {
          "color": "gold",
          "line": {
           "color": "darkorange",
           "width": 3
          },
          "opacity": 1,
          "size": 25,
          "symbol": "star"
         },
         "mode": "markers+text",
         "name": "Search Query",
         "text": [
          "QUERY"
         ],
         "textfont": {
          "color": "darkorange",
          "family": "Arial Black",
          "size": 14
         },
         "textposition": "top center",
         "type": "scatter",
         "x": [
          -178.45140075683594
         ],
         "y": [
          32.56855010986328
         ]
        },
        {
         "hoverlabel": {
          "bgcolor": "#ff6b6b",
          "bordercolor": "white",
          "font": {
           "color": "white",
           "family": "Arial",
           "size": 12
          }
         },
         "hovertemplate": "<b>Result #1</b><br>Distance: 0.9269<br>Normalized Similarity: 1.0000<br>Type: machine_learning<br>Text: # Machine Learning\nMachine learning enables computers to improve their performance on tasks through experience without explicit programming. This comp...<extra></extra>",
         "marker": {
          "color": "#ff6b6b",
          "line": {
           "color": "white",
           "width": 3
          },
          "opacity": 0.9,
          "size": 20,
          "symbol": "diamond"
         },
         "mode": "markers+text",
         "name": "Result #1",
         "text": [
          "#1"
         ],
         "textfont": {
          "color": "white",
          "family": "Arial Black",
          "size": 16
         },
         "textposition": "middle center",
         "type": "scatter",
         "x": [
          -210.51632690429688
         ],
         "y": [
          15.185474395751953
         ]
        },
        {
         "hoverlabel": {
          "bgcolor": "#4ecdc4",
          "bordercolor": "white",
          "font": {
           "color": "white",
           "family": "Arial",
           "size": 12
          }
         },
         "hovertemplate": "<b>Result #2</b><br>Distance: 0.9513<br>Normalized Similarity: 0.9391<br>Type: Artificial Intelligence<br>Text: Artificial Intelligence (AI) in computer science is the field dedicated to creating systems that can perform tasks that typically require human intell...<extra></extra>",
         "marker": {
          "color": "#4ecdc4",
          "line": {
           "color": "white",
           "width": 3
          },
          "opacity": 0.9,
          "size": 20,
          "symbol": "circle"
         },
         "mode": "markers+text",
         "name": "Result #2",
         "text": [
          "#2"
         ],
         "textfont": {
          "color": "white",
          "family": "Arial Black",
          "size": 16
         },
         "textposition": "middle center",
         "type": "scatter",
         "x": [
          -171.1483154296875
         ],
         "y": [
          -10.44259262084961
         ]
        },
        {
         "hoverlabel": {
          "bgcolor": "#45b7d1",
          "bordercolor": "white",
          "font": {
           "color": "white",
           "family": "Arial",
           "size": 12
          }
         },
         "hovertemplate": "<b>Result #3</b><br>Distance: 1.1295<br>Normalized Similarity: 0.5373<br>Type: Data structures<br>Text: Data structures and algorithms are foundational concepts in computer science, crucial for efficient problem-solving and software development. A data s...<extra></extra>",
         "marker": {
          "color": "#45b7d1",
          "line": {
           "color": "white",
           "width": 3
          },
          "opacity": 0.9,
          "size": 20,
          "symbol": "square"
         },
         "mode": "markers+text",
         "name": "Result #3",
         "text": [
          "#3"
         ],
         "textfont": {
          "color": "white",
          "family": "Arial Black",
          "size": 16
         },
         "textposition": "middle center",
         "type": "scatter",
         "x": [
          -93.38809204101562
         ],
         "y": [
          -104.01139068603516
         ]
        },
        {
         "hoverinfo": "skip",
         "line": {
          "color": "#ff6b6b",
          "dash": "dot",
          "width": 2
         },
         "mode": "lines",
         "opacity": 0.6,
         "showlegend": false,
         "type": "scatter",
         "x": [
          -178.45140075683594,
          -210.51632690429688
         ],
         "y": [
          32.56855010986328,
          15.185474395751953
         ]
        },
        {
         "hoverinfo": "skip",
         "line": {
          "color": "#4ecdc4",
          "dash": "dot",
          "width": 2
         },
         "mode": "lines",
         "opacity": 0.6,
         "showlegend": false,
         "type": "scatter",
         "x": [
          -178.45140075683594,
          -171.1483154296875
         ],
         "y": [
          32.56855010986328,
          -10.44259262084961
         ]
        },
        {
         "hoverinfo": "skip",
         "line": {
          "color": "#45b7d1",
          "dash": "dot",
          "width": 2
         },
         "mode": "lines",
         "opacity": 0.6,
         "showlegend": false,
         "type": "scatter",
         "x": [
          -178.45140075683594,
          -93.38809204101562
         ],
         "y": [
          32.56855010986328,
          -104.01139068603516
         ]
        }
       ],
       "layout": {
        "annotations": [
         {
          "align": "left",
          "bgcolor": "rgba(255,255,255,0.95)",
          "bordercolor": "rgba(0,0,0,0.2)",
          "borderpad": 8,
          "borderwidth": 1,
          "font": {
           "family": "Arial",
           "size": 11
          },
          "showarrow": false,
          "text": "<b>Visual Guide</b><br>Gold Star = Your Query<br>Colored Markers = Top Results<br>Dotted Lines = Query Connections",
          "x": 0.02,
          "xref": "paper",
          "y": 0.02,
          "yref": "paper"
         },
         {
          "align": "left",
          "bgcolor": "rgba(240,248,255,0.95)",
          "bordercolor": "rgba(70,130,180,0.3)",
          "borderpad": 8,
          "borderwidth": 1,
          "font": {
           "family": "Arial",
           "size": 11
          },
          "showarrow": false,
          "text": "<b>Search Performance</b><br>Results Found: 3<br>Query: \"What is Supervised learning al...\"",
          "x": 0.98,
          "xref": "paper",
          "y": 0.02,
          "yref": "paper"
         }
        ],
        "font": {
         "family": "Arial"
        },
        "height": 900,
        "hoverdistance": 50,
        "hovermode": "closest",
        "legend": {
         "bgcolor": "rgba(255,255,255,0.9)",
         "bordercolor": "rgba(0,0,0,0.2)",
         "borderwidth": 1,
         "font": {
          "size": 11
         },
         "x": 1.02,
         "xanchor": "left",
         "y": 0.98,
         "yanchor": "top"
        },
        "margin": {
         "b": 80,
         "l": 80,
         "r": 150,
         "t": 120
        },
        "paper_bgcolor": "white",
        "plot_bgcolor": "rgba(248,249,250,0.8)",
        "showlegend": true,
        "template": {
         "data": {
          "bar": [
           {
            "error_x": {
             "color": "#2a3f5f"
            },
            "error_y": {
             "color": "#2a3f5f"
            },
            "marker": {
             "line": {
              "color": "#E5ECF6",
              "width": 0.5
             },
             "pattern": {
              "fillmode": "overlay",
              "size": 10,
              "solidity": 0.2
             }
            },
            "type": "bar"
           }
          ],
          "barpolar": [
           {
            "marker": {
             "line": {
              "color": "#E5ECF6",
              "width": 0.5
             },
             "pattern": {
              "fillmode": "overlay",
              "size": 10,
              "solidity": 0.2
             }
            },
            "type": "barpolar"
           }
          ],
          "carpet": [
           {
            "aaxis": {
             "endlinecolor": "#2a3f5f",
             "gridcolor": "white",
             "linecolor": "white",
             "minorgridcolor": "white",
             "startlinecolor": "#2a3f5f"
            },
            "baxis": {
             "endlinecolor": "#2a3f5f",
             "gridcolor": "white",
             "linecolor": "white",
             "minorgridcolor": "white",
             "startlinecolor": "#2a3f5f"
            },
            "type": "carpet"
           }
          ],
          "choropleth": [
           {
            "colorbar": {
             "outlinewidth": 0,
             "ticks": ""
            },
            "type": "choropleth"
           }
          ],
          "contour": [
           {
            "colorbar": {
             "outlinewidth": 0,
             "ticks": ""
            },
            "colorscale": [
             [
              0,
              "#0d0887"
             ],
             [
              0.1111111111111111,
              "#46039f"
             ],
             [
              0.2222222222222222,
              "#7201a8"
             ],
             [
              0.3333333333333333,
              "#9c179e"
             ],
             [
              0.4444444444444444,
              "#bd3786"
             ],
             [
              0.5555555555555556,
              "#d8576b"
             ],
             [
              0.6666666666666666,
              "#ed7953"
             ],
             [
              0.7777777777777778,
              "#fb9f3a"
             ],
             [
              0.8888888888888888,
              "#fdca26"
             ],
             [
              1,
              "#f0f921"
             ]
            ],
            "type": "contour"
           }
          ],
          "contourcarpet": [
           {
            "colorbar": {
             "outlinewidth": 0,
             "ticks": ""
            },
            "type": "contourcarpet"
           }
          ],
          "heatmap": [
           {
            "colorbar": {
             "outlinewidth": 0,
             "ticks": ""
            },
            "colorscale": [
             [
              0,
              "#0d0887"
             ],
             [
              0.1111111111111111,
              "#46039f"
             ],
             [
              0.2222222222222222,
              "#7201a8"
             ],
             [
              0.3333333333333333,
              "#9c179e"
             ],
             [
              0.4444444444444444,
              "#bd3786"
             ],
             [
              0.5555555555555556,
              "#d8576b"
             ],
             [
              0.6666666666666666,
              "#ed7953"
             ],
             [
              0.7777777777777778,
              "#fb9f3a"
             ],
             [
              0.8888888888888888,
              "#fdca26"
             ],
             [
              1,
              "#f0f921"
             ]
            ],
            "type": "heatmap"
           }
          ],
          "histogram": [
           {
            "marker": {
             "pattern": {
              "fillmode": "overlay",
              "size": 10,
              "solidity": 0.2
             }
            },
            "type": "histogram"
           }
          ],
          "histogram2d": [
           {
            "colorbar": {
             "outlinewidth": 0,
             "ticks": ""
            },
            "colorscale": [
             [
              0,
              "#0d0887"
             ],
             [
              0.1111111111111111,
              "#46039f"
             ],
             [
              0.2222222222222222,
              "#7201a8"
             ],
             [
              0.3333333333333333,
              "#9c179e"
             ],
             [
              0.4444444444444444,
              "#bd3786"
             ],
             [
              0.5555555555555556,
              "#d8576b"
             ],
             [
              0.6666666666666666,
              "#ed7953"
             ],
             [
              0.7777777777777778,
              "#fb9f3a"
             ],
             [
              0.8888888888888888,
              "#fdca26"
             ],
             [
              1,
              "#f0f921"
             ]
            ],
            "type": "histogram2d"
           }
          ],
          "histogram2dcontour": [
           {
            "colorbar": {
             "outlinewidth": 0,
             "ticks": ""
            },
            "colorscale": [
             [
              0,
              "#0d0887"
             ],
             [
              0.1111111111111111,
              "#46039f"
             ],
             [
              0.2222222222222222,
              "#7201a8"
             ],
             [
              0.3333333333333333,
              "#9c179e"
             ],
             [
              0.4444444444444444,
              "#bd3786"
             ],
             [
              0.5555555555555556,
              "#d8576b"
             ],
             [
              0.6666666666666666,
              "#ed7953"
             ],
             [
              0.7777777777777778,
              "#fb9f3a"
             ],
             [
              0.8888888888888888,
              "#fdca26"
             ],
             [
              1,
              "#f0f921"
             ]
            ],
            "type": "histogram2dcontour"
           }
          ],
          "mesh3d": [
           {
            "colorbar": {
             "outlinewidth": 0,
             "ticks": ""
            },
            "type": "mesh3d"
           }
          ],
          "parcoords": [
           {
            "line": {
             "colorbar": {
              "outlinewidth": 0,
              "ticks": ""
             }
            },
            "type": "parcoords"
           }
          ],
          "pie": [
           {
            "automargin": true,
            "type": "pie"
           }
          ],
          "scatter": [
           {
            "fillpattern": {
             "fillmode": "overlay",
             "size": 10,
             "solidity": 0.2
            },
            "type": "scatter"
           }
          ],
          "scatter3d": [
           {
            "line": {
             "colorbar": {
              "outlinewidth": 0,
              "ticks": ""
             }
            },
            "marker": {
             "colorbar": {
              "outlinewidth": 0,
              "ticks": ""
             }
            },
            "type": "scatter3d"
           }
          ],
          "scattercarpet": [
           {
            "marker": {
             "colorbar": {
              "outlinewidth": 0,
              "ticks": ""
             }
            },
            "type": "scattercarpet"
           }
          ],
          "scattergeo": [
           {
            "marker": {
             "colorbar": {
              "outlinewidth": 0,
              "ticks": ""
             }
            },
            "type": "scattergeo"
           }
          ],
          "scattergl": [
           {
            "marker": {
             "colorbar": {
              "outlinewidth": 0,
              "ticks": ""
             }
            },
            "type": "scattergl"
           }
          ],
          "scattermap": [
           {
            "marker": {
             "colorbar": {
              "outlinewidth": 0,
              "ticks": ""
             }
            },
            "type": "scattermap"
           }
          ],
          "scattermapbox": [
           {
            "marker": {
             "colorbar": {
              "outlinewidth": 0,
              "ticks": ""
             }
            },
            "type": "scattermapbox"
           }
          ],
          "scatterpolar": [
           {
            "marker": {
             "colorbar": {
              "outlinewidth": 0,
              "ticks": ""
             }
            },
            "type": "scatterpolar"
           }
          ],
          "scatterpolargl": [
           {
            "marker": {
             "colorbar": {
              "outlinewidth": 0,
              "ticks": ""
             }
            },
            "type": "scatterpolargl"
           }
          ],
          "scatterternary": [
           {
            "marker": {
             "colorbar": {
              "outlinewidth": 0,
              "ticks": ""
             }
            },
            "type": "scatterternary"
           }
          ],
          "surface": [
           {
            "colorbar": {
             "outlinewidth": 0,
             "ticks": ""
            },
            "colorscale": [
             [
              0,
              "#0d0887"
             ],
             [
              0.1111111111111111,
              "#46039f"
             ],
             [
              0.2222222222222222,
              "#7201a8"
             ],
             [
              0.3333333333333333,
              "#9c179e"
             ],
             [
              0.4444444444444444,
              "#bd3786"
             ],
             [
              0.5555555555555556,
              "#d8576b"
             ],
             [
              0.6666666666666666,
              "#ed7953"
             ],
             [
              0.7777777777777778,
              "#fb9f3a"
             ],
             [
              0.8888888888888888,
              "#fdca26"
             ],
             [
              1,
              "#f0f921"
             ]
            ],
            "type": "surface"
           }
          ],
          "table": [
           {
            "cells": {
             "fill": {
              "color": "#EBF0F8"
             },
             "line": {
              "color": "white"
             }
            },
            "header": {
             "fill": {
              "color": "#C8D4E3"
             },
             "line": {
              "color": "white"
             }
            },
            "type": "table"
           }
          ]
         },
         "layout": {
          "annotationdefaults": {
           "arrowcolor": "#2a3f5f",
           "arrowhead": 0,
           "arrowwidth": 1
          },
          "autotypenumbers": "strict",
          "coloraxis": {
           "colorbar": {
            "outlinewidth": 0,
            "ticks": ""
           }
          },
          "colorscale": {
           "diverging": [
            [
             0,
             "#8e0152"
            ],
            [
             0.1,
             "#c51b7d"
            ],
            [
             0.2,
             "#de77ae"
            ],
            [
             0.3,
             "#f1b6da"
            ],
            [
             0.4,
             "#fde0ef"
            ],
            [
             0.5,
             "#f7f7f7"
            ],
            [
             0.6,
             "#e6f5d0"
            ],
            [
             0.7,
             "#b8e186"
            ],
            [
             0.8,
             "#7fbc41"
            ],
            [
             0.9,
             "#4d9221"
            ],
            [
             1,
             "#276419"
            ]
           ],
           "sequential": [
            [
             0,
             "#0d0887"
            ],
            [
             0.1111111111111111,
             "#46039f"
            ],
            [
             0.2222222222222222,
             "#7201a8"
            ],
            [
             0.3333333333333333,
             "#9c179e"
            ],
            [
             0.4444444444444444,
             "#bd3786"
            ],
            [
             0.5555555555555556,
             "#d8576b"
            ],
            [
             0.6666666666666666,
             "#ed7953"
            ],
            [
             0.7777777777777778,
             "#fb9f3a"
            ],
            [
             0.8888888888888888,
             "#fdca26"
            ],
            [
             1,
             "#f0f921"
            ]
           ],
           "sequentialminus": [
            [
             0,
             "#0d0887"
            ],
            [
             0.1111111111111111,
             "#46039f"
            ],
            [
             0.2222222222222222,
             "#7201a8"
            ],
            [
             0.3333333333333333,
             "#9c179e"
            ],
            [
             0.4444444444444444,
             "#bd3786"
            ],
            [
             0.5555555555555556,
             "#d8576b"
            ],
            [
             0.6666666666666666,
             "#ed7953"
            ],
            [
             0.7777777777777778,
             "#fb9f3a"
            ],
            [
             0.8888888888888888,
             "#fdca26"
            ],
            [
             1,
             "#f0f921"
            ]
           ]
          },
          "colorway": [
           "#636efa",
           "#EF553B",
           "#00cc96",
           "#ab63fa",
           "#FFA15A",
           "#19d3f3",
           "#FF6692",
           "#B6E880",
           "#FF97FF",
           "#FECB52"
          ],
          "font": {
           "color": "#2a3f5f"
          },
          "geo": {
           "bgcolor": "white",
           "lakecolor": "white",
           "landcolor": "#E5ECF6",
           "showlakes": true,
           "showland": true,
           "subunitcolor": "white"
          },
          "hoverlabel": {
           "align": "left"
          },
          "hovermode": "closest",
          "mapbox": {
           "style": "light"
          },
          "paper_bgcolor": "white",
          "plot_bgcolor": "#E5ECF6",
          "polar": {
           "angularaxis": {
            "gridcolor": "white",
            "linecolor": "white",
            "ticks": ""
           },
           "bgcolor": "#E5ECF6",
           "radialaxis": {
            "gridcolor": "white",
            "linecolor": "white",
            "ticks": ""
           }
          },
          "scene": {
           "xaxis": {
            "backgroundcolor": "#E5ECF6",
            "gridcolor": "white",
            "gridwidth": 2,
            "linecolor": "white",
            "showbackground": true,
            "ticks": "",
            "zerolinecolor": "white"
           },
           "yaxis": {
            "backgroundcolor": "#E5ECF6",
            "gridcolor": "white",
            "gridwidth": 2,
            "linecolor": "white",
            "showbackground": true,
            "ticks": "",
            "zerolinecolor": "white"
           },
           "zaxis": {
            "backgroundcolor": "#E5ECF6",
            "gridcolor": "white",
            "gridwidth": 2,
            "linecolor": "white",
            "showbackground": true,
            "ticks": "",
            "zerolinecolor": "white"
           }
          },
          "shapedefaults": {
           "line": {
            "color": "#2a3f5f"
           }
          },
          "ternary": {
           "aaxis": {
            "gridcolor": "white",
            "linecolor": "white",
            "ticks": ""
           },
           "baxis": {
            "gridcolor": "white",
            "linecolor": "white",
            "ticks": ""
           },
           "bgcolor": "#E5ECF6",
           "caxis": {
            "gridcolor": "white",
            "linecolor": "white",
            "ticks": ""
           }
          },
          "title": {
           "x": 0.05
          },
          "xaxis": {
           "automargin": true,
           "gridcolor": "white",
           "linecolor": "white",
           "ticks": "",
           "title": {
            "standoff": 15
           },
           "zerolinecolor": "white",
           "zerolinewidth": 2
          },
          "yaxis": {
           "automargin": true,
           "gridcolor": "white",
           "linecolor": "white",
           "ticks": "",
           "title": {
            "standoff": 15
           },
           "zerolinecolor": "white",
           "zerolinewidth": 2
          }
         }
        },
        "title": {
         "font": {
          "color": "#2c3e50",
          "family": "Arial Black",
          "size": 24
         },
         "text": "Semantic Search Visualization<br><sub>Document Similarity Explorer</sub>",
         "x": 0.5,
         "xanchor": "center",
         "y": 0.95,
         "yanchor": "top"
        },
        "width": 1200,
        "xaxis": {
         "gridcolor": "rgba(200,200,200,0.3)",
         "gridwidth": 1,
         "showgrid": true,
         "showspikes": true,
         "spikecolor": "rgba(0,0,0,0.5)",
         "spikedash": "solid",
         "spikemode": "across",
         "spikesnap": "cursor",
         "spikethickness": 1,
         "title": {
          "font": {
           "family": "Arial",
           "size": 14
          },
          "text": "t-SNE Dimension 1"
         },
         "zeroline": true,
         "zerolinecolor": "rgba(0,0,0,0.3)",
         "zerolinewidth": 2
        },
        "yaxis": {
         "gridcolor": "rgba(200,200,200,0.3)",
         "gridwidth": 1,
         "showgrid": true,
         "showspikes": true,
         "spikecolor": "rgba(0,0,0,0.5)",
         "spikedash": "solid",
         "spikemode": "across",
         "spikesnap": "cursor",
         "spikethickness": 1,
         "title": {
          "font": {
           "family": "Arial",
           "size": 14
          },
          "text": "t-SNE Dimension 2"
         },
         "zeroline": true,
         "zerolinecolor": "rgba(0,0,0,0.3)",
         "zerolinewidth": 2
        }
       }
      }
     },
     "metadata": {},
     "output_type": "display_data"
    }
   ],
   "source": [
    "query = \"What is Supervised learning algorithm ??\"\n",
    "results, fig = search_and_visualize(query)\n",
    "fig.show()"
   ]
  },
  {
   "cell_type": "markdown",
   "metadata": {},
   "source": [
    "<a id=\"import\"></a>\n",
    "# <p style=\"background-color:#E7E8D1; font-family:calibri; color:white; font-size:150%; text-align:center; border-radius:15px 50px; color:#000000\">Step 3 | Search Using Cosine Similarity </p>\n",
    "\n"
   ]
  },
  {
   "cell_type": "code",
   "execution_count": 44,
   "metadata": {},
   "outputs": [],
   "source": [
    "def cosine_search_and_visualize(query_text, k=3):\n",
    "    # 1. Embed the query\n",
    "    query_embedding = embeddings.embed_query(query_text)\n",
    "    query_vector = np.array([query_embedding]).astype('float32')\n",
    "    \n",
    "    # 2. Compute cosine similarity\n",
    "    sims = cosine_similarity(query_vector, vectors)[0]  # shape: (num_docs,)\n",
    "    \n",
    "    # 3. Get top k indices\n",
    "    top_k_idx = np.argsort(sims)[::-1][:k]\n",
    "    \n",
    "    # 4. Prepare results\n",
    "    results = []\n",
    "    for idx in top_k_idx:\n",
    "        results.append({\n",
    "            'text': docs[idx],\n",
    "            'metadata': metadatas[idx],\n",
    "            'score': float(sims[idx]),\n",
    "            'index': idx\n",
    "        })\n",
    "        print(f\"\\nResult {len(results)}:\")\n",
    "        print(f\"Score: {sims[idx]:.4f}\")\n",
    "        print(f\"Meta Data: {metadatas[idx]}\")\n",
    "        print(f\"Text: {docs[idx]}\")\n",
    "    \n",
    "    # 5. Visualization\n",
    "    # Stack query vector with all document vectors for t-SNE\n",
    "    viz_vectors = np.vstack([vectors, query_vector])\n",
    "    tsne = TSNE(n_components=2, perplexity=5, random_state=42)\n",
    "    reduced_vectors = tsne.fit_transform(viz_vectors)\n",
    "    doc_points = reduced_vectors[:-1]\n",
    "    query_point_2d = reduced_vectors[-1]\n",
    "    \n",
    "    # Normalize similarity for coloring\n",
    "    norm_sims = (sims - sims.min()) / (sims.max() - sims.min())\n",
    "    \n",
    "    fig = go.Figure()\n",
    "    # All document points\n",
    "    fig.add_trace(go.Scatter(\n",
    "        x=doc_points[:, 0],\n",
    "        y=doc_points[:, 1],\n",
    "        mode='markers',\n",
    "        marker=dict(\n",
    "            size=8,\n",
    "            color=norm_sims,\n",
    "            colorscale='Viridis',\n",
    "            showscale=True,\n",
    "            colorbar=dict(\n",
    "                title='Cosine Similarity',\n",
    "                thickness=20,\n",
    "                len=0.8,\n",
    "                y=0.5\n",
    "            )\n",
    "        ),\n",
    "        text=[f\"<b>Type:</b> {m['doc_type']}<br><b>Text:</b> {dim[:150]}...\" for m, dim in zip(metadatas, docs)],\n",
    "        hoverinfo='text',\n",
    "        name='Documents',\n",
    "        hoverlabel=dict(\n",
    "            bgcolor=\"white\",\n",
    "            font_size=12,\n",
    "            font_family=\"Arial\"\n",
    "        )\n",
    "    ))\n",
    "    # Query point\n",
    "    fig.add_trace(go.Scatter(\n",
    "        x=[query_point_2d[0]],\n",
    "        y=[query_point_2d[1]],\n",
    "        mode='markers+text',\n",
    "        marker=dict(\n",
    "            size=18,\n",
    "            color='red',\n",
    "            symbol='star'\n",
    "        ),\n",
    "        text=[\"Query\"],\n",
    "        textposition=\"top center\",\n",
    "        name='Query',\n",
    "        hoverinfo='text'\n",
    "    ))\n",
    "    # Top k results (highlight)\n",
    "    result_points = doc_points[top_k_idx]\n",
    "    fig.add_trace(go.Scatter(\n",
    "        x=result_points[:, 0],\n",
    "        y=result_points[:, 1],\n",
    "        mode='markers+text',\n",
    "        marker=dict(\n",
    "            size=15,\n",
    "            color='green',\n",
    "            symbol='circle-open',\n",
    "            line=dict(width=2, color='black')\n",
    "        ),\n",
    "        text=[f\"Top {i+1}\" for i in range(len(result_points))],\n",
    "        textposition=\"top center\",\n",
    "        name='Top Results',\n",
    "        hoverinfo='text',\n",
    "        hovertext=[f\"<b>Top {i+1}</b><br>Score: {sims[idx]:.4f}<br><b>Type:</b> {metadatas[idx]['doc_type']}<br><b>Text:</b> {docs[idx][:150]}...\" \n",
    "                   for i, idx in enumerate(top_k_idx)],\n",
    "        hoverlabel=dict(\n",
    "            bgcolor=\"white\",\n",
    "            font_size=12,\n",
    "            font_family=\"Arial\"\n",
    "        )\n",
    "    ))\n",
    "    fig.update_layout(\n",
    "        title=dict(\n",
    "            text='t-SNE Visualization of Cosine Similarity',\n",
    "            x=0.5,\n",
    "            font=dict(size=20)\n",
    "        ),\n",
    "        xaxis_title='t-SNE 1',\n",
    "        yaxis_title='t-SNE 2',\n",
    "        showlegend=True,\n",
    "        width=1000,\n",
    "        height=800,\n",
    "        margin=dict(l=50, r=50, t=100, b=50),\n",
    "        plot_bgcolor='white',\n",
    "        paper_bgcolor='white',\n",
    "        hovermode='closest'\n",
    "    )\n",
    "    fig.add_annotation(\n",
    "        text=\"<b>Color Guide:</b><br>Brighter = More similar to query\",\n",
    "        xref=\"paper\", yref=\"paper\",\n",
    "        x=0.02, y=0.02,\n",
    "        showarrow=False,\n",
    "        font=dict(size=12),\n",
    "        bgcolor=\"white\",\n",
    "        bordercolor=\"black\",\n",
    "        borderwidth=1,\n",
    "        borderpad=4\n",
    "    )\n",
    "    return results, fig"
   ]
  },
  {
   "cell_type": "code",
   "execution_count": 43,
   "metadata": {},
   "outputs": [],
   "source": [
    "def cosine_search_3d(query_text, k=3):\n",
    "    # Embed query and compute similarities\n",
    "    query_embedding = embeddings.embed_query(query_text)\n",
    "    query_vector = np.array([query_embedding]).astype('float32')\n",
    "    sims = cosine_similarity(query_vector, vectors)[0]\n",
    "    top_k_idx = np.argsort(sims)[::-1][:k]\n",
    "    \n",
    "    # Prepare results\n",
    "    results = []\n",
    "    for i, idx in enumerate(top_k_idx):\n",
    "        results.append({\n",
    "            'text': docs[idx], 'metadata': metadatas[idx],\n",
    "            'score': float(sims[idx]), 'index': idx\n",
    "        })\n",
    "        print(f\"Top {i+1} (Score: {sims[idx]:.4f}): {docs[idx][:100]}...\")\n",
    "    \n",
    "    # 3D t-SNE visualization\n",
    "    viz_vectors = np.vstack([vectors, query_vector])\n",
    "    tsne_3d = TSNE(n_components=3, perplexity=min(30, len(vectors)//4), random_state=42)\n",
    "    coords_3d = tsne_3d.fit_transform(viz_vectors)\n",
    "    \n",
    "    doc_coords, query_coord = coords_3d[:-1], coords_3d[-1]\n",
    "    norm_sims = (sims - sims.min()) / (sims.max() - sims.min() + 1e-8)\n",
    "    \n",
    "    # Create stunning 3D plot\n",
    "    fig = go.Figure()\n",
    "    \n",
    "    # All documents with gradient coloring\n",
    "    fig.add_trace(go.Scatter3d(\n",
    "        x=doc_coords[:, 0], y=doc_coords[:, 1], z=doc_coords[:, 2],\n",
    "        mode='markers',\n",
    "        marker=dict(\n",
    "            size=6, color=norm_sims, colorscale='Plasma',\n",
    "            opacity=0.7, showscale=True,\n",
    "            colorbar=dict(title=\"Similarity\", thickness=15, x=1.02)\n",
    "        ),\n",
    "        text=[f\"{m['doc_type']}: {dim[:80]}...\" for m, dim in zip(metadatas, docs)],\n",
    "        name='Documents', hovertemplate='<b>%{text}</b><extra></extra>'\n",
    "    ))\n",
    "    \n",
    "    # Query as glowing star\n",
    "    fig.add_trace(go.Scatter3d(\n",
    "        x=[query_coord[0]], y=[query_coord[1]], z=[query_coord[2]],\n",
    "        mode='markers+text',\n",
    "        marker=dict(size=15, color='gold', symbol='diamond', \n",
    "                   line=dict(width=3, color='red')),\n",
    "        text=[\"QUERY\"], textposition=\"top center\",\n",
    "        name='Query', hovertemplate='<b>Query: %{customdata}</b><extra></extra>',\n",
    "        customdata=[query_text[:50] + \"...\"]\n",
    "    ))\n",
    "    \n",
    "    # Top results with pulsing effect\n",
    "    top_coords = doc_coords[top_k_idx]\n",
    "    fig.add_trace(go.Scatter3d(\n",
    "        x=top_coords[:, 0], y=top_coords[:, 1], z=top_coords[:, 2],\n",
    "        mode='markers',\n",
    "        marker=dict(size=12, color='lime', symbol='circle-open',\n",
    "                   line=dict(width=4, color='darkgreen')),\n",
    "        text=[f\"#{i+1} ({sims[idx]:.3f})\" for i, idx in enumerate(top_k_idx)],\n",
    "        name='Top Matches',\n",
    "        hovertemplate='<b>Rank %{text}</b><br>%{customdata}<extra></extra>',\n",
    "        customdata=[f\"{metadatas[idx]['doc_type']}: {docs[idx][:80]}...\" \n",
    "                    for idx in top_k_idx]\n",
    "    ))\n",
    "    \n",
    "    # Styling for maximum visual impact\n",
    "    fig.update_layout(\n",
    "        title=dict(text='🔍 3D Semantic Search Space', x=0.5, font=dict(size=24)),\n",
    "        scene=dict(\n",
    "            xaxis=dict(showgrid=False, zeroline=False, showticklabels=False, title=''),\n",
    "            yaxis=dict(showgrid=False, zeroline=False, showticklabels=False, title=''),\n",
    "            zaxis=dict(showgrid=False, zeroline=False, showticklabels=False, title=''),\n",
    "            bgcolor='black', camera=dict(eye=dict(x=1.5, y=1.5, z=1.5))\n",
    "        ),\n",
    "        width=1000, height=700, paper_bgcolor='black', font=dict(color='white'),\n",
    "        showlegend=True, legend=dict(x=0, y=1, bgcolor='rgba(0,0,0,0.5)')\n",
    "    )\n",
    "    \n",
    "    return results, fig"
   ]
  },
  {
   "cell_type": "code",
   "execution_count": 45,
   "metadata": {},
   "outputs": [
    {
     "name": "stdout",
     "output_type": "stream",
     "text": [
      "\n",
      "Result 1:\n",
      "Score: 0.5704\n",
      "Meta Data: {'source': 'knowledge-base2\\\\machine_learning.txt', 'doc_type': 'machine_learning'}\n",
      "Text: # Machine Learning\n",
      "Machine learning enables computers to improve their performance on tasks through experience without explicit programming. This computational approach transforms data into actionable intelligence by identifying patterns and making decisions with minimal human intervention. From recommendation systems to autonomous vehicles, machine learning algorithms power increasingly sophisticated applications that adapt to new information and changing environments.\n",
      "Supervised learning algorithms learn mappings between inputs and outputs using labeled training data. Classification algorithms assign inputs to discrete categories, exemplified by support vector machines establishing decision boundaries in high-dimensional spaces and decision trees recursively partitioning feature spaces based on information gain. Regression models predict continuous values, with linear regression establishing relationships through weighted feature combinations and polynomial regression capturing non-linear patterns through higher-order terms. Ensemble methods like random forests and gradient-boosting machines combine multiple models to improve prediction accuracy and robustness, mitigating individual model weaknesses.\n",
      "Unsupervised learning discovers inherent data structures without labeled outputs. Clustering algorithms group similar instances; k-means assigns data points to clusters by minimizing distances to centroid means, while hierarchical clustering builds nested clusters through agglomerative or divisive approaches. Dimensionality reduction techniques address the \"curse of dimensionality\" by transforming high-dimensional data into lower-dimensional representations; principal component analysis (PCA) projects data onto orthogonal axes maximizing variance, while t-SNE (t-distributed Stochastic Neighbor Embedding) preserves local similarities for visualization. Association rule learning uncovers relationships between variables in transaction datasets, identifying frequently co-occurring items through algorithms like Apriori.\n",
      "Deep learning employs neural networks with multiple layers to learn hierarchical representations from data. Convolutional neural networks (CNNs) excel in image processing through weight-sharing layers that extract spatial features at increasing levels of abstraction. Recurrent neural networks (RNNs) process sequential data by maintaining internal states that capture temporal dependencies, while their variants like long short-term memory (LSTM) networks address vanishing gradient problems in modeling long-range dependencies. Generative adversarial networks (GANs) consist of generator networks creating synthetic data and discriminator networks distinguishing between real and generated samples, enabling highly realistic data generation through adversarial training.\n",
      "Reinforcement learning trains agents to maximize cumulative rewards through environment interaction. Value-based methods like Q-learning estimate expected returns for state-action pairs, while policy-based approaches directly optimize action selection strategies. Deep reinforcement learning combines neural networks with reinforcement principles, achieving remarkable successes in complex domains like game playing and robotic control. Multi-agent reinforcement learning extends these concepts to scenarios with multiple interacting agents, addressing challenges of coordination and competition.\n",
      "Model evaluation and selection constitute critical aspects of machine learning workflows. Cross-validation techniques assess generalization performance by partitioning data into training and validation sets across multiple iterations. Metrics like accuracy, precision, recall, and F1-score quantify classification performance, while mean squared error and R-squared evaluate regression models. Regularization methods—including L1 (Lasso) and L2 (Ridge) regularization—prevent overfitting by penalizing model complexity. Hyperparameter tuning optimizes algorithm-specific parameters through techniques like grid search and Bayesian optimization, balancing the bias-variance tradeoff to maximize model performance on unseen data.\n",
      "\n",
      "Result 2:\n",
      "Score: 0.5475\n",
      "Meta Data: {'doc_type': 'Artificial Intelligence', 'source': 'knowledge-base2\\\\Artificial Intelligence.txt'}\n",
      "Text: Artificial Intelligence (AI) in computer science is the field dedicated to creating systems that can perform tasks that typically require human intelligence. This includes learning from experience, understanding natural language, recognizing patterns, solving problems, and making decisions. The goal of AI is to develop intelligent agents, which are systems that can perceive their environment and take actions to maximize their chances of achieving a goal.\n",
      "AI encompasses a wide range of approaches and subfields. Machine learning, a prominent subfield, focuses on developing algorithms that allow computers to learn from data without being explicitly programmed. This includes supervised learning (learning from labeled data), unsupervised learning (finding patterns in unlabeled data), and reinforcement learning (learning through trial and error). Deep learning, a subset of machine learning, utilizes artificial neural networks with multiple layers to process complex data like images, audio, and text.\n",
      "Other areas within AI include natural language processing (enabling computers to understand and generate human language), computer vision (enabling computers to \"see\" and interpret images), robotics (designing and programming robots to perform tasks), and expert systems (systems that mimic the decision-making ability of a human expert). AI has numerous applications across various industries, including healthcare (medical diagnosis, drug discovery), finance (fraud detection, algorithmic trading), transportation (autonomous vehicles), and entertainment (recommendation systems). While AI offers significant potential to improve lives and solve complex problems, it also raises important ethical considerations regarding bias, privacy, and the future of work.\n",
      "\n",
      "Result 3:\n",
      "Score: 0.3622\n",
      "Meta Data: {'source': 'knowledge-base2\\\\Data structures.txt', 'doc_type': 'Data structures'}\n",
      "Text: Data structures and algorithms are foundational concepts in computer science, crucial for efficient problem-solving and software development. A data structure is a particular way of organizing and storing data in a computer so that it can be accessed and modified efficiently. Examples include arrays, linked lists, stacks, queues, trees, graphs, and hash tables. Each data structure has its own strengths and weaknesses in terms of how quickly data can be inserted, deleted, searched, or accessed, making the choice of the appropriate data structure critical for the performance of a program.\n",
      "An algorithm is a step-by-step procedure or formula for solving a problem or completing a task. Algorithms are the recipes that operate on data structures to achieve a desired outcome. Examples range from simple sorting algorithms like bubble sort or quicksort to complex graph traversal algorithms like Dijkstra's algorithm or algorithms for searching databases. The efficiency of an algorithm is typically measured by its time complexity (how the execution time grows with the input size) and space complexity (how much memory it requires). Analyzing and optimizing the complexity of algorithms is a key skill for computer scientists.\n",
      "The interplay between data structures and algorithms is fundamental. The choice of data structure often dictates which algorithms are most suitable for a given problem, and vice versa. For example, searching for an element is much faster in a sorted array using binary search than in an unsorted linked list. Designing efficient algorithms requires a deep understanding of how data can be organized and manipulated. Mastery of data structures and algorithms is essential for developing high-performance software, tackling complex computational problems, and excelling in areas like artificial intelligence, machine learning, and cybersecurity.\n"
     ]
    },
    {
     "data": {
      "application/vnd.plotly.v1+json": {
       "config": {
        "plotlyServerURL": "https://plot.ly"
       },
       "data": [
        {
         "hoverinfo": "text",
         "hoverlabel": {
          "bgcolor": "white",
          "font": {
           "family": "Arial",
           "size": 12
          }
         },
         "marker": {
          "color": {
           "bdata": "aYggosiE1D+u1dPeer/uP6POz5wYjr4/k0Krx3J6xD+ABqwvIm7KP+PtV198kdg/ZvwDQP7h2D9vqhKMpLzLP3veWOqdR8w/CFVr9aXVzj8EcIOtsvyzPxGMEZfZouQ/B96LVmid1D9A+S4py6XOP3k1ZGk4KME/xCjJZDTZ2T9ogUR/qY3JP++/MfJxiKQ/MBu87CGE0j+qdJSPzK7OPwoTAG6UUMY/PivFvvT0zj8eD3VzY1WvPxsRKPdbv9Y/AAAAAAAA8D86vZrzuVDZP3nkX4Yudtg/OOJzHlcOtz8AAAAAAAAAAE6z736PSOI/MolhwbeI1D/7U2dRkzjTP4Bwen+/kKg/CA6Kxm9w0j/w7osEtw68PxtzT4EUFtE/Kga3+DWGwT+ctxU24O/NP0wTKiZ98tM/koNn4bN3yT97Inddj/TeP9F5zHZoJNU/p+wPwtu13D8OMU4aaCnCPz6f6/HvC7w/JhXCrCzR0D+WmWC1o7KrP7Ehz4bqWs8/Zk7YYnVjkj+1kiuo9hPRP+8ldYeIHMw/",
           "dtype": "f8"
          },
          "colorbar": {
           "len": 0.8,
           "thickness": 20,
           "title": {
            "text": "Cosine Similarity"
           },
           "y": 0.5
          },
          "colorscale": [
           [
            0,
            "#440154"
           ],
           [
            0.1111111111111111,
            "#482878"
           ],
           [
            0.2222222222222222,
            "#3e4989"
           ],
           [
            0.3333333333333333,
            "#31688e"
           ],
           [
            0.4444444444444444,
            "#26828e"
           ],
           [
            0.5555555555555556,
            "#1f9e89"
           ],
           [
            0.6666666666666666,
            "#35b779"
           ],
           [
            0.7777777777777778,
            "#6ece58"
           ],
           [
            0.8888888888888888,
            "#b5de2b"
           ],
           [
            1,
            "#fde725"
           ]
          ],
          "showscale": true,
          "size": 8
         },
         "mode": "markers",
         "name": "Documents",
         "text": [
          "<b>Type:</b> Analytical Chemistry<br><b>Text:</b> Analytical Chemistry is the branch of chemistry that deals with the identification and quantification of chemical substances. It involves separating, ...",
          "<b>Type:</b> Artificial Intelligence<br><b>Text:</b> Artificial Intelligence (AI) in computer science is the field dedicated to creating systems that can perform tasks that typically require human intell...",
          "<b>Type:</b> astrophysics<br><b>Text:</b> Astrophysics\nAstrophysics merges physics and astronomy to investigate celestial objects and phenomena through physical principles, mathematical models...",
          "<b>Type:</b> biochemistry<br><b>Text:</b> Biochemistry\nBiochemistry examines the molecular basis of life, investigating chemical processes and substances occurring within living organisms. Thi...",
          "<b>Type:</b> Biomaterials Engineering<br><b>Text:</b> Biomaterials Engineering is a specialized area within biotechnology and materials science that focuses on the design and development of materials inte...",
          "<b>Type:</b> Biotechnology<br><b>Text:</b> Biotechnology is a broad field that harnesses biological processes, organisms, or systems to produce products or services that benefit humanity. It in...",
          "<b>Type:</b> Calculus_<br><b>Text:</b> Calculus is a major branch of mathematics that deals with continuous change. It is built upon two major complementary ideas: differential calculus and...",
          "<b>Type:</b> Chemical Thermodynamics<br><b>Text:</b> Chemical Thermodynamics is a branch of chemistry that applies the principles of thermodynamics to chemical systems. It deals with the relationships be...",
          "<b>Type:</b> Clinical Pharmacy<br><b>Text:</b> Clinical Pharmacy is a patient-oriented branch of pharmacy where pharmacists work directly with patients and other healthcare professionals to optimiz...",
          "<b>Type:</b> Control Systems Engineering<br><b>Text:</b> Control Systems Engineering is a discipline focused on designing, implementing, and managing systems that regulate the behavior of other systems. The ...",
          "<b>Type:</b> cryptography<br><b>Text:</b> # Cryptography\nCryptography, the science of secure communication, transforms readable information into unintelligible formats and back again through m...",
          "<b>Type:</b> Data structures<br><b>Text:</b> Data structures and algorithms are foundational concepts in computer science, crucial for efficient problem-solving and software development. A data s...",
          "<b>Type:</b> database_systems<br><b>Text:</b> # Database Systems\nDatabase systems form the bedrock of modern information architecture, providing structured mechanisms for storing, retrieving, and ...",
          "<b>Type:</b> differential_equations<br><b>Text:</b> # Differential Equations\nDifferential equations govern countless natural phenomena, forming the mathematical framework for describing how systems chan...",
          "<b>Type:</b> Ecology<br><b>Text:</b> Ecology is the scientific study of the relationships between living organisms and their environment. It explores how organisms interact with each othe...",
          "<b>Type:</b> Electromagnetism<br><b>Text:</b> Electromagnetism is a fundamental force of nature that describes the interaction between electrically charged particles. It is governed by a set of fo...",
          "<b>Type:</b> Fluid mechanics<br><b>Text:</b> Fluid mechanics is a fundamental branch of engineering and physics that studies the behavior of fluids (liquids, gases, and plasmas) under various con...",
          "<b>Type:</b> fluid_dynamics<br><b>Text:</b> # Fluid Dynamics\nFluid dynamics, a branch of continuum mechanics, explores the physics of fluids in motion. This discipline examines how liquids and g...",
          "<b>Type:</b> Genetic Engineering<br><b>Text:</b> Genetic Engineering, also known as genetic modification, is a core set of techniques in biotechnology that allows for the manipulation of an organism'...",
          "<b>Type:</b> Genetics<br><b>Text:</b> Genetics is the study of genes, genetic variation, and heredity in living organisms. It is a cornerstone of modern biology, providing the framework fo...",
          "<b>Type:</b> genetic_engineering<br><b>Text:</b> # Genetic Engineering\nGenetic engineering encompasses technologies that directly manipulate an organism's genetic material to alter its characteristic...",
          "<b>Type:</b> Immunology<br><b>Text:</b> Immunology is the branch of biology that studies the immune system, a complex network of cells, tissues, and organs that work together to protect the ...",
          "<b>Type:</b> immunology_1<br><b>Text:</b> # Immunology\nImmunology explores the intricate defense mechanisms protecting organisms from pathogens and foreign substances. This biological discipli...",
          "<b>Type:</b> Linear algebra<br><b>Text:</b> Linear algebra is a branch of mathematics concerning linear equations, linear functions, and their representations through matrices and vector spaces....",
          "<b>Type:</b> machine_learning<br><b>Text:</b> # Machine Learning\nMachine learning enables computers to improve their performance on tasks through experience without explicit programming. This comp...",
          "<b>Type:</b> Materials Science Engineering<br><b>Text:</b> Materials Science Engineering is an interdisciplinary field that focuses on the discovery, design, and application of new materials. It involves under...",
          "<b>Type:</b> Molecular biology<br><b>Text:</b> Molecular biology is a branch of biology that concerns the molecular basis of biological activity between biomolecules in the various systems of a cel...",
          "<b>Type:</b> molecular_biology<br><b>Text:</b> # Molecular Biology\nMolecular biology investigates biological processes at the molecular level, focusing on the structure, function, and interactions ...",
          "<b>Type:</b> nanotechnology<br><b>Text:</b> # Nanotechnology\nNanotechnology encompasses the manipulation of matter at dimensions between 1 and 100 nanometers, where unique phenomena enable novel...",
          "<b>Type:</b> neural_networks<br><b>Text:</b> # Neural Networks\nNeural networks form the computational backbone of modern artificial intelligence, drawing inspiration from the human brain's interc...",
          "<b>Type:</b> Numerical Analysis<br><b>Text:</b> Numerical Analysis is the study of algorithms for solving mathematical problems that arise in science and engineering. Many mathematical problems, esp...",
          "<b>Type:</b> Numerical Methods<br><b>Text:</b> Numerical Methods in engineering involve the application of mathematical algorithms to solve complex engineering problems that cannot be solved analyt...",
          "<b>Type:</b> optics<br><b>Text:</b> # Optics\nOptics investigates light behavior and its interactions with matter, encompassing both classical wave descriptions and quantum photon models....",
          "<b>Type:</b> Organic Chemistry<br><b>Text:</b> Organic Chemistry is the study of the structure, properties, composition, reactions, and synthesis of organic compounds, which are chemical compounds ...",
          "<b>Type:</b> organic_chemistry<br><b>Text:</b> # Organic Chemistry\nOrganic chemistry explores the vast realm of carbon-containing compounds, excluding simple carbon oxides, carbonates, and cyanides...",
          "<b>Type:</b> Pharmaceutical Chemistry<br><b>Text:</b> Pharmaceutical Chemistry is a multidisciplinary field that combines principles of chemistry and biology to design, synthesize, and develop new drugs. ...",
          "<b>Type:</b> pharmacokinetics<br><b>Text:</b> # Pharmacokinetics\nPharmacokinetics examines the temporal course of drug concentrations in the body, encompassing the processes of absorption, distrib...",
          "<b>Type:</b> Pharmacology<br><b>Text:</b> Pharmacology is the branch of medicine and biology concerned with the study of drug action, where a drug can be broadly defined as any artificial, nat...",
          "<b>Type:</b> Physical Chemistry<br><b>Text:</b> Physical Chemistry is a branch of chemistry that applies principles of physics to study chemical systems. It seeks to understand the fundamental physi...",
          "<b>Type:</b> polymer_science<br><b>Text:</b> # Polymer Science\nPolymer science investigates macromolecules composed of repeating structural units connected by covalent bonds. These versatile mate...",
          "<b>Type:</b> Probability and Statistics<br><b>Text:</b> Probability and Statistics are two closely related branches of mathematics that deal with uncertainty and data analysis. Probability is the study of r...",
          "<b>Type:</b> Protein Chemistry<br><b>Text:</b> Protein Chemistry is a fundamental area within biochemistry that focuses on the study of proteins, which are arguably the most versatile macromolecule...",
          "<b>Type:</b> Quantum Mechanics<br><b>Text:</b> Quantum Mechanics is a fundamental theory in physics that provides a description of the physical properties of nature at the scale of atoms and subato...",
          "<b>Type:</b> quantum_computing<br><b>Text:</b> # Quantum Computing\nQuantum computing leverages quantum mechanical phenomena to perform computations beyond the capabilities of classical computers. U...",
          "<b>Type:</b> Renewable energy<br><b>Text:</b> Renewable energy engineering is a rapidly evolving field focused on the sustainable generation of energy from natural resources that are replenished a...",
          "<b>Type:</b> Semiconductor Physics<br><b>Text:</b> Semiconductor Physics is a branch of physics that studies the electrical properties of semiconductor materials. Semiconductors are materials that have...",
          "<b>Type:</b> semiconductor_physics<br><b>Text:</b> # Semiconductor Physics\nSemiconductor physics explores materials with electrical conductivity between conductors and insulators, forming the foundatio...",
          "<b>Type:</b> Software Engineering<br><b>Text:</b> Software Engineering is a systematic approach to the design, development, testing, deployment, and maintenance of software. It is an engineering disci...",
          "<b>Type:</b> structural_engineering<br><b>Text:</b> # Structural Engineering\nStructural engineering applies physical principles to design load-bearing systems that safely support and resist applied forc...",
          "<b>Type:</b> Thermodynamics<br><b>Text:</b> Thermodynamics is a fundamental branch of physics that deals with heat, work, temperature, and energy, and the relationships between them. It is gover...",
          "<b>Type:</b> thermodynamics_1<br><b>Text:</b> # Thermodynamics\nThermodynamics, the branch of physics examining energy and its transformations, establishes fundamental principles governing the univ..."
         ],
         "type": "scatter",
         "x": {
          "bdata": "H7CFQVmHyUL/2BzB3e5awShgbsEBJ4/BGQGUwpPS5b8s0rdBEU2xwnBjikJ4CadCiG6WQnk4p8LPMH7Bo04HQmRNl8IaK6PCatTVwYl4lcHBPgjCqwb1QqWd9UI3l7XCaQbXQg0kcsG7BLrBX/MBwuzT0sHxA9RCKOOVwqvOjsJzr09C3NmGQRsUO0FrCaBB4C8KQjqk00Et7MpBdeR9wVhTEkJn08zAcA84Qih3eEJDVNjBT5XJQU5v3kEeadDBeCxswm0qOcHfyGnB",
          "dtype": "f4"
         },
         "y": {
          "bdata": "916bwCTIFkKvIXnCIB0+Qgfmb0H7XbVCTuzQwTwJIMKuHoRCF9ZlwTW8l8A3lQZCbG/+QZlyrsHpVv7BWHbLQHY9c8IfCGHCipiyQvIOlUJIjLBC//UFwQsHdMHsz/nBkJpCQsVxwECAyYVCnauGQurzXUHJ8/tBb/kSwuSFMsI60MbBqXm3QZb84EExNUVCz8ZiQjuIY0IM7Lm/NYMCQp5Ie8GN2zpC65tuwZ4BDMEpdE3CweZLwvzXZcKNNf7AhqE/wkV9KsIh10fC",
          "dtype": "f4"
         }
        },
        {
         "hoverinfo": "text",
         "marker": {
          "color": "red",
          "size": 18,
          "symbol": "star"
         },
         "mode": "markers+text",
         "name": "Query",
         "text": [
          "Query"
         ],
         "textposition": "top center",
         "type": "scatter",
         "x": [
          99.37210845947266
         ],
         "y": [
          48.34305953979492
         ]
        },
        {
         "hoverinfo": "text",
         "hoverlabel": {
          "bgcolor": "white",
          "font": {
           "family": "Arial",
           "size": 12
          }
         },
         "hovertext": [
          "<b>Top 1</b><br>Score: 0.5704<br><b>Type:</b> machine_learning<br><b>Text:</b> # Machine Learning\nMachine learning enables computers to improve their performance on tasks through experience without explicit programming. This comp...",
          "<b>Top 2</b><br>Score: 0.5475<br><b>Type:</b> Artificial Intelligence<br><b>Text:</b> Artificial Intelligence (AI) in computer science is the field dedicated to creating systems that can perform tasks that typically require human intell...",
          "<b>Top 3</b><br>Score: 0.3622<br><b>Type:</b> Data structures<br><b>Text:</b> Data structures and algorithms are foundational concepts in computer science, crucial for efficient problem-solving and software development. A data s..."
         ],
         "marker": {
          "color": "green",
          "line": {
           "color": "black",
           "width": 2
          },
          "size": 15,
          "symbol": "circle-open"
         },
         "mode": "markers+text",
         "name": "Top Results",
         "text": [
          "Top 1",
          "Top 2",
          "Top 3"
         ],
         "textposition": "top center",
         "type": "scatter",
         "x": {
          "bdata": "aQbXQlmHyUJ4CadC",
          "dtype": "f4"
         },
         "y": {
          "bdata": "kJpCQiTIFkI3lQZC",
          "dtype": "f4"
         }
        }
       ],
       "layout": {
        "annotations": [
         {
          "bgcolor": "white",
          "bordercolor": "black",
          "borderpad": 4,
          "borderwidth": 1,
          "font": {
           "size": 12
          },
          "showarrow": false,
          "text": "<b>Color Guide:</b><br>Brighter = More similar to query",
          "x": 0.02,
          "xref": "paper",
          "y": 0.02,
          "yref": "paper"
         }
        ],
        "height": 800,
        "hovermode": "closest",
        "margin": {
         "b": 50,
         "l": 50,
         "r": 50,
         "t": 100
        },
        "paper_bgcolor": "white",
        "plot_bgcolor": "white",
        "showlegend": true,
        "template": {
         "data": {
          "bar": [
           {
            "error_x": {
             "color": "#2a3f5f"
            },
            "error_y": {
             "color": "#2a3f5f"
            },
            "marker": {
             "line": {
              "color": "#E5ECF6",
              "width": 0.5
             },
             "pattern": {
              "fillmode": "overlay",
              "size": 10,
              "solidity": 0.2
             }
            },
            "type": "bar"
           }
          ],
          "barpolar": [
           {
            "marker": {
             "line": {
              "color": "#E5ECF6",
              "width": 0.5
             },
             "pattern": {
              "fillmode": "overlay",
              "size": 10,
              "solidity": 0.2
             }
            },
            "type": "barpolar"
           }
          ],
          "carpet": [
           {
            "aaxis": {
             "endlinecolor": "#2a3f5f",
             "gridcolor": "white",
             "linecolor": "white",
             "minorgridcolor": "white",
             "startlinecolor": "#2a3f5f"
            },
            "baxis": {
             "endlinecolor": "#2a3f5f",
             "gridcolor": "white",
             "linecolor": "white",
             "minorgridcolor": "white",
             "startlinecolor": "#2a3f5f"
            },
            "type": "carpet"
           }
          ],
          "choropleth": [
           {
            "colorbar": {
             "outlinewidth": 0,
             "ticks": ""
            },
            "type": "choropleth"
           }
          ],
          "contour": [
           {
            "colorbar": {
             "outlinewidth": 0,
             "ticks": ""
            },
            "colorscale": [
             [
              0,
              "#0d0887"
             ],
             [
              0.1111111111111111,
              "#46039f"
             ],
             [
              0.2222222222222222,
              "#7201a8"
             ],
             [
              0.3333333333333333,
              "#9c179e"
             ],
             [
              0.4444444444444444,
              "#bd3786"
             ],
             [
              0.5555555555555556,
              "#d8576b"
             ],
             [
              0.6666666666666666,
              "#ed7953"
             ],
             [
              0.7777777777777778,
              "#fb9f3a"
             ],
             [
              0.8888888888888888,
              "#fdca26"
             ],
             [
              1,
              "#f0f921"
             ]
            ],
            "type": "contour"
           }
          ],
          "contourcarpet": [
           {
            "colorbar": {
             "outlinewidth": 0,
             "ticks": ""
            },
            "type": "contourcarpet"
           }
          ],
          "heatmap": [
           {
            "colorbar": {
             "outlinewidth": 0,
             "ticks": ""
            },
            "colorscale": [
             [
              0,
              "#0d0887"
             ],
             [
              0.1111111111111111,
              "#46039f"
             ],
             [
              0.2222222222222222,
              "#7201a8"
             ],
             [
              0.3333333333333333,
              "#9c179e"
             ],
             [
              0.4444444444444444,
              "#bd3786"
             ],
             [
              0.5555555555555556,
              "#d8576b"
             ],
             [
              0.6666666666666666,
              "#ed7953"
             ],
             [
              0.7777777777777778,
              "#fb9f3a"
             ],
             [
              0.8888888888888888,
              "#fdca26"
             ],
             [
              1,
              "#f0f921"
             ]
            ],
            "type": "heatmap"
           }
          ],
          "histogram": [
           {
            "marker": {
             "pattern": {
              "fillmode": "overlay",
              "size": 10,
              "solidity": 0.2
             }
            },
            "type": "histogram"
           }
          ],
          "histogram2d": [
           {
            "colorbar": {
             "outlinewidth": 0,
             "ticks": ""
            },
            "colorscale": [
             [
              0,
              "#0d0887"
             ],
             [
              0.1111111111111111,
              "#46039f"
             ],
             [
              0.2222222222222222,
              "#7201a8"
             ],
             [
              0.3333333333333333,
              "#9c179e"
             ],
             [
              0.4444444444444444,
              "#bd3786"
             ],
             [
              0.5555555555555556,
              "#d8576b"
             ],
             [
              0.6666666666666666,
              "#ed7953"
             ],
             [
              0.7777777777777778,
              "#fb9f3a"
             ],
             [
              0.8888888888888888,
              "#fdca26"
             ],
             [
              1,
              "#f0f921"
             ]
            ],
            "type": "histogram2d"
           }
          ],
          "histogram2dcontour": [
           {
            "colorbar": {
             "outlinewidth": 0,
             "ticks": ""
            },
            "colorscale": [
             [
              0,
              "#0d0887"
             ],
             [
              0.1111111111111111,
              "#46039f"
             ],
             [
              0.2222222222222222,
              "#7201a8"
             ],
             [
              0.3333333333333333,
              "#9c179e"
             ],
             [
              0.4444444444444444,
              "#bd3786"
             ],
             [
              0.5555555555555556,
              "#d8576b"
             ],
             [
              0.6666666666666666,
              "#ed7953"
             ],
             [
              0.7777777777777778,
              "#fb9f3a"
             ],
             [
              0.8888888888888888,
              "#fdca26"
             ],
             [
              1,
              "#f0f921"
             ]
            ],
            "type": "histogram2dcontour"
           }
          ],
          "mesh3d": [
           {
            "colorbar": {
             "outlinewidth": 0,
             "ticks": ""
            },
            "type": "mesh3d"
           }
          ],
          "parcoords": [
           {
            "line": {
             "colorbar": {
              "outlinewidth": 0,
              "ticks": ""
             }
            },
            "type": "parcoords"
           }
          ],
          "pie": [
           {
            "automargin": true,
            "type": "pie"
           }
          ],
          "scatter": [
           {
            "fillpattern": {
             "fillmode": "overlay",
             "size": 10,
             "solidity": 0.2
            },
            "type": "scatter"
           }
          ],
          "scatter3d": [
           {
            "line": {
             "colorbar": {
              "outlinewidth": 0,
              "ticks": ""
             }
            },
            "marker": {
             "colorbar": {
              "outlinewidth": 0,
              "ticks": ""
             }
            },
            "type": "scatter3d"
           }
          ],
          "scattercarpet": [
           {
            "marker": {
             "colorbar": {
              "outlinewidth": 0,
              "ticks": ""
             }
            },
            "type": "scattercarpet"
           }
          ],
          "scattergeo": [
           {
            "marker": {
             "colorbar": {
              "outlinewidth": 0,
              "ticks": ""
             }
            },
            "type": "scattergeo"
           }
          ],
          "scattergl": [
           {
            "marker": {
             "colorbar": {
              "outlinewidth": 0,
              "ticks": ""
             }
            },
            "type": "scattergl"
           }
          ],
          "scattermap": [
           {
            "marker": {
             "colorbar": {
              "outlinewidth": 0,
              "ticks": ""
             }
            },
            "type": "scattermap"
           }
          ],
          "scattermapbox": [
           {
            "marker": {
             "colorbar": {
              "outlinewidth": 0,
              "ticks": ""
             }
            },
            "type": "scattermapbox"
           }
          ],
          "scatterpolar": [
           {
            "marker": {
             "colorbar": {
              "outlinewidth": 0,
              "ticks": ""
             }
            },
            "type": "scatterpolar"
           }
          ],
          "scatterpolargl": [
           {
            "marker": {
             "colorbar": {
              "outlinewidth": 0,
              "ticks": ""
             }
            },
            "type": "scatterpolargl"
           }
          ],
          "scatterternary": [
           {
            "marker": {
             "colorbar": {
              "outlinewidth": 0,
              "ticks": ""
             }
            },
            "type": "scatterternary"
           }
          ],
          "surface": [
           {
            "colorbar": {
             "outlinewidth": 0,
             "ticks": ""
            },
            "colorscale": [
             [
              0,
              "#0d0887"
             ],
             [
              0.1111111111111111,
              "#46039f"
             ],
             [
              0.2222222222222222,
              "#7201a8"
             ],
             [
              0.3333333333333333,
              "#9c179e"
             ],
             [
              0.4444444444444444,
              "#bd3786"
             ],
             [
              0.5555555555555556,
              "#d8576b"
             ],
             [
              0.6666666666666666,
              "#ed7953"
             ],
             [
              0.7777777777777778,
              "#fb9f3a"
             ],
             [
              0.8888888888888888,
              "#fdca26"
             ],
             [
              1,
              "#f0f921"
             ]
            ],
            "type": "surface"
           }
          ],
          "table": [
           {
            "cells": {
             "fill": {
              "color": "#EBF0F8"
             },
             "line": {
              "color": "white"
             }
            },
            "header": {
             "fill": {
              "color": "#C8D4E3"
             },
             "line": {
              "color": "white"
             }
            },
            "type": "table"
           }
          ]
         },
         "layout": {
          "annotationdefaults": {
           "arrowcolor": "#2a3f5f",
           "arrowhead": 0,
           "arrowwidth": 1
          },
          "autotypenumbers": "strict",
          "coloraxis": {
           "colorbar": {
            "outlinewidth": 0,
            "ticks": ""
           }
          },
          "colorscale": {
           "diverging": [
            [
             0,
             "#8e0152"
            ],
            [
             0.1,
             "#c51b7d"
            ],
            [
             0.2,
             "#de77ae"
            ],
            [
             0.3,
             "#f1b6da"
            ],
            [
             0.4,
             "#fde0ef"
            ],
            [
             0.5,
             "#f7f7f7"
            ],
            [
             0.6,
             "#e6f5d0"
            ],
            [
             0.7,
             "#b8e186"
            ],
            [
             0.8,
             "#7fbc41"
            ],
            [
             0.9,
             "#4d9221"
            ],
            [
             1,
             "#276419"
            ]
           ],
           "sequential": [
            [
             0,
             "#0d0887"
            ],
            [
             0.1111111111111111,
             "#46039f"
            ],
            [
             0.2222222222222222,
             "#7201a8"
            ],
            [
             0.3333333333333333,
             "#9c179e"
            ],
            [
             0.4444444444444444,
             "#bd3786"
            ],
            [
             0.5555555555555556,
             "#d8576b"
            ],
            [
             0.6666666666666666,
             "#ed7953"
            ],
            [
             0.7777777777777778,
             "#fb9f3a"
            ],
            [
             0.8888888888888888,
             "#fdca26"
            ],
            [
             1,
             "#f0f921"
            ]
           ],
           "sequentialminus": [
            [
             0,
             "#0d0887"
            ],
            [
             0.1111111111111111,
             "#46039f"
            ],
            [
             0.2222222222222222,
             "#7201a8"
            ],
            [
             0.3333333333333333,
             "#9c179e"
            ],
            [
             0.4444444444444444,
             "#bd3786"
            ],
            [
             0.5555555555555556,
             "#d8576b"
            ],
            [
             0.6666666666666666,
             "#ed7953"
            ],
            [
             0.7777777777777778,
             "#fb9f3a"
            ],
            [
             0.8888888888888888,
             "#fdca26"
            ],
            [
             1,
             "#f0f921"
            ]
           ]
          },
          "colorway": [
           "#636efa",
           "#EF553B",
           "#00cc96",
           "#ab63fa",
           "#FFA15A",
           "#19d3f3",
           "#FF6692",
           "#B6E880",
           "#FF97FF",
           "#FECB52"
          ],
          "font": {
           "color": "#2a3f5f"
          },
          "geo": {
           "bgcolor": "white",
           "lakecolor": "white",
           "landcolor": "#E5ECF6",
           "showlakes": true,
           "showland": true,
           "subunitcolor": "white"
          },
          "hoverlabel": {
           "align": "left"
          },
          "hovermode": "closest",
          "mapbox": {
           "style": "light"
          },
          "paper_bgcolor": "white",
          "plot_bgcolor": "#E5ECF6",
          "polar": {
           "angularaxis": {
            "gridcolor": "white",
            "linecolor": "white",
            "ticks": ""
           },
           "bgcolor": "#E5ECF6",
           "radialaxis": {
            "gridcolor": "white",
            "linecolor": "white",
            "ticks": ""
           }
          },
          "scene": {
           "xaxis": {
            "backgroundcolor": "#E5ECF6",
            "gridcolor": "white",
            "gridwidth": 2,
            "linecolor": "white",
            "showbackground": true,
            "ticks": "",
            "zerolinecolor": "white"
           },
           "yaxis": {
            "backgroundcolor": "#E5ECF6",
            "gridcolor": "white",
            "gridwidth": 2,
            "linecolor": "white",
            "showbackground": true,
            "ticks": "",
            "zerolinecolor": "white"
           },
           "zaxis": {
            "backgroundcolor": "#E5ECF6",
            "gridcolor": "white",
            "gridwidth": 2,
            "linecolor": "white",
            "showbackground": true,
            "ticks": "",
            "zerolinecolor": "white"
           }
          },
          "shapedefaults": {
           "line": {
            "color": "#2a3f5f"
           }
          },
          "ternary": {
           "aaxis": {
            "gridcolor": "white",
            "linecolor": "white",
            "ticks": ""
           },
           "baxis": {
            "gridcolor": "white",
            "linecolor": "white",
            "ticks": ""
           },
           "bgcolor": "#E5ECF6",
           "caxis": {
            "gridcolor": "white",
            "linecolor": "white",
            "ticks": ""
           }
          },
          "title": {
           "x": 0.05
          },
          "xaxis": {
           "automargin": true,
           "gridcolor": "white",
           "linecolor": "white",
           "ticks": "",
           "title": {
            "standoff": 15
           },
           "zerolinecolor": "white",
           "zerolinewidth": 2
          },
          "yaxis": {
           "automargin": true,
           "gridcolor": "white",
           "linecolor": "white",
           "ticks": "",
           "title": {
            "standoff": 15
           },
           "zerolinecolor": "white",
           "zerolinewidth": 2
          }
         }
        },
        "title": {
         "font": {
          "size": 20
         },
         "text": "t-SNE Visualization of Cosine Similarity",
         "x": 0.5
        },
        "width": 1000,
        "xaxis": {
         "title": {
          "text": "t-SNE 1"
         }
        },
        "yaxis": {
         "title": {
          "text": "t-SNE 2"
         }
        }
       }
      }
     },
     "metadata": {},
     "output_type": "display_data"
    }
   ],
   "source": [
    "query = \"What is Supervised learning algorithm ??\"\n",
    "results, fig = cosine_search_and_visualize(query)\n",
    "fig.show()"
   ]
  },
  {
   "cell_type": "code",
   "execution_count": 39,
   "metadata": {},
   "outputs": [
    {
     "name": "stdout",
     "output_type": "stream",
     "text": [
      "Top 1 (Score: 0.5704): # Machine Learning\n",
      "Machine learning enables computers to improve their performance on tasks through ...\n",
      "Top 2 (Score: 0.5475): Artificial Intelligence (AI) in computer science is the field dedicated to creating systems that can...\n",
      "Top 3 (Score: 0.3622): Data structures and algorithms are foundational concepts in computer science, crucial for efficient ...\n"
     ]
    },
    {
     "data": {
      "application/vnd.plotly.v1+json": {
       "config": {
        "plotlyServerURL": "https://plot.ly"
       },
       "data": [
        {
         "hovertemplate": "<b>%{text}</b><extra></extra>",
         "marker": {
          "color": {
           "bdata": "1eBBnMiE1D/jDQjWer/uP2QnEpQYjr4/5I/PwXJ6xD8QcxwoIm7KPwS1UFh8kdg/sbvlOP7h2D+5ZSOEpLzLPzfYQeKdR8w/xzWZ7KXVzj94tsunsvyzP6JKKpHZouQ/KCumUGid1D+Pimogy6XOP++7e2Q4KME/5y9kXTTZ2T/KJPV3qY3JPzgMUuxxiKQ/1hpw5yGE0j95cs2GzK7OP//inWeUUMY/NhfqtfT0zj8BZX5qY1WvP00wpvBbv9Y/aYfY9v//7z8lz1zsuVDZPyx7YH8udtg/W2nbF1cOtz8AAAAAAAAAAJ29tHmPSOI/gsGBu7eI1D8qtedLkzjTP6htc3i/kKg/FLBDwW9w0j/ML4X8tg68PwoqbHwUFtE/Yamz8zWGwT9jU4Ut4O/NP2ZFdSB98tM/H28e2rN3yT9zK5xUj/TeP2QowHBoJNU/A13Zudu13D/fJBwVaCnCP4Wr5envC7w/R4LypyzR0D9zMXSto7KrP8Xi1n3qWs8/36aVXXVjkj+m5Eij9hPRP9Nyan+IHMw/",
           "dtype": "f8"
          },
          "colorbar": {
           "thickness": 15,
           "title": {
            "text": "Similarity"
           },
           "x": 1.02
          },
          "colorscale": [
           [
            0,
            "#0d0887"
           ],
           [
            0.1111111111111111,
            "#46039f"
           ],
           [
            0.2222222222222222,
            "#7201a8"
           ],
           [
            0.3333333333333333,
            "#9c179e"
           ],
           [
            0.4444444444444444,
            "#bd3786"
           ],
           [
            0.5555555555555556,
            "#d8576b"
           ],
           [
            0.6666666666666666,
            "#ed7953"
           ],
           [
            0.7777777777777778,
            "#fb9f3a"
           ],
           [
            0.8888888888888888,
            "#fdca26"
           ],
           [
            1,
            "#f0f921"
           ]
          ],
          "opacity": 0.7,
          "showscale": true,
          "size": 6
         },
         "mode": "markers",
         "name": "Documents",
         "text": [
          "Analytical Chemistry: Analytical Chemistry is the branch of chemistry that deals with the identificati...",
          "Artificial Intelligence: Artificial Intelligence (AI) in computer science is the field dedicated to creat...",
          "astrophysics: Astrophysics\nAstrophysics merges physics and astronomy to investigate celestial ...",
          "biochemistry: Biochemistry\nBiochemistry examines the molecular basis of life, investigating ch...",
          "Biomaterials Engineering: Biomaterials Engineering is a specialized area within biotechnology and material...",
          "Biotechnology: Biotechnology is a broad field that harnesses biological processes, organisms, o...",
          "Calculus_: Calculus is a major branch of mathematics that deals with continuous change. It ...",
          "Chemical Thermodynamics: Chemical Thermodynamics is a branch of chemistry that applies the principles of ...",
          "Clinical Pharmacy: Clinical Pharmacy is a patient-oriented branch of pharmacy where pharmacists wor...",
          "Control Systems Engineering: Control Systems Engineering is a discipline focused on designing, implementing, ...",
          "cryptography: # Cryptography\nCryptography, the science of secure communication, transforms rea...",
          "Data structures: Data structures and algorithms are foundational concepts in computer science, cr...",
          "database_systems: # Database Systems\nDatabase systems form the bedrock of modern information archi...",
          "differential_equations: # Differential Equations\nDifferential equations govern countless natural phenome...",
          "Ecology: Ecology is the scientific study of the relationships between living organisms an...",
          "Electromagnetism: Electromagnetism is a fundamental force of nature that describes the interaction...",
          "Fluid mechanics: Fluid mechanics is a fundamental branch of engineering and physics that studies ...",
          "fluid_dynamics: # Fluid Dynamics\nFluid dynamics, a branch of continuum mechanics, explores the p...",
          "Genetic Engineering: Genetic Engineering, also known as genetic modification, is a core set of techni...",
          "Genetics: Genetics is the study of genes, genetic variation, and heredity in living organi...",
          "genetic_engineering: # Genetic Engineering\nGenetic engineering encompasses technologies that directly...",
          "Immunology: Immunology is the branch of biology that studies the immune system, a complex ne...",
          "immunology_1: # Immunology\nImmunology explores the intricate defense mechanisms protecting org...",
          "Linear algebra: Linear algebra is a branch of mathematics concerning linear equations, linear fu...",
          "machine_learning: # Machine Learning\nMachine learning enables computers to improve their performan...",
          "Materials Science Engineering: Materials Science Engineering is an interdisciplinary field that focuses on the ...",
          "Molecular biology: Molecular biology is a branch of biology that concerns the molecular basis of bi...",
          "molecular_biology: # Molecular Biology\nMolecular biology investigates biological processes at the m...",
          "nanotechnology: # Nanotechnology\nNanotechnology encompasses the manipulation of matter at dimens...",
          "neural_networks: # Neural Networks\nNeural networks form the computational backbone of modern arti...",
          "Numerical Analysis: Numerical Analysis is the study of algorithms for solving mathematical problems ...",
          "Numerical Methods: Numerical Methods in engineering involve the application of mathematical algorit...",
          "optics: # Optics\nOptics investigates light behavior and its interactions with matter, en...",
          "Organic Chemistry: Organic Chemistry is the study of the structure, properties, composition, reacti...",
          "organic_chemistry: # Organic Chemistry\nOrganic chemistry explores the vast realm of carbon-containi...",
          "Pharmaceutical Chemistry: Pharmaceutical Chemistry is a multidisciplinary field that combines principles o...",
          "pharmacokinetics: # Pharmacokinetics\nPharmacokinetics examines the temporal course of drug concent...",
          "Pharmacology: Pharmacology is the branch of medicine and biology concerned with the study of d...",
          "Physical Chemistry: Physical Chemistry is a branch of chemistry that applies principles of physics t...",
          "polymer_science: # Polymer Science\nPolymer science investigates macromolecules composed of repeat...",
          "Probability and Statistics: Probability and Statistics are two closely related branches of mathematics that ...",
          "Protein Chemistry: Protein Chemistry is a fundamental area within biochemistry that focuses on the ...",
          "Quantum Mechanics: Quantum Mechanics is a fundamental theory in physics that provides a description...",
          "quantum_computing: # Quantum Computing\nQuantum computing leverages quantum mechanical phenomena to ...",
          "Renewable energy: Renewable energy engineering is a rapidly evolving field focused on the sustaina...",
          "Semiconductor Physics: Semiconductor Physics is a branch of physics that studies the electrical propert...",
          "semiconductor_physics: # Semiconductor Physics\nSemiconductor physics explores materials with electrical...",
          "Software Engineering: Software Engineering is a systematic approach to the design, development, testin...",
          "structural_engineering: # Structural Engineering\nStructural engineering applies physical principles to d...",
          "Thermodynamics: Thermodynamics is a fundamental branch of physics that deals with heat, work, te...",
          "thermodynamics_1: # Thermodynamics\nThermodynamics, the branch of physics examining energy and its ..."
         ],
         "type": "scatter3d",
         "x": {
          "bdata": "IwwOwQrBF0GISGzBZLAAwx7V7MH2V/FBuTizQLrAkcFQWrJCuTFdQnsaukK9DQLCveacwp/zS0KVzaLC4g11vwWBAkIAQurAZM5fwqKx60LIbI/CglIyQlZZUULxwUVCsfpCwoOkO8E2h1vC0PQNQ64XCcKz9qZB73iVQQ1hd8H8v4XCd2OUQmyJJ8Oc8dTCwWrqQVSVOkIzHFtCm6H4QYPbRsKSmJJCrzayQuPdscJus7bCkSa/wgCr/cJzAN1Ci4TgQr/dbsGRJsZB",
          "dtype": "f4"
         },
         "y": {
          "bdata": "0s4KwsCNZEJ9II3CNDatwQV7qT+zW9hC04ziQfWoAsNlz8DCCDWAQgDKycHrHcFCKxXWQmBr30JnG8PCyGdXQngPw0IhPaTCHMFFQi3ajUEghefB4obcwmpACMNlR5ZBTsT+QYyU9ME7mchCPokaQPDA3MGibChBcicEw51SCMPrNIlCDB7sQVAbYMI8+cVBakW2wp3JjcJprQXC1v83wJE2ncJeaxnCZV1NwiaFY8HlYLTCgIxdwHk5KUIPddRCR31kQjFOuUHRnQRD",
          "dtype": "f4"
         },
         "z": {
          "bdata": "XSZiQuA/0cKecFW+4tsmwRrQrMI983rChHlHQgxCEULgx31Cwc7KQU2I9kKKzs9BIuiVQbTFA8NLWG5BRXUxwnXRr0LgA7bC2mKSQiS+OkFJZfzB5P8RwmrlxMA9Z7lCpPvtP4BNX8L2XELCqfhLwiABBcNRIwvBuI/lwlyIqsJodPHCNmVZwktPh0GfcoDCsIPKQuitgEIj9AXCPuvHwgTHs0Le/uLC/Wu1P/gFQ0JX5J3COzjZQrVdPkImg89AcIyqQpcUAkMSvgNB",
          "dtype": "f4"
         }
        },
        {
         "customdata": [
          "What is Supervised learning algorithm ??..."
         ],
         "hovertemplate": "<b>Query: %{customdata}</b><extra></extra>",
         "marker": {
          "color": "gold",
          "line": {
           "color": "red",
           "width": 3
          },
          "size": 15,
          "symbol": "diamond"
         },
         "mode": "markers+text",
         "name": "Query",
         "text": [
          "QUERY"
         ],
         "textposition": "top center",
         "type": "scatter3d",
         "x": [
          -55.8808708190918
         ],
         "y": [
          125.66027069091797
         ],
         "z": [
          80.76529693603516
         ]
        },
        {
         "customdata": [
          "machine_learning: # Machine Learning\nMachine learning enables computers to improve their performan...",
          "Artificial Intelligence: Artificial Intelligence (AI) in computer science is the field dedicated to creat...",
          "Data structures: Data structures and algorithms are foundational concepts in computer science, cr..."
         ],
         "hovertemplate": "<b>Rank %{text}</b><br>%{customdata}<extra></extra>",
         "marker": {
          "color": "lime",
          "line": {
           "color": "darkgreen",
           "width": 4
          },
          "size": 12,
          "symbol": "circle-open"
         },
         "mode": "markers",
         "name": "Top Matches",
         "text": [
          "#1 (0.570)",
          "#2 (0.547)",
          "#3 (0.362)"
         ],
         "type": "scatter3d",
         "x": {
          "bdata": "sfpCwgrBF0G9DQLC",
          "dtype": "f4"
         },
         "y": {
          "bdata": "TsT+QcCNZELrHcFC",
          "dtype": "f4"
         },
         "z": {
          "bdata": "pPvtP+A/0cKKzs9B",
          "dtype": "f4"
         }
        }
       ],
       "layout": {
        "font": {
         "color": "white"
        },
        "height": 700,
        "legend": {
         "bgcolor": "rgba(0,0,0,0.5)",
         "x": 0,
         "y": 1
        },
        "paper_bgcolor": "black",
        "scene": {
         "bgcolor": "black",
         "camera": {
          "eye": {
           "x": 1.5,
           "y": 1.5,
           "z": 1.5
          }
         },
         "xaxis": {
          "showgrid": false,
          "showticklabels": false,
          "title": {
           "text": ""
          },
          "zeroline": false
         },
         "yaxis": {
          "showgrid": false,
          "showticklabels": false,
          "title": {
           "text": ""
          },
          "zeroline": false
         },
         "zaxis": {
          "showgrid": false,
          "showticklabels": false,
          "title": {
           "text": ""
          },
          "zeroline": false
         }
        },
        "showlegend": true,
        "template": {
         "data": {
          "bar": [
           {
            "error_x": {
             "color": "#2a3f5f"
            },
            "error_y": {
             "color": "#2a3f5f"
            },
            "marker": {
             "line": {
              "color": "#E5ECF6",
              "width": 0.5
             },
             "pattern": {
              "fillmode": "overlay",
              "size": 10,
              "solidity": 0.2
             }
            },
            "type": "bar"
           }
          ],
          "barpolar": [
           {
            "marker": {
             "line": {
              "color": "#E5ECF6",
              "width": 0.5
             },
             "pattern": {
              "fillmode": "overlay",
              "size": 10,
              "solidity": 0.2
             }
            },
            "type": "barpolar"
           }
          ],
          "carpet": [
           {
            "aaxis": {
             "endlinecolor": "#2a3f5f",
             "gridcolor": "white",
             "linecolor": "white",
             "minorgridcolor": "white",
             "startlinecolor": "#2a3f5f"
            },
            "baxis": {
             "endlinecolor": "#2a3f5f",
             "gridcolor": "white",
             "linecolor": "white",
             "minorgridcolor": "white",
             "startlinecolor": "#2a3f5f"
            },
            "type": "carpet"
           }
          ],
          "choropleth": [
           {
            "colorbar": {
             "outlinewidth": 0,
             "ticks": ""
            },
            "type": "choropleth"
           }
          ],
          "contour": [
           {
            "colorbar": {
             "outlinewidth": 0,
             "ticks": ""
            },
            "colorscale": [
             [
              0,
              "#0d0887"
             ],
             [
              0.1111111111111111,
              "#46039f"
             ],
             [
              0.2222222222222222,
              "#7201a8"
             ],
             [
              0.3333333333333333,
              "#9c179e"
             ],
             [
              0.4444444444444444,
              "#bd3786"
             ],
             [
              0.5555555555555556,
              "#d8576b"
             ],
             [
              0.6666666666666666,
              "#ed7953"
             ],
             [
              0.7777777777777778,
              "#fb9f3a"
             ],
             [
              0.8888888888888888,
              "#fdca26"
             ],
             [
              1,
              "#f0f921"
             ]
            ],
            "type": "contour"
           }
          ],
          "contourcarpet": [
           {
            "colorbar": {
             "outlinewidth": 0,
             "ticks": ""
            },
            "type": "contourcarpet"
           }
          ],
          "heatmap": [
           {
            "colorbar": {
             "outlinewidth": 0,
             "ticks": ""
            },
            "colorscale": [
             [
              0,
              "#0d0887"
             ],
             [
              0.1111111111111111,
              "#46039f"
             ],
             [
              0.2222222222222222,
              "#7201a8"
             ],
             [
              0.3333333333333333,
              "#9c179e"
             ],
             [
              0.4444444444444444,
              "#bd3786"
             ],
             [
              0.5555555555555556,
              "#d8576b"
             ],
             [
              0.6666666666666666,
              "#ed7953"
             ],
             [
              0.7777777777777778,
              "#fb9f3a"
             ],
             [
              0.8888888888888888,
              "#fdca26"
             ],
             [
              1,
              "#f0f921"
             ]
            ],
            "type": "heatmap"
           }
          ],
          "histogram": [
           {
            "marker": {
             "pattern": {
              "fillmode": "overlay",
              "size": 10,
              "solidity": 0.2
             }
            },
            "type": "histogram"
           }
          ],
          "histogram2d": [
           {
            "colorbar": {
             "outlinewidth": 0,
             "ticks": ""
            },
            "colorscale": [
             [
              0,
              "#0d0887"
             ],
             [
              0.1111111111111111,
              "#46039f"
             ],
             [
              0.2222222222222222,
              "#7201a8"
             ],
             [
              0.3333333333333333,
              "#9c179e"
             ],
             [
              0.4444444444444444,
              "#bd3786"
             ],
             [
              0.5555555555555556,
              "#d8576b"
             ],
             [
              0.6666666666666666,
              "#ed7953"
             ],
             [
              0.7777777777777778,
              "#fb9f3a"
             ],
             [
              0.8888888888888888,
              "#fdca26"
             ],
             [
              1,
              "#f0f921"
             ]
            ],
            "type": "histogram2d"
           }
          ],
          "histogram2dcontour": [
           {
            "colorbar": {
             "outlinewidth": 0,
             "ticks": ""
            },
            "colorscale": [
             [
              0,
              "#0d0887"
             ],
             [
              0.1111111111111111,
              "#46039f"
             ],
             [
              0.2222222222222222,
              "#7201a8"
             ],
             [
              0.3333333333333333,
              "#9c179e"
             ],
             [
              0.4444444444444444,
              "#bd3786"
             ],
             [
              0.5555555555555556,
              "#d8576b"
             ],
             [
              0.6666666666666666,
              "#ed7953"
             ],
             [
              0.7777777777777778,
              "#fb9f3a"
             ],
             [
              0.8888888888888888,
              "#fdca26"
             ],
             [
              1,
              "#f0f921"
             ]
            ],
            "type": "histogram2dcontour"
           }
          ],
          "mesh3d": [
           {
            "colorbar": {
             "outlinewidth": 0,
             "ticks": ""
            },
            "type": "mesh3d"
           }
          ],
          "parcoords": [
           {
            "line": {
             "colorbar": {
              "outlinewidth": 0,
              "ticks": ""
             }
            },
            "type": "parcoords"
           }
          ],
          "pie": [
           {
            "automargin": true,
            "type": "pie"
           }
          ],
          "scatter": [
           {
            "fillpattern": {
             "fillmode": "overlay",
             "size": 10,
             "solidity": 0.2
            },
            "type": "scatter"
           }
          ],
          "scatter3d": [
           {
            "line": {
             "colorbar": {
              "outlinewidth": 0,
              "ticks": ""
             }
            },
            "marker": {
             "colorbar": {
              "outlinewidth": 0,
              "ticks": ""
             }
            },
            "type": "scatter3d"
           }
          ],
          "scattercarpet": [
           {
            "marker": {
             "colorbar": {
              "outlinewidth": 0,
              "ticks": ""
             }
            },
            "type": "scattercarpet"
           }
          ],
          "scattergeo": [
           {
            "marker": {
             "colorbar": {
              "outlinewidth": 0,
              "ticks": ""
             }
            },
            "type": "scattergeo"
           }
          ],
          "scattergl": [
           {
            "marker": {
             "colorbar": {
              "outlinewidth": 0,
              "ticks": ""
             }
            },
            "type": "scattergl"
           }
          ],
          "scattermap": [
           {
            "marker": {
             "colorbar": {
              "outlinewidth": 0,
              "ticks": ""
             }
            },
            "type": "scattermap"
           }
          ],
          "scattermapbox": [
           {
            "marker": {
             "colorbar": {
              "outlinewidth": 0,
              "ticks": ""
             }
            },
            "type": "scattermapbox"
           }
          ],
          "scatterpolar": [
           {
            "marker": {
             "colorbar": {
              "outlinewidth": 0,
              "ticks": ""
             }
            },
            "type": "scatterpolar"
           }
          ],
          "scatterpolargl": [
           {
            "marker": {
             "colorbar": {
              "outlinewidth": 0,
              "ticks": ""
             }
            },
            "type": "scatterpolargl"
           }
          ],
          "scatterternary": [
           {
            "marker": {
             "colorbar": {
              "outlinewidth": 0,
              "ticks": ""
             }
            },
            "type": "scatterternary"
           }
          ],
          "surface": [
           {
            "colorbar": {
             "outlinewidth": 0,
             "ticks": ""
            },
            "colorscale": [
             [
              0,
              "#0d0887"
             ],
             [
              0.1111111111111111,
              "#46039f"
             ],
             [
              0.2222222222222222,
              "#7201a8"
             ],
             [
              0.3333333333333333,
              "#9c179e"
             ],
             [
              0.4444444444444444,
              "#bd3786"
             ],
             [
              0.5555555555555556,
              "#d8576b"
             ],
             [
              0.6666666666666666,
              "#ed7953"
             ],
             [
              0.7777777777777778,
              "#fb9f3a"
             ],
             [
              0.8888888888888888,
              "#fdca26"
             ],
             [
              1,
              "#f0f921"
             ]
            ],
            "type": "surface"
           }
          ],
          "table": [
           {
            "cells": {
             "fill": {
              "color": "#EBF0F8"
             },
             "line": {
              "color": "white"
             }
            },
            "header": {
             "fill": {
              "color": "#C8D4E3"
             },
             "line": {
              "color": "white"
             }
            },
            "type": "table"
           }
          ]
         },
         "layout": {
          "annotationdefaults": {
           "arrowcolor": "#2a3f5f",
           "arrowhead": 0,
           "arrowwidth": 1
          },
          "autotypenumbers": "strict",
          "coloraxis": {
           "colorbar": {
            "outlinewidth": 0,
            "ticks": ""
           }
          },
          "colorscale": {
           "diverging": [
            [
             0,
             "#8e0152"
            ],
            [
             0.1,
             "#c51b7d"
            ],
            [
             0.2,
             "#de77ae"
            ],
            [
             0.3,
             "#f1b6da"
            ],
            [
             0.4,
             "#fde0ef"
            ],
            [
             0.5,
             "#f7f7f7"
            ],
            [
             0.6,
             "#e6f5d0"
            ],
            [
             0.7,
             "#b8e186"
            ],
            [
             0.8,
             "#7fbc41"
            ],
            [
             0.9,
             "#4d9221"
            ],
            [
             1,
             "#276419"
            ]
           ],
           "sequential": [
            [
             0,
             "#0d0887"
            ],
            [
             0.1111111111111111,
             "#46039f"
            ],
            [
             0.2222222222222222,
             "#7201a8"
            ],
            [
             0.3333333333333333,
             "#9c179e"
            ],
            [
             0.4444444444444444,
             "#bd3786"
            ],
            [
             0.5555555555555556,
             "#d8576b"
            ],
            [
             0.6666666666666666,
             "#ed7953"
            ],
            [
             0.7777777777777778,
             "#fb9f3a"
            ],
            [
             0.8888888888888888,
             "#fdca26"
            ],
            [
             1,
             "#f0f921"
            ]
           ],
           "sequentialminus": [
            [
             0,
             "#0d0887"
            ],
            [
             0.1111111111111111,
             "#46039f"
            ],
            [
             0.2222222222222222,
             "#7201a8"
            ],
            [
             0.3333333333333333,
             "#9c179e"
            ],
            [
             0.4444444444444444,
             "#bd3786"
            ],
            [
             0.5555555555555556,
             "#d8576b"
            ],
            [
             0.6666666666666666,
             "#ed7953"
            ],
            [
             0.7777777777777778,
             "#fb9f3a"
            ],
            [
             0.8888888888888888,
             "#fdca26"
            ],
            [
             1,
             "#f0f921"
            ]
           ]
          },
          "colorway": [
           "#636efa",
           "#EF553B",
           "#00cc96",
           "#ab63fa",
           "#FFA15A",
           "#19d3f3",
           "#FF6692",
           "#B6E880",
           "#FF97FF",
           "#FECB52"
          ],
          "font": {
           "color": "#2a3f5f"
          },
          "geo": {
           "bgcolor": "white",
           "lakecolor": "white",
           "landcolor": "#E5ECF6",
           "showlakes": true,
           "showland": true,
           "subunitcolor": "white"
          },
          "hoverlabel": {
           "align": "left"
          },
          "hovermode": "closest",
          "mapbox": {
           "style": "light"
          },
          "paper_bgcolor": "white",
          "plot_bgcolor": "#E5ECF6",
          "polar": {
           "angularaxis": {
            "gridcolor": "white",
            "linecolor": "white",
            "ticks": ""
           },
           "bgcolor": "#E5ECF6",
           "radialaxis": {
            "gridcolor": "white",
            "linecolor": "white",
            "ticks": ""
           }
          },
          "scene": {
           "xaxis": {
            "backgroundcolor": "#E5ECF6",
            "gridcolor": "white",
            "gridwidth": 2,
            "linecolor": "white",
            "showbackground": true,
            "ticks": "",
            "zerolinecolor": "white"
           },
           "yaxis": {
            "backgroundcolor": "#E5ECF6",
            "gridcolor": "white",
            "gridwidth": 2,
            "linecolor": "white",
            "showbackground": true,
            "ticks": "",
            "zerolinecolor": "white"
           },
           "zaxis": {
            "backgroundcolor": "#E5ECF6",
            "gridcolor": "white",
            "gridwidth": 2,
            "linecolor": "white",
            "showbackground": true,
            "ticks": "",
            "zerolinecolor": "white"
           }
          },
          "shapedefaults": {
           "line": {
            "color": "#2a3f5f"
           }
          },
          "ternary": {
           "aaxis": {
            "gridcolor": "white",
            "linecolor": "white",
            "ticks": ""
           },
           "baxis": {
            "gridcolor": "white",
            "linecolor": "white",
            "ticks": ""
           },
           "bgcolor": "#E5ECF6",
           "caxis": {
            "gridcolor": "white",
            "linecolor": "white",
            "ticks": ""
           }
          },
          "title": {
           "x": 0.05
          },
          "xaxis": {
           "automargin": true,
           "gridcolor": "white",
           "linecolor": "white",
           "ticks": "",
           "title": {
            "standoff": 15
           },
           "zerolinecolor": "white",
           "zerolinewidth": 2
          },
          "yaxis": {
           "automargin": true,
           "gridcolor": "white",
           "linecolor": "white",
           "ticks": "",
           "title": {
            "standoff": 15
           },
           "zerolinecolor": "white",
           "zerolinewidth": 2
          }
         }
        },
        "title": {
         "font": {
          "size": 24
         },
         "text": "🔍 3D Semantic Search Space",
         "x": 0.5
        },
        "width": 1000
       }
      }
     },
     "metadata": {},
     "output_type": "display_data"
    }
   ],
   "source": [
    "results, fig = cosine_search_3d(query)\n",
    "fig.show()"
   ]
  }
 ],
 "metadata": {
  "kernelspec": {
   "display_name": "agents",
   "language": "python",
   "name": "python3"
  },
  "language_info": {
   "codemirror_mode": {
    "name": "ipython",
    "version": 3
   },
   "file_extension": ".py",
   "mimetype": "text/x-python",
   "name": "python",
   "nbconvert_exporter": "python",
   "pygments_lexer": "ipython3",
   "version": "3.13.2"
  }
 },
 "nbformat": 4,
 "nbformat_minor": 2
}
